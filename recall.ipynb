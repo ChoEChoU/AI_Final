{
  "nbformat": 4,
  "nbformat_minor": 0,
  "metadata": {
    "colab": {
      "provenance": [],
      "authorship_tag": "ABX9TyNakCoLxQcvfF9ojcY1YXqr",
      "include_colab_link": true
    },
    "kernelspec": {
      "name": "python3",
      "display_name": "Python 3"
    },
    "language_info": {
      "name": "python"
    },
    "accelerator": "GPU",
    "gpuClass": "standard"
  },
  "cells": [
    {
      "cell_type": "markdown",
      "metadata": {
        "id": "view-in-github",
        "colab_type": "text"
      },
      "source": [
        "<a href=\"https://colab.research.google.com/github/ChoEChoU/AI_Final/blob/hht/recall.ipynb\" target=\"_parent\"><img src=\"https://colab.research.google.com/assets/colab-badge.svg\" alt=\"Open In Colab\"/></a>"
      ]
    },
    {
      "cell_type": "code",
      "execution_count": null,
      "metadata": {
        "colab": {
          "base_uri": "https://localhost:8080/"
        },
        "id": "wxXZNMu69M4P",
        "outputId": "7c956bcd-ad5e-45a9-966d-bafa04954161"
      },
      "outputs": [
        {
          "output_type": "stream",
          "name": "stdout",
          "text": [
            "Mounted at /content/drive\n"
          ]
        }
      ],
      "source": [
        "from google.colab import drive\n",
        "drive.mount('/content/drive')"
      ]
    },
    {
      "cell_type": "code",
      "execution_count": null,
      "metadata": {
        "id": "-5JK1-cG9N_k"
      },
      "outputs": [],
      "source": [
        "from PIL import Image\n",
        "from tensorflow.keras.layers import Conv2D, MaxPooling2D, Flatten, Dense,Reshape,Activation\n",
        "from tensorflow.keras.models import Sequential\n",
        "import matplotlib.pyplot as plt\n",
        "from matplotlib import image\n",
        "from PIL import Image\n",
        "from keras.layers import Dropout\n",
        "import os\n",
        "import numpy as np \n",
        "import pandas as pd\n",
        "import cv2\n",
        "from keras.callbacks import EarlyStopping "
      ]
    },
    {
      "cell_type": "code",
      "execution_count": null,
      "metadata": {
        "colab": {
          "base_uri": "https://localhost:8080/"
        },
        "id": "jF9ry9ez9OWd",
        "outputId": "cdb729a3-ca5f-4c6c-fb69-77f7cd66aab8"
      },
      "outputs": [
        {
          "output_type": "stream",
          "name": "stdout",
          "text": [
            "['Bean', 'Bitter_Gourd', 'Bottle_Gourd', 'Brinjal', 'Broccoli', 'Cabbage', 'Capsicum', 'Carrot', 'Cauliflower', 'Cucumber', 'Papaya', 'Potato', 'Pumpkin', 'Radish', 'Tomato']\n"
          ]
        }
      ],
      "source": [
        "impath = \"/content/drive/MyDrive/AI project/Vegetable Images/train\"\n",
        "class_list=os.listdir(impath) \n",
        "print(class_list)"
      ]
    },
    {
      "cell_type": "code",
      "execution_count": null,
      "metadata": {
        "id": "2ArQe2bf8mG9"
      },
      "outputs": [],
      "source": [
        "def load_imgs(path):\n",
        "  imgs=[]\n",
        "  label=[]\n",
        "  for class_name in class_list:\n",
        "      img_list = os.listdir(path + class_name)\n",
        "      for img_name in img_list:\n",
        "          temp_img = cv2.imread(path + class_name +\"/\" + img_name, cv2.COLOR_BGR2RGB)\n",
        "          if temp_img is None:\n",
        "              print(\"이미지 인식 못함\")\n",
        "          else:\n",
        "              resize_img = cv2.resize(temp_img, (128, 128))\n",
        "              imgs.append(np.array(resize_img))\n",
        "              label.append(class_name)\n",
        "  return np.array(imgs),label"
      ]
    },
    {
      "cell_type": "code",
      "execution_count": null,
      "metadata": {
        "colab": {
          "base_uri": "https://localhost:8080/"
        },
        "id": "h4IR-xyA9PcW",
        "outputId": "e2b4f5f1-77e4-44a5-8e46-af5ada8ba0a8"
      },
      "outputs": [
        {
          "output_type": "stream",
          "name": "stdout",
          "text": [
            "(15000, 128, 128, 3)\n"
          ]
        }
      ],
      "source": [
        "train_x,train_y=load_imgs('/content/drive/MyDrive/AI project/Vegetable Images/train/')\n",
        "train_y=pd.Series(train_y)\n",
        "train_x\n",
        "print(train_x.shape)"
      ]
    },
    {
      "cell_type": "code",
      "execution_count": null,
      "metadata": {
        "colab": {
          "base_uri": "https://localhost:8080/"
        },
        "id": "MKwHmRIqUoo1",
        "outputId": "f166b78e-d60c-4aac-9907-0b0781d48e3a"
      },
      "outputs": [
        {
          "output_type": "stream",
          "name": "stdout",
          "text": [
            "(3000, 128, 128, 3)\n"
          ]
        }
      ],
      "source": [
        "valid_x,valid_y=load_imgs('/content/drive/MyDrive/AI project/Vegetable Images/validation/')\n",
        "valid_y=pd.Series(valid_y)\n",
        "valid_x\n",
        "print(valid_x.shape)"
      ]
    },
    {
      "cell_type": "code",
      "execution_count": null,
      "metadata": {
        "colab": {
          "base_uri": "https://localhost:8080/"
        },
        "id": "upLrPIDj506Q",
        "outputId": "c01de206-523d-4c35-8bd5-a253d4d18c8a"
      },
      "outputs": [
        {
          "output_type": "stream",
          "name": "stdout",
          "text": [
            "(3000, 128, 128, 3)\n"
          ]
        }
      ],
      "source": [
        "test_x,test_y=load_imgs('/content/drive/MyDrive/AI project/Vegetable Images/test/')\n",
        "test_y=pd.Series(test_y)\n",
        "test_x\n",
        "print(test_x.shape)"
      ]
    },
    {
      "cell_type": "code",
      "execution_count": null,
      "metadata": {
        "id": "eSwcFp22U2T7"
      },
      "outputs": [],
      "source": [
        "name_list = [\"Bean\", \"Bitter_Gourd\", \"Bottle_Gourd\", \"Brinjal\", \"Broccoli\",\"Cabbage\",\"Capsicum\",\"Carrot\",\"Cauliflower\",\"Cucumber\",\"Papaya\",\"Potato\",\"Pumpkin\",\"Radish\",\"Tomato\"]\n",
        "index = 0\n",
        "for i in name_list:\n",
        "  test_y=test_y.replace(i,index)\n",
        "  valid_y=valid_y.replace(i,index)\n",
        "  train_y=train_y.replace(i,index)\n",
        "  index += 1  "
      ]
    },
    {
      "cell_type": "code",
      "execution_count": null,
      "metadata": {
        "id": "rAZCjbmNAYUD"
      },
      "outputs": [],
      "source": [
        "from tensorflow.keras.layers import Conv2D,MaxPooling2D,Flatten,Dense,Dropout,BatchNormalization\n",
        "from tensorflow.keras.models import Sequential \n",
        "import tensorflow as tf"
      ]
    },
    {
      "cell_type": "code",
      "execution_count": null,
      "metadata": {
        "colab": {
          "base_uri": "https://localhost:8080/"
        },
        "id": "gUx9FxkSD7Np",
        "outputId": "4973a375-fc79-46ac-cc32-9d541553ad13"
      },
      "outputs": [
        {
          "output_type": "stream",
          "name": "stdout",
          "text": [
            "Model: \"sequential_2\"\n",
            "_________________________________________________________________\n",
            " Layer (type)                Output Shape              Param #   \n",
            "=================================================================\n",
            " conv2d_6 (Conv2D)           (None, 126, 126, 32)      896       \n",
            "                                                                 \n",
            " max_pooling2d_6 (MaxPooling  (None, 63, 63, 32)       0         \n",
            " 2D)                                                             \n",
            "                                                                 \n",
            " conv2d_7 (Conv2D)           (None, 61, 61, 64)        18496     \n",
            "                                                                 \n",
            " max_pooling2d_7 (MaxPooling  (None, 30, 30, 64)       0         \n",
            " 2D)                                                             \n",
            "                                                                 \n",
            " conv2d_8 (Conv2D)           (None, 28, 28, 128)       73856     \n",
            "                                                                 \n",
            " max_pooling2d_8 (MaxPooling  (None, 14, 14, 128)      0         \n",
            " 2D)                                                             \n",
            "                                                                 \n",
            " flatten_2 (Flatten)         (None, 25088)             0         \n",
            "                                                                 \n",
            " dense_6 (Dense)             (None, 256)               6422784   \n",
            "                                                                 \n",
            " dense_7 (Dense)             (None, 512)               131584    \n",
            "                                                                 \n",
            " dense_8 (Dense)             (None, 15)                7695      \n",
            "                                                                 \n",
            "=================================================================\n",
            "Total params: 6,655,311\n",
            "Trainable params: 6,655,311\n",
            "Non-trainable params: 0\n",
            "_________________________________________________________________\n",
            "Epoch 1/50\n",
            "469/469 [==============================] - 10s 21ms/step - loss: 1.6969 - accuracy: 0.6358 - val_loss: 0.7006 - val_accuracy: 0.7900\n",
            "Epoch 2/50\n",
            "469/469 [==============================] - 9s 20ms/step - loss: 0.3853 - accuracy: 0.8807 - val_loss: 0.5267 - val_accuracy: 0.8470\n",
            "Epoch 3/50\n",
            "469/469 [==============================] - 10s 21ms/step - loss: 0.2081 - accuracy: 0.9363 - val_loss: 0.3510 - val_accuracy: 0.8987\n",
            "Epoch 4/50\n",
            "469/469 [==============================] - 9s 20ms/step - loss: 0.2146 - accuracy: 0.9357 - val_loss: 0.5955 - val_accuracy: 0.8547\n",
            "Epoch 5/50\n",
            "469/469 [==============================] - 9s 20ms/step - loss: 0.1112 - accuracy: 0.9668 - val_loss: 0.5647 - val_accuracy: 0.8800\n",
            "Epoch 6/50\n",
            "469/469 [==============================] - 9s 20ms/step - loss: 0.1441 - accuracy: 0.9589 - val_loss: 0.6243 - val_accuracy: 0.8657\n",
            "Epoch 7/50\n",
            "469/469 [==============================] - 9s 20ms/step - loss: 0.0993 - accuracy: 0.9731 - val_loss: 0.4668 - val_accuracy: 0.8920\n",
            "Epoch 8/50\n",
            "469/469 [==============================] - 9s 20ms/step - loss: 0.1471 - accuracy: 0.9609 - val_loss: 0.4724 - val_accuracy: 0.9007\n"
          ]
        }
      ],
      "source": [
        "model=tf.keras.models.Sequential([\n",
        "    tf.keras.layers.Conv2D(32,(3,3),activation='relu',input_shape=train_x.shape[1:]),\n",
        "    tf.keras.layers.MaxPooling2D(2,2),\n",
        "    tf.keras.layers.Conv2D(64,(3,3),activation='relu'),\n",
        "    tf.keras.layers.MaxPooling2D(2,2),\n",
        "    tf.keras.layers.Conv2D(128,(3,3),activation='relu'),\n",
        "    tf.keras.layers.MaxPooling2D(2,2),\n",
        "    \n",
        "    tf.keras.layers.Flatten(),\n",
        "    tf.keras.layers.Dense(256,activation='relu'),\n",
        "    tf.keras.layers.Dense(512,activation='relu'),\n",
        "    tf.keras.layers.Dense(15,activation='softmax'),\n",
        "])\n",
        "model.summary()\n",
        "model.compile(optimizer=\"adam\",loss=\"sparse_categorical_crossentropy\",metrics=[\"accuracy\"])\n",
        "early_stopping = EarlyStopping(monitor = 'val_loss', patience = 5)\n",
        "history = model.fit(train_x,train_y,epochs=50,  validation_data=(valid_x, valid_y), callbacks = [early_stopping])"
      ]
    },
    {
      "cell_type": "code",
      "execution_count": null,
      "metadata": {
        "colab": {
          "base_uri": "https://localhost:8080/",
          "height": 300
        },
        "id": "VlxGpVquYKkK",
        "outputId": "108c5ab5-399e-4805-9c54-ff7aea1c1de3"
      },
      "outputs": [
        {
          "output_type": "execute_result",
          "data": {
            "text/plain": [
              "       loss  accuracy  val_loss  val_accuracy\n",
              "0  1.696933  0.635800  0.700579      0.790000\n",
              "1  0.385339  0.880667  0.526721      0.847000\n",
              "2  0.208093  0.936333  0.350974      0.898667\n",
              "3  0.214629  0.935667  0.595492      0.854667\n",
              "4  0.111214  0.966800  0.564737      0.880000\n",
              "5  0.144057  0.958933  0.624296      0.865667\n",
              "6  0.099304  0.973067  0.466796      0.892000\n",
              "7  0.147114  0.960933  0.472361      0.900667"
            ],
            "text/html": [
              "\n",
              "  <div id=\"df-ff80ecb3-ad30-4ace-a983-ed99c02df60c\">\n",
              "    <div class=\"colab-df-container\">\n",
              "      <div>\n",
              "<style scoped>\n",
              "    .dataframe tbody tr th:only-of-type {\n",
              "        vertical-align: middle;\n",
              "    }\n",
              "\n",
              "    .dataframe tbody tr th {\n",
              "        vertical-align: top;\n",
              "    }\n",
              "\n",
              "    .dataframe thead th {\n",
              "        text-align: right;\n",
              "    }\n",
              "</style>\n",
              "<table border=\"1\" class=\"dataframe\">\n",
              "  <thead>\n",
              "    <tr style=\"text-align: right;\">\n",
              "      <th></th>\n",
              "      <th>loss</th>\n",
              "      <th>accuracy</th>\n",
              "      <th>val_loss</th>\n",
              "      <th>val_accuracy</th>\n",
              "    </tr>\n",
              "  </thead>\n",
              "  <tbody>\n",
              "    <tr>\n",
              "      <th>0</th>\n",
              "      <td>1.696933</td>\n",
              "      <td>0.635800</td>\n",
              "      <td>0.700579</td>\n",
              "      <td>0.790000</td>\n",
              "    </tr>\n",
              "    <tr>\n",
              "      <th>1</th>\n",
              "      <td>0.385339</td>\n",
              "      <td>0.880667</td>\n",
              "      <td>0.526721</td>\n",
              "      <td>0.847000</td>\n",
              "    </tr>\n",
              "    <tr>\n",
              "      <th>2</th>\n",
              "      <td>0.208093</td>\n",
              "      <td>0.936333</td>\n",
              "      <td>0.350974</td>\n",
              "      <td>0.898667</td>\n",
              "    </tr>\n",
              "    <tr>\n",
              "      <th>3</th>\n",
              "      <td>0.214629</td>\n",
              "      <td>0.935667</td>\n",
              "      <td>0.595492</td>\n",
              "      <td>0.854667</td>\n",
              "    </tr>\n",
              "    <tr>\n",
              "      <th>4</th>\n",
              "      <td>0.111214</td>\n",
              "      <td>0.966800</td>\n",
              "      <td>0.564737</td>\n",
              "      <td>0.880000</td>\n",
              "    </tr>\n",
              "    <tr>\n",
              "      <th>5</th>\n",
              "      <td>0.144057</td>\n",
              "      <td>0.958933</td>\n",
              "      <td>0.624296</td>\n",
              "      <td>0.865667</td>\n",
              "    </tr>\n",
              "    <tr>\n",
              "      <th>6</th>\n",
              "      <td>0.099304</td>\n",
              "      <td>0.973067</td>\n",
              "      <td>0.466796</td>\n",
              "      <td>0.892000</td>\n",
              "    </tr>\n",
              "    <tr>\n",
              "      <th>7</th>\n",
              "      <td>0.147114</td>\n",
              "      <td>0.960933</td>\n",
              "      <td>0.472361</td>\n",
              "      <td>0.900667</td>\n",
              "    </tr>\n",
              "  </tbody>\n",
              "</table>\n",
              "</div>\n",
              "      <button class=\"colab-df-convert\" onclick=\"convertToInteractive('df-ff80ecb3-ad30-4ace-a983-ed99c02df60c')\"\n",
              "              title=\"Convert this dataframe to an interactive table.\"\n",
              "              style=\"display:none;\">\n",
              "        \n",
              "  <svg xmlns=\"http://www.w3.org/2000/svg\" height=\"24px\"viewBox=\"0 0 24 24\"\n",
              "       width=\"24px\">\n",
              "    <path d=\"M0 0h24v24H0V0z\" fill=\"none\"/>\n",
              "    <path d=\"M18.56 5.44l.94 2.06.94-2.06 2.06-.94-2.06-.94-.94-2.06-.94 2.06-2.06.94zm-11 1L8.5 8.5l.94-2.06 2.06-.94-2.06-.94L8.5 2.5l-.94 2.06-2.06.94zm10 10l.94 2.06.94-2.06 2.06-.94-2.06-.94-.94-2.06-.94 2.06-2.06.94z\"/><path d=\"M17.41 7.96l-1.37-1.37c-.4-.4-.92-.59-1.43-.59-.52 0-1.04.2-1.43.59L10.3 9.45l-7.72 7.72c-.78.78-.78 2.05 0 2.83L4 21.41c.39.39.9.59 1.41.59.51 0 1.02-.2 1.41-.59l7.78-7.78 2.81-2.81c.8-.78.8-2.07 0-2.86zM5.41 20L4 18.59l7.72-7.72 1.47 1.35L5.41 20z\"/>\n",
              "  </svg>\n",
              "      </button>\n",
              "      \n",
              "  <style>\n",
              "    .colab-df-container {\n",
              "      display:flex;\n",
              "      flex-wrap:wrap;\n",
              "      gap: 12px;\n",
              "    }\n",
              "\n",
              "    .colab-df-convert {\n",
              "      background-color: #E8F0FE;\n",
              "      border: none;\n",
              "      border-radius: 50%;\n",
              "      cursor: pointer;\n",
              "      display: none;\n",
              "      fill: #1967D2;\n",
              "      height: 32px;\n",
              "      padding: 0 0 0 0;\n",
              "      width: 32px;\n",
              "    }\n",
              "\n",
              "    .colab-df-convert:hover {\n",
              "      background-color: #E2EBFA;\n",
              "      box-shadow: 0px 1px 2px rgba(60, 64, 67, 0.3), 0px 1px 3px 1px rgba(60, 64, 67, 0.15);\n",
              "      fill: #174EA6;\n",
              "    }\n",
              "\n",
              "    [theme=dark] .colab-df-convert {\n",
              "      background-color: #3B4455;\n",
              "      fill: #D2E3FC;\n",
              "    }\n",
              "\n",
              "    [theme=dark] .colab-df-convert:hover {\n",
              "      background-color: #434B5C;\n",
              "      box-shadow: 0px 1px 3px 1px rgba(0, 0, 0, 0.15);\n",
              "      filter: drop-shadow(0px 1px 2px rgba(0, 0, 0, 0.3));\n",
              "      fill: #FFFFFF;\n",
              "    }\n",
              "  </style>\n",
              "\n",
              "      <script>\n",
              "        const buttonEl =\n",
              "          document.querySelector('#df-ff80ecb3-ad30-4ace-a983-ed99c02df60c button.colab-df-convert');\n",
              "        buttonEl.style.display =\n",
              "          google.colab.kernel.accessAllowed ? 'block' : 'none';\n",
              "\n",
              "        async function convertToInteractive(key) {\n",
              "          const element = document.querySelector('#df-ff80ecb3-ad30-4ace-a983-ed99c02df60c');\n",
              "          const dataTable =\n",
              "            await google.colab.kernel.invokeFunction('convertToInteractive',\n",
              "                                                     [key], {});\n",
              "          if (!dataTable) return;\n",
              "\n",
              "          const docLinkHtml = 'Like what you see? Visit the ' +\n",
              "            '<a target=\"_blank\" href=https://colab.research.google.com/notebooks/data_table.ipynb>data table notebook</a>'\n",
              "            + ' to learn more about interactive tables.';\n",
              "          element.innerHTML = '';\n",
              "          dataTable['output_type'] = 'display_data';\n",
              "          await google.colab.output.renderOutput(dataTable, element);\n",
              "          const docLink = document.createElement('div');\n",
              "          docLink.innerHTML = docLinkHtml;\n",
              "          element.appendChild(docLink);\n",
              "        }\n",
              "      </script>\n",
              "    </div>\n",
              "  </div>\n",
              "  "
            ]
          },
          "metadata": {},
          "execution_count": 25
        }
      ],
      "source": [
        "history_df = pd.DataFrame(history.history)\n",
        "history_df"
      ]
    },
    {
      "cell_type": "code",
      "execution_count": null,
      "metadata": {
        "colab": {
          "base_uri": "https://localhost:8080/",
          "height": 279
        },
        "id": "dapQRYewd_Q0",
        "outputId": "0ec57ba1-dc30-4dda-d8ba-71f9483d02ac"
      },
      "outputs": [
        {
          "output_type": "display_data",
          "data": {
            "text/plain": [
              "<Figure size 432x288 with 2 Axes>"
            ],
            "image/png": "[encoded data removed]"
          },
          "metadata": {
            "needs_background": "light"
          }
        }
      ],
      "source": [
        "fig, loss_ax = plt.subplots()\n",
        "acc_ax = loss_ax.twinx()\n",
        "\n",
        "loss_ax.plot(history.history['loss'], 'y', label = 'train loss')\n",
        "loss_ax.plot(history.history['val_loss'], 'r', label = 'val loss')\n",
        "\n",
        "acc_ax.plot(history.history['accuracy'], 'b', label = 'train accuracy')\n",
        "acc_ax.plot(history.history['val_accuracy'], 'g', label = 'val accuracy')\n",
        "\n",
        "loss_ax.set_xlabel('epoch')\n",
        "loss_ax.set_ylabel('loss')\n",
        "acc_ax.set_ylabel('accuracy')\n",
        "\n",
        "loss_ax.legend(loc = 'upper left')\n",
        "acc_ax.legend(loc = 'lower left')\n",
        "\n",
        "plt.show()"
      ]
    },
    {
      "cell_type": "code",
      "execution_count": null,
      "metadata": {
        "colab": {
          "base_uri": "https://localhost:8080/"
        },
        "id": "_OkmHh0KCV7k",
        "outputId": "0e2c8286-c907-44f0-fb7e-de098084b3be"
      },
      "outputs": [
        {
          "output_type": "stream",
          "name": "stdout",
          "text": [
            "469/469 [==============================] - 5s 10ms/step - loss: 0.0637 - accuracy: 0.9808\n",
            "[0.06367169320583344, 0.9807999730110168]\n"
          ]
        }
      ],
      "source": [
        "acc = model.evaluate(train_x,train_y)\n",
        "print(acc)"
      ]
    },
    {
      "cell_type": "code",
      "execution_count": null,
      "metadata": {
        "colab": {
          "base_uri": "https://localhost:8080/"
        },
        "id": "KrUqzoqgC-fe",
        "outputId": "2d476da5-aa00-4a48-e62a-bfd5db3bf1f7"
      },
      "outputs": [
        {
          "output_type": "stream",
          "name": "stdout",
          "text": [
            "94/94 [==============================] - 1s 7ms/step\n"
          ]
        },
        {
          "output_type": "execute_result",
          "data": {
            "text/plain": [
              "3000"
            ]
          },
          "metadata": {},
          "execution_count": 28
        }
      ],
      "source": [
        "y_pred=model.predict(test_x)\n",
        "len(y_pred)"
      ]
    },
    {
      "cell_type": "code",
      "execution_count": null,
      "metadata": {
        "id": "NyL6Cl2rO_X2"
      },
      "outputs": [],
      "source": [
        "def acc(_test, _y):\n",
        "    Tp = 0\n",
        "    Negative = 0\n",
        "    cnt = 0\n",
        "    for num in _test:\n",
        "        if np.argmax(num)==_y[cnt]:\n",
        "            Tp+=1\n",
        "        else:\n",
        "            Negative += 1\n",
        "        cnt += 1\n",
        "    print(\"맞춘 갯수 : \", Tp)\n",
        "    print(\"틀린 갯수 : \", Negative)\n",
        "    print(\"정확도 : \", Tp/(Tp+Negative)*100, \"%\")"
      ]
    },
    {
      "cell_type": "code",
      "execution_count": null,
      "metadata": {
        "colab": {
          "base_uri": "https://localhost:8080/"
        },
        "id": "WY-EFAVrO_Vb",
        "outputId": "85f98a80-0e35-448b-8642-13ba88c2133d"
      },
      "outputs": [
        {
          "output_type": "stream",
          "name": "stdout",
          "text": [
            "맞춘 갯수 :  2710\n",
            "틀린 갯수 :  290\n",
            "정확도 :  90.33333333333333 %\n"
          ]
        }
      ],
      "source": [
        "acc(y_pred, test_y)"
      ]
    },
    {
      "cell_type": "code",
      "execution_count": null,
      "metadata": {
        "colab": {
          "base_uri": "https://localhost:8080/"
        },
        "id": "mG0kzHqXDEC6",
        "outputId": "e5f1414a-1b9b-423d-c436-d118eed55855"
      },
      "outputs": [
        {
          "output_type": "stream",
          "name": "stdout",
          "text": [
            "94/94 [==============================] - 1s 7ms/step\n"
          ]
        },
        {
          "output_type": "execute_result",
          "data": {
            "text/plain": [
              "0.9033333333333333"
            ]
          },
          "metadata": {},
          "execution_count": 31
        }
      ],
      "source": [
        "from sklearn.metrics import accuracy_score\n",
        "\n",
        "y_pred=model.predict(test_x)\n",
        "y_pred=np.argmax(y_pred, axis=-1)\n",
        "\n",
        "accuracy_score(test_y,y_pred)"
      ]
    },
    {
      "cell_type": "code",
      "execution_count": null,
      "metadata": {
        "colab": {
          "base_uri": "https://localhost:8080/",
          "height": 109
        },
        "id": "dwAdqbaYDE_h",
        "outputId": "7c9b1f28-572e-45be-bcd0-2fd1352f8f9f"
      },
      "outputs": [
        {
          "output_type": "execute_result",
          "data": {
            "text/plain": [
              "'              precision    recall  f1-score   support\\n\\n           0       0.85      0.92      0.88       200\\n           1       0.75      0.94      0.83       200\\n           2       0.98      0.97      0.97       200\\n           3       0.89      0.83      0.86       200\\n           4       0.90      0.90      0.90       200\\n           5       0.80      0.85      0.82       200\\n           6       0.98      0.96      0.97       200\\n           7       0.98      0.98      0.98       200\\n           8       0.83      0.84      0.84       200\\n           9       0.96      0.81      0.88       200\\n          10       0.98      0.94      0.96       200\\n          11       0.95      0.97      0.96       200\\n          12       0.87      0.87      0.87       200\\n          13       0.97      0.94      0.95       200\\n          14       0.94      0.83      0.88       200\\n\\n    accuracy                           0.90      3000\\n   macro avg       0.91      0.90      0.90      3000\\nweighted avg       0.91      0.90      0.90      3000\\n'"
            ],
            "application/vnd.google.colaboratory.intrinsic+json": {
              "type": "string"
            }
          },
          "metadata": {},
          "execution_count": 32
        }
      ],
      "source": [
        "from sklearn.metrics import confusion_matrix, classification_report\n",
        "classification_report(test_y, y_pred)"
      ]
    },
    {
      "cell_type": "code",
      "source": [
        "              precision    recall  f1-score   support\n",
        "\n",
        "           0       0.85      0.92      0.88       200\n",
        "           1       0.75      0.94      0.83       200\n",
        "           2       0.98      0.97      0.97       200\n",
        "           3       0.89      0.83      0.86       200\n",
        "           4       0.90      0.90      0.90       200\n",
        "           5       0.80      0.85      0.82       200\n",
        "           6       0.98      0.96      0.97       200\n",
        "           7       0.98      0.98      0.98       200\n",
        "           8       0.83      0.84      0.84       200\n",
        "           9       0.96      0.81      0.88       200\n",
        "          10       0.98      0.94      0.96       200\n",
        "          11       0.95      0.97      0.96       200\n",
        "          12       0.87      0.87      0.87       200\n",
        "          13       0.97      0.94      0.95       200\n",
        "          14       0.94      0.83      0.88       200\n",
        "\n",
        "    accuracy                           0.90      3000\n",
        "   macro avg       0.91      0.90      0.90      3000\n",
        "weighted avg       0.91      0.90      0.90      3000\n"
      ],
      "metadata": {
        "id": "yJyfm-M_ePuO"
      },
      "execution_count": null,
      "outputs": []
    },
    {
      "cell_type": "code",
      "source": [
        "def plot_roc_curve(fper, tper):\n",
        "    plt.plot(fper, tper, color='red', label='ROC')\n",
        "    plt.plot([0, 1], [0, 1], color='green', linestyle='--')\n",
        "    plt.xlabel('False Positive Rate')\n",
        "    plt.ylabel('True Positive Rate')\n",
        "    plt.title('Receiver Operating Characteristic Curve')\n",
        "    plt.legend()\n",
        "    plt.show()"
      ],
      "metadata": {
        "id": "QAsv0BGSejzL"
      },
      "execution_count": null,
      "outputs": []
    },
    {
      "cell_type": "code",
      "execution_count": null,
      "metadata": {
        "colab": {
          "base_uri": "https://localhost:8080/",
          "height": 332
        },
        "id": "PZBCfQTkyjB6",
        "outputId": "d7ea2de5-26c5-4287-f9ac-d61ea14f5e73"
      },
      "outputs": [
        {
          "output_type": "stream",
          "name": "stdout",
          "text": [
            "94/94 [==============================] - 1s 7ms/step\n",
            "[ 0  0  1 ...  1 14 14]\n"
          ]
        },
        {
          "output_type": "display_data",
          "data": {
            "text/plain": [
              "<Figure size 432x288 with 1 Axes>"
            ],
            "image/png": "[encoded data removed]"
          },
          "metadata": {
            "needs_background": "light"
          }
        }
      ],
      "source": [
        "from sklearn.metrics import roc_curve\n",
        "\n",
        "\n",
        "y_pred=model.predict(test_x)\n",
        "y_pred=np.argmax(y_pred, axis=-1)\n",
        "print(y_pred)\n",
        "fper, tper, thresholds = roc_curve(test_y, y_pred, pos_label=14)\n",
        "plot_roc_curve(fper, tper)"
      ]
    },
    {
      "cell_type": "code",
      "source": [
        "classes = list(test_x)\n",
        "real_classes = [classes[x] for x in test_y]\n",
        "\n",
        "pred = tf.argmax(model.predict(test_x),axis=1)\n",
        "pred_classes = [classes[x] for x in pred]"
      ],
      "metadata": {
        "colab": {
          "base_uri": "https://localhost:8080/"
        },
        "id": "qQ0p0Ct0e9_r",
        "outputId": "63d5898c-89de-43ec-d5ea-5a2b33d7970c"
      },
      "execution_count": null,
      "outputs": [
        {
          "output_type": "stream",
          "name": "stdout",
          "text": [
            "94/94 [==============================] - 1s 7ms/step\n"
          ]
        }
      ]
    },
    {
      "cell_type": "code",
      "source": [
        "import seaborn as sns\n",
        "\n",
        "m = pd.DataFrame(prediction, index = [i for i in range(len(prediction[0]))], columns = [i for i in range(len(prediction[0]))])\n",
        "plt.figure(figsize=(15,15))\n",
        "plt.title(\"confusion matrix\")\n",
        "con_matric = sns.heatmap(m,annot=True,fmt='d',cmap=\"YlGn\")\n",
        "con_matric.set_xlabel(\"Real\")\n",
        "con_matric.set_ylabel(\"Predict\")"
      ],
      "metadata": {
        "id": "Ic8X0x2cnXpo",
        "colab": {
          "base_uri": "https://localhost:8080/",
          "height": 911
        },
        "outputId": "7dc60878-7741-4209-aa48-171b6e491e85"
      },
      "execution_count": null,
      "outputs": [
        {
          "output_type": "execute_result",
          "data": {
            "text/plain": [
              "Text(114.0, 0.5, 'Predict')"
            ]
          },
          "metadata": {},
          "execution_count": 57
        },
        {
          "output_type": "display_data",
          "data": {
            "text/plain": [
              "<Figure size 1080x1080 with 2 Axes>"
            ],
            "image/png": "[encoded data removed]"
          },
          "metadata": {
            "needs_background": "light"
          }
        }
      ]
    }
  ]
}