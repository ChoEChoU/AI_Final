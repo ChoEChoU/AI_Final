{
  "nbformat": 4,
  "nbformat_minor": 0,
  "metadata": {
    "colab": {
      "provenance": [],
      "mount_file_id": "150WjOQvqhrca32uimBRu8Jrvwy-dvRPv",
      "authorship_tag": "ABX9TyObvTTtJNBcqaWuclgE6OVi",
      "include_colab_link": true
    },
    "kernelspec": {
      "name": "python3",
      "display_name": "Python 3"
    },
    "language_info": {
      "name": "python"
    },
    "accelerator": "GPU",
    "gpuClass": "standard"
  },
  "cells": [
    {
      "cell_type": "markdown",
      "metadata": {
        "id": "view-in-github",
        "colab_type": "text"
      },
      "source": [
        "<a href=\"https://colab.research.google.com/github/ChoEChoU/AI_Final/blob/hht/epoch50.ipynb\" target=\"_parent\"><img src=\"https://colab.research.google.com/assets/colab-badge.svg\" alt=\"Open In Colab\"/></a>"
      ]
    },
    {
      "cell_type": "code",
      "execution_count": null,
      "metadata": {
        "id": "wxXZNMu69M4P"
      },
      "outputs": [],
      "source": [
        "from google.colab import drive\n",
        "drive.mount('/content/drive')"
      ]
    },
    {
      "cell_type": "code",
      "execution_count": null,
      "metadata": {
        "id": "-5JK1-cG9N_k"
      },
      "outputs": [],
      "source": [
        "from PIL import Image\n",
        "from tensorflow.keras.layers import Conv2D, MaxPooling2D, Flatten, Dense,Reshape,Activation\n",
        "from tensorflow.keras.models import Sequential\n",
        "import matplotlib.pyplot as plt\n",
        "from matplotlib import image\n",
        "from PIL import Image\n",
        "from keras.layers import Dropout\n",
        "import os\n",
        "import numpy as np \n",
        "import pandas as pd\n",
        "import cv2"
      ]
    },
    {
      "cell_type": "code",
      "execution_count": null,
      "metadata": {
        "colab": {
          "base_uri": "https://localhost:8080/"
        },
        "id": "jF9ry9ez9OWd",
        "outputId": "5f76989a-498e-43aa-dd34-aaec7ed0c40c"
      },
      "outputs": [
        {
          "output_type": "stream",
          "name": "stdout",
          "text": [
            "['Bean', 'Bitter_Gourd', 'Bottle_Gourd', 'Brinjal', 'Broccoli', 'Cabbage', 'Capsicum', 'Carrot', 'Cauliflower', 'Cucumber', 'Papaya', 'Potato', 'Pumpkin', 'Radish', 'Tomato']\n"
          ]
        }
      ],
      "source": [
        "impath = \"/content/drive/MyDrive/AI project/Vegetable Images/train/\"\n",
        "class_list=os.listdir(impath) \n",
        "print(class_list)"
      ]
    },
    {
      "cell_type": "code",
      "execution_count": null,
      "metadata": {
        "id": "2ArQe2bf8mG9"
      },
      "outputs": [],
      "source": [
        "def load_imgs(path):\n",
        "  imgs=[]\n",
        "  label=[]\n",
        "  for class_name in class_list:\n",
        "      img_list = os.listdir(path + class_name)\n",
        "      for img_name in img_list:\n",
        "          temp_img = cv2.imread(path + class_name +\"/\" + img_name, cv2.COLOR_BGR2RGB)\n",
        "          if temp_img is None:\n",
        "              print(\"이미지 인식 못함\")\n",
        "          else:\n",
        "              resize_img = cv2.resize(temp_img, (128, 128))\n",
        "              imgs.append(np.array(resize_img))\n",
        "              label.append(class_name)\n",
        "  return np.array(imgs),label"
      ]
    },
    {
      "cell_type": "code",
      "execution_count": null,
      "metadata": {
        "id": "h4IR-xyA9PcW",
        "colab": {
          "base_uri": "https://localhost:8080/"
        },
        "outputId": "73fcb2e2-e6e4-48f1-fa17-ecc702aec19d"
      },
      "outputs": [
        {
          "output_type": "stream",
          "name": "stdout",
          "text": [
            "(15000, 128, 128, 3)\n"
          ]
        }
      ],
      "source": [
        "train_x,train_y=load_imgs('/content/drive/MyDrive/AI project/Vegetable Images/train/')\n",
        "train_y=pd.Series(train_y)\n",
        "train_x\n",
        "print(train_x.shape)"
      ]
    },
    {
      "cell_type": "code",
      "execution_count": null,
      "metadata": {
        "id": "MKwHmRIqUoo1",
        "colab": {
          "base_uri": "https://localhost:8080/"
        },
        "outputId": "a52b207e-cae5-4506-93a3-bb10a694bc32"
      },
      "outputs": [
        {
          "output_type": "stream",
          "name": "stdout",
          "text": [
            "(3000, 128, 128, 3)\n"
          ]
        }
      ],
      "source": [
        "valid_x,valid_y=load_imgs('/content/drive/MyDrive/AI project/Vegetable Images/validation/')\n",
        "valid_y=pd.Series(valid_y)\n",
        "valid_x\n",
        "print(valid_x.shape)"
      ]
    },
    {
      "cell_type": "code",
      "execution_count": null,
      "metadata": {
        "colab": {
          "base_uri": "https://localhost:8080/"
        },
        "id": "upLrPIDj506Q",
        "outputId": "3f82d714-0f96-428c-d012-17163964ab08"
      },
      "outputs": [
        {
          "output_type": "stream",
          "name": "stdout",
          "text": [
            "(3000, 128, 128, 3)\n"
          ]
        }
      ],
      "source": [
        "test_x,test_y=load_imgs('/content/drive/MyDrive/AI project/Vegetable Images/test/')\n",
        "test_y=pd.Series(test_y)\n",
        "test_x\n",
        "print(test_x.shape)"
      ]
    },
    {
      "cell_type": "code",
      "execution_count": null,
      "metadata": {
        "id": "eSwcFp22U2T7"
      },
      "outputs": [],
      "source": [
        "name_list = [\"Bean\", \"Bitter_Gourd\", \"Bottle_Gourd\", \"Brinjal\", \"Broccoli\",\"Cabbage\",\"Capsicum\",\"Carrot\",\"Cauliflower\",\"Cucumber\",\"Papaya\",\"Potato\",\"Pumpkin\",\"Radish\",\"Tomato\"]\n",
        "index = 0\n",
        "for i in name_list:\n",
        "  test_y=test_y.replace(i,index)\n",
        "  valid_y=valid_y.replace(i,index)\n",
        "  train_y=train_y.replace(i,index)\n",
        "  index += 1  "
      ]
    },
    {
      "cell_type": "code",
      "execution_count": null,
      "metadata": {
        "id": "rAZCjbmNAYUD"
      },
      "outputs": [],
      "source": [
        "from tensorflow.keras.layers import Conv2D,MaxPooling2D,Flatten,Dense,Dropout,BatchNormalization\n",
        "from tensorflow.keras.models import Sequential \n",
        "import tensorflow as tf"
      ]
    },
    {
      "cell_type": "code",
      "execution_count": null,
      "metadata": {
        "id": "gUx9FxkSD7Np",
        "colab": {
          "base_uri": "https://localhost:8080/"
        },
        "outputId": "b43f8879-c8a5-4880-af14-ea37e6a15fbe"
      },
      "outputs": [
        {
          "output_type": "stream",
          "name": "stdout",
          "text": [
            "Model: \"sequential\"\n",
            "_________________________________________________________________\n",
            " Layer (type)                Output Shape              Param #   \n",
            "=================================================================\n",
            " conv2d (Conv2D)             (None, 126, 126, 32)      896       \n",
            "                                                                 \n",
            " max_pooling2d (MaxPooling2D  (None, 63, 63, 32)       0         \n",
            " )                                                               \n",
            "                                                                 \n",
            " conv2d_1 (Conv2D)           (None, 61, 61, 64)        18496     \n",
            "                                                                 \n",
            " max_pooling2d_1 (MaxPooling  (None, 30, 30, 64)       0         \n",
            " 2D)                                                             \n",
            "                                                                 \n",
            " conv2d_2 (Conv2D)           (None, 28, 28, 128)       73856     \n",
            "                                                                 \n",
            " max_pooling2d_2 (MaxPooling  (None, 14, 14, 128)      0         \n",
            " 2D)                                                             \n",
            "                                                                 \n",
            " flatten (Flatten)           (None, 25088)             0         \n",
            "                                                                 \n",
            " dense (Dense)               (None, 256)               6422784   \n",
            "                                                                 \n",
            " dense_1 (Dense)             (None, 512)               131584    \n",
            "                                                                 \n",
            " dense_2 (Dense)             (None, 15)                7695      \n",
            "                                                                 \n",
            "=================================================================\n",
            "Total params: 6,655,311\n",
            "Trainable params: 6,655,311\n",
            "Non-trainable params: 0\n",
            "_________________________________________________________________\n",
            "Epoch 1/50\n",
            "469/469 [==============================] - 19s 23ms/step - loss: 2.7708 - accuracy: 0.5291 - val_loss: 0.8730 - val_accuracy: 0.7130\n",
            "Epoch 2/50\n",
            "469/469 [==============================] - 10s 21ms/step - loss: 0.6424 - accuracy: 0.7993 - val_loss: 0.7158 - val_accuracy: 0.7900\n",
            "Epoch 3/50\n",
            "469/469 [==============================] - 10s 21ms/step - loss: 0.3048 - accuracy: 0.9040 - val_loss: 0.5975 - val_accuracy: 0.8287\n",
            "Epoch 4/50\n",
            "469/469 [==============================] - 10s 21ms/step - loss: 0.1963 - accuracy: 0.9395 - val_loss: 0.5383 - val_accuracy: 0.8640\n",
            "Epoch 5/50\n",
            "469/469 [==============================] - 10s 22ms/step - loss: 0.1917 - accuracy: 0.9431 - val_loss: 0.6771 - val_accuracy: 0.8507\n",
            "Epoch 6/50\n",
            "469/469 [==============================] - 10s 21ms/step - loss: 0.1758 - accuracy: 0.9485 - val_loss: 0.6496 - val_accuracy: 0.8557\n",
            "Epoch 7/50\n",
            "469/469 [==============================] - 11s 23ms/step - loss: 0.1456 - accuracy: 0.9573 - val_loss: 0.8170 - val_accuracy: 0.8303\n",
            "Epoch 8/50\n",
            "469/469 [==============================] - 10s 21ms/step - loss: 0.1177 - accuracy: 0.9659 - val_loss: 0.8548 - val_accuracy: 0.8230\n",
            "Epoch 9/50\n",
            "469/469 [==============================] - 10s 21ms/step - loss: 0.1569 - accuracy: 0.9602 - val_loss: 0.7069 - val_accuracy: 0.8630\n",
            "Epoch 10/50\n",
            "469/469 [==============================] - 10s 20ms/step - loss: 0.1057 - accuracy: 0.9706 - val_loss: 0.7946 - val_accuracy: 0.8560\n",
            "Epoch 11/50\n",
            "469/469 [==============================] - 10s 21ms/step - loss: 0.1253 - accuracy: 0.9645 - val_loss: 0.7496 - val_accuracy: 0.8713\n",
            "Epoch 12/50\n",
            "469/469 [==============================] - 10s 21ms/step - loss: 0.0825 - accuracy: 0.9774 - val_loss: 0.9079 - val_accuracy: 0.8433\n",
            "Epoch 13/50\n",
            "469/469 [==============================] - 10s 22ms/step - loss: 0.1135 - accuracy: 0.9712 - val_loss: 1.0900 - val_accuracy: 0.8357\n",
            "Epoch 14/50\n",
            "469/469 [==============================] - 10s 22ms/step - loss: 0.1003 - accuracy: 0.9721 - val_loss: 0.9663 - val_accuracy: 0.8297\n",
            "Epoch 15/50\n",
            "469/469 [==============================] - 10s 22ms/step - loss: 0.0879 - accuracy: 0.9777 - val_loss: 0.9163 - val_accuracy: 0.8223\n",
            "Epoch 16/50\n",
            "469/469 [==============================] - 10s 21ms/step - loss: 0.0998 - accuracy: 0.9750 - val_loss: 0.7395 - val_accuracy: 0.8750\n",
            "Epoch 17/50\n",
            "469/469 [==============================] - 10s 22ms/step - loss: 0.0897 - accuracy: 0.9782 - val_loss: 0.8343 - val_accuracy: 0.8540\n",
            "Epoch 18/50\n",
            "469/469 [==============================] - 10s 20ms/step - loss: 0.1102 - accuracy: 0.9741 - val_loss: 0.7852 - val_accuracy: 0.8633\n",
            "Epoch 19/50\n",
            "469/469 [==============================] - 10s 22ms/step - loss: 0.0368 - accuracy: 0.9911 - val_loss: 0.9971 - val_accuracy: 0.8577\n",
            "Epoch 20/50\n",
            "469/469 [==============================] - 10s 22ms/step - loss: 0.0960 - accuracy: 0.9770 - val_loss: 0.9073 - val_accuracy: 0.8643\n",
            "Epoch 21/50\n",
            "469/469 [==============================] - 10s 21ms/step - loss: 0.1256 - accuracy: 0.9723 - val_loss: 1.0663 - val_accuracy: 0.8527\n",
            "Epoch 22/50\n",
            "469/469 [==============================] - 10s 20ms/step - loss: 0.0940 - accuracy: 0.9781 - val_loss: 1.1354 - val_accuracy: 0.8387\n",
            "Epoch 23/50\n",
            "469/469 [==============================] - 10s 21ms/step - loss: 0.0874 - accuracy: 0.9801 - val_loss: 0.8909 - val_accuracy: 0.8640\n",
            "Epoch 24/50\n",
            "469/469 [==============================] - 10s 22ms/step - loss: 0.0504 - accuracy: 0.9883 - val_loss: 0.9024 - val_accuracy: 0.8750\n",
            "Epoch 25/50\n",
            "469/469 [==============================] - 10s 20ms/step - loss: 0.0238 - accuracy: 0.9941 - val_loss: 1.2488 - val_accuracy: 0.8490\n",
            "Epoch 26/50\n",
            "469/469 [==============================] - 10s 21ms/step - loss: 0.1091 - accuracy: 0.9773 - val_loss: 1.2328 - val_accuracy: 0.8567\n",
            "Epoch 27/50\n",
            "469/469 [==============================] - 10s 22ms/step - loss: 0.0894 - accuracy: 0.9827 - val_loss: 1.0390 - val_accuracy: 0.8630\n",
            "Epoch 28/50\n",
            "469/469 [==============================] - 10s 20ms/step - loss: 0.0475 - accuracy: 0.9887 - val_loss: 1.1701 - val_accuracy: 0.8647\n",
            "Epoch 29/50\n",
            "469/469 [==============================] - 10s 20ms/step - loss: 0.1357 - accuracy: 0.9743 - val_loss: 0.9424 - val_accuracy: 0.8593\n",
            "Epoch 30/50\n",
            "469/469 [==============================] - 10s 20ms/step - loss: 0.0280 - accuracy: 0.9930 - val_loss: 1.1107 - val_accuracy: 0.8740\n",
            "Epoch 31/50\n",
            "469/469 [==============================] - 10s 22ms/step - loss: 0.0262 - accuracy: 0.9941 - val_loss: 1.4415 - val_accuracy: 0.8437\n",
            "Epoch 32/50\n",
            "469/469 [==============================] - 10s 22ms/step - loss: 0.1335 - accuracy: 0.9763 - val_loss: 2.1755 - val_accuracy: 0.8193\n",
            "Epoch 33/50\n",
            "469/469 [==============================] - 10s 20ms/step - loss: 0.1230 - accuracy: 0.9782 - val_loss: 1.4297 - val_accuracy: 0.8530\n",
            "Epoch 34/50\n",
            "469/469 [==============================] - 10s 22ms/step - loss: 0.0598 - accuracy: 0.9884 - val_loss: 1.3080 - val_accuracy: 0.8493\n",
            "Epoch 35/50\n",
            "469/469 [==============================] - 10s 20ms/step - loss: 0.0539 - accuracy: 0.9894 - val_loss: 1.4941 - val_accuracy: 0.8360\n",
            "Epoch 36/50\n",
            "469/469 [==============================] - 10s 20ms/step - loss: 0.0885 - accuracy: 0.9817 - val_loss: 1.3742 - val_accuracy: 0.8573\n",
            "Epoch 37/50\n",
            "469/469 [==============================] - 10s 21ms/step - loss: 0.0395 - accuracy: 0.9929 - val_loss: 1.2678 - val_accuracy: 0.8673\n",
            "Epoch 38/50\n",
            "469/469 [==============================] - 10s 20ms/step - loss: 0.0867 - accuracy: 0.9861 - val_loss: 1.3628 - val_accuracy: 0.8593\n",
            "Epoch 39/50\n",
            "469/469 [==============================] - 10s 20ms/step - loss: 0.0749 - accuracy: 0.9869 - val_loss: 1.6375 - val_accuracy: 0.8343\n",
            "Epoch 40/50\n",
            "469/469 [==============================] - 10s 22ms/step - loss: 0.0691 - accuracy: 0.9883 - val_loss: 1.3829 - val_accuracy: 0.8647\n",
            "Epoch 41/50\n",
            "469/469 [==============================] - 10s 20ms/step - loss: 0.0260 - accuracy: 0.9941 - val_loss: 1.3387 - val_accuracy: 0.8697\n",
            "Epoch 42/50\n",
            "469/469 [==============================] - 10s 20ms/step - loss: 0.0451 - accuracy: 0.9913 - val_loss: 1.5461 - val_accuracy: 0.8667\n",
            "Epoch 43/50\n",
            "469/469 [==============================] - 10s 22ms/step - loss: 0.1584 - accuracy: 0.9773 - val_loss: 1.1939 - val_accuracy: 0.8483\n",
            "Epoch 44/50\n",
            "469/469 [==============================] - 10s 20ms/step - loss: 0.0239 - accuracy: 0.9948 - val_loss: 1.3154 - val_accuracy: 0.8717\n",
            "Epoch 45/50\n",
            "469/469 [==============================] - 10s 22ms/step - loss: 0.0297 - accuracy: 0.9957 - val_loss: 1.7300 - val_accuracy: 0.8470\n",
            "Epoch 46/50\n",
            "469/469 [==============================] - 10s 20ms/step - loss: 0.0274 - accuracy: 0.9949 - val_loss: 1.8825 - val_accuracy: 0.8657\n",
            "Epoch 47/50\n",
            "469/469 [==============================] - 10s 20ms/step - loss: 0.1717 - accuracy: 0.9772 - val_loss: 1.7372 - val_accuracy: 0.8430\n",
            "Epoch 48/50\n",
            "469/469 [==============================] - 10s 22ms/step - loss: 0.0627 - accuracy: 0.9880 - val_loss: 2.0570 - val_accuracy: 0.8530\n",
            "Epoch 49/50\n",
            "469/469 [==============================] - 10s 22ms/step - loss: 0.0757 - accuracy: 0.9909 - val_loss: 1.6632 - val_accuracy: 0.8633\n",
            "Epoch 50/50\n",
            "469/469 [==============================] - 10s 20ms/step - loss: 0.0567 - accuracy: 0.9923 - val_loss: 1.3850 - val_accuracy: 0.8533\n"
          ]
        }
      ],
      "source": [
        "model=tf.keras.models.Sequential([\n",
        "    tf.keras.layers.Conv2D(32,(3,3),activation='relu',input_shape=train_x.shape[1:]),\n",
        "    tf.keras.layers.MaxPooling2D(2,2),\n",
        "    tf.keras.layers.Conv2D(64,(3,3),activation='relu'),\n",
        "    tf.keras.layers.MaxPooling2D(2,2),\n",
        "    tf.keras.layers.Conv2D(128,(3,3),activation='relu'),\n",
        "    tf.keras.layers.MaxPooling2D(2,2),\n",
        "    \n",
        "    tf.keras.layers.Flatten(),\n",
        "    tf.keras.layers.Dense(256,activation='relu'),\n",
        "    tf.keras.layers.Dense(512,activation='relu'),\n",
        "    tf.keras.layers.Dense(15,activation='softmax'),\n",
        "])\n",
        "model.summary()\n",
        "model.compile(optimizer=\"adam\",loss=\"sparse_categorical_crossentropy\",metrics=[\"accuracy\"])\n",
        "history = model.fit(train_x,train_y,epochs=50,  validation_data=(valid_x, valid_y))"
      ]
    },
    {
      "cell_type": "code",
      "execution_count": null,
      "metadata": {
        "id": "VlxGpVquYKkK",
        "colab": {
          "base_uri": "https://localhost:8080/",
          "height": 1000
        },
        "outputId": "c36446ba-6904-4e1c-96ac-d82f4591bcb0"
      },
      "outputs": [
        {
          "output_type": "execute_result",
          "data": {
            "text/plain": [
              "        loss  accuracy  val_loss  val_accuracy\n",
              "0   2.770774  0.529067  0.872977      0.713000\n",
              "1   0.642422  0.799267  0.715815      0.790000\n",
              "2   0.304843  0.904000  0.597502      0.828667\n",
              "3   0.196343  0.939467  0.538289      0.864000\n",
              "4   0.191667  0.943133  0.677110      0.850667\n",
              "5   0.175817  0.948467  0.649618      0.855667\n",
              "6   0.145634  0.957267  0.816954      0.830333\n",
              "7   0.117742  0.965867  0.854846      0.823000\n",
              "8   0.156938  0.960200  0.706933      0.863000\n",
              "9   0.105670  0.970600  0.794632      0.856000\n",
              "10  0.125303  0.964467  0.749636      0.871333\n",
              "11  0.082493  0.977400  0.907921      0.843333\n",
              "12  0.113468  0.971200  1.090038      0.835667\n",
              "13  0.100255  0.972133  0.966316      0.829667\n",
              "14  0.087877  0.977667  0.916347      0.822333\n",
              "15  0.099780  0.975000  0.739507      0.875000\n",
              "16  0.089677  0.978200  0.834298      0.854000\n",
              "17  0.110180  0.974067  0.785210      0.863333\n",
              "18  0.036798  0.991067  0.997125      0.857667\n",
              "19  0.095960  0.977000  0.907337      0.864333\n",
              "20  0.125572  0.972267  1.066290      0.852667\n",
              "21  0.093999  0.978133  1.135413      0.838667\n",
              "22  0.087394  0.980067  0.890899      0.864000\n",
              "23  0.050422  0.988333  0.902412      0.875000\n",
              "24  0.023763  0.994067  1.248784      0.849000\n",
              "25  0.109066  0.977333  1.232807      0.856667\n",
              "26  0.089388  0.982733  1.039044      0.863000\n",
              "27  0.047480  0.988733  1.170134      0.864667\n",
              "28  0.135696  0.974333  0.942448      0.859333\n",
              "29  0.027964  0.993000  1.110711      0.874000\n",
              "30  0.026235  0.994067  1.441458      0.843667\n",
              "31  0.133474  0.976333  2.175454      0.819333\n",
              "32  0.122975  0.978200  1.429733      0.853000\n",
              "33  0.059768  0.988400  1.307951      0.849333\n",
              "34  0.053857  0.989400  1.494067      0.836000\n",
              "35  0.088537  0.981667  1.374163      0.857333\n",
              "36  0.039477  0.992867  1.267776      0.867333\n",
              "37  0.086708  0.986067  1.362809      0.859333\n",
              "38  0.074884  0.986867  1.637462      0.834333\n",
              "39  0.069051  0.988267  1.382882      0.864667\n",
              "40  0.025999  0.994067  1.338672      0.869667\n",
              "41  0.045082  0.991333  1.546092      0.866667\n",
              "42  0.158368  0.977267  1.193883      0.848333\n",
              "43  0.023852  0.994800  1.315397      0.871667\n",
              "44  0.029655  0.995733  1.730021      0.847000\n",
              "45  0.027350  0.994867  1.882543      0.865667\n",
              "46  0.171736  0.977200  1.737186      0.843000\n",
              "47  0.062666  0.988000  2.057044      0.853000\n",
              "48  0.075701  0.990933  1.663239      0.863333\n",
              "49  0.056683  0.992267  1.384979      0.853333"
            ],
            "text/html": [
              "\n",
              "  <div id=\"df-1cca8a41-4710-4c25-a8a6-42c2460f1e48\">\n",
              "    <div class=\"colab-df-container\">\n",
              "      <div>\n",
              "<style scoped>\n",
              "    .dataframe tbody tr th:only-of-type {\n",
              "        vertical-align: middle;\n",
              "    }\n",
              "\n",
              "    .dataframe tbody tr th {\n",
              "        vertical-align: top;\n",
              "    }\n",
              "\n",
              "    .dataframe thead th {\n",
              "        text-align: right;\n",
              "    }\n",
              "</style>\n",
              "<table border=\"1\" class=\"dataframe\">\n",
              "  <thead>\n",
              "    <tr style=\"text-align: right;\">\n",
              "      <th></th>\n",
              "      <th>loss</th>\n",
              "      <th>accuracy</th>\n",
              "      <th>val_loss</th>\n",
              "      <th>val_accuracy</th>\n",
              "    </tr>\n",
              "  </thead>\n",
              "  <tbody>\n",
              "    <tr>\n",
              "      <th>0</th>\n",
              "      <td>2.770774</td>\n",
              "      <td>0.529067</td>\n",
              "      <td>0.872977</td>\n",
              "      <td>0.713000</td>\n",
              "    </tr>\n",
              "    <tr>\n",
              "      <th>1</th>\n",
              "      <td>0.642422</td>\n",
              "      <td>0.799267</td>\n",
              "      <td>0.715815</td>\n",
              "      <td>0.790000</td>\n",
              "    </tr>\n",
              "    <tr>\n",
              "      <th>2</th>\n",
              "      <td>0.304843</td>\n",
              "      <td>0.904000</td>\n",
              "      <td>0.597502</td>\n",
              "      <td>0.828667</td>\n",
              "    </tr>\n",
              "    <tr>\n",
              "      <th>3</th>\n",
              "      <td>0.196343</td>\n",
              "      <td>0.939467</td>\n",
              "      <td>0.538289</td>\n",
              "      <td>0.864000</td>\n",
              "    </tr>\n",
              "    <tr>\n",
              "      <th>4</th>\n",
              "      <td>0.191667</td>\n",
              "      <td>0.943133</td>\n",
              "      <td>0.677110</td>\n",
              "      <td>0.850667</td>\n",
              "    </tr>\n",
              "    <tr>\n",
              "      <th>5</th>\n",
              "      <td>0.175817</td>\n",
              "      <td>0.948467</td>\n",
              "      <td>0.649618</td>\n",
              "      <td>0.855667</td>\n",
              "    </tr>\n",
              "    <tr>\n",
              "      <th>6</th>\n",
              "      <td>0.145634</td>\n",
              "      <td>0.957267</td>\n",
              "      <td>0.816954</td>\n",
              "      <td>0.830333</td>\n",
              "    </tr>\n",
              "    <tr>\n",
              "      <th>7</th>\n",
              "      <td>0.117742</td>\n",
              "      <td>0.965867</td>\n",
              "      <td>0.854846</td>\n",
              "      <td>0.823000</td>\n",
              "    </tr>\n",
              "    <tr>\n",
              "      <th>8</th>\n",
              "      <td>0.156938</td>\n",
              "      <td>0.960200</td>\n",
              "      <td>0.706933</td>\n",
              "      <td>0.863000</td>\n",
              "    </tr>\n",
              "    <tr>\n",
              "      <th>9</th>\n",
              "      <td>0.105670</td>\n",
              "      <td>0.970600</td>\n",
              "      <td>0.794632</td>\n",
              "      <td>0.856000</td>\n",
              "    </tr>\n",
              "    <tr>\n",
              "      <th>10</th>\n",
              "      <td>0.125303</td>\n",
              "      <td>0.964467</td>\n",
              "      <td>0.749636</td>\n",
              "      <td>0.871333</td>\n",
              "    </tr>\n",
              "    <tr>\n",
              "      <th>11</th>\n",
              "      <td>0.082493</td>\n",
              "      <td>0.977400</td>\n",
              "      <td>0.907921</td>\n",
              "      <td>0.843333</td>\n",
              "    </tr>\n",
              "    <tr>\n",
              "      <th>12</th>\n",
              "      <td>0.113468</td>\n",
              "      <td>0.971200</td>\n",
              "      <td>1.090038</td>\n",
              "      <td>0.835667</td>\n",
              "    </tr>\n",
              "    <tr>\n",
              "      <th>13</th>\n",
              "      <td>0.100255</td>\n",
              "      <td>0.972133</td>\n",
              "      <td>0.966316</td>\n",
              "      <td>0.829667</td>\n",
              "    </tr>\n",
              "    <tr>\n",
              "      <th>14</th>\n",
              "      <td>0.087877</td>\n",
              "      <td>0.977667</td>\n",
              "      <td>0.916347</td>\n",
              "      <td>0.822333</td>\n",
              "    </tr>\n",
              "    <tr>\n",
              "      <th>15</th>\n",
              "      <td>0.099780</td>\n",
              "      <td>0.975000</td>\n",
              "      <td>0.739507</td>\n",
              "      <td>0.875000</td>\n",
              "    </tr>\n",
              "    <tr>\n",
              "      <th>16</th>\n",
              "      <td>0.089677</td>\n",
              "      <td>0.978200</td>\n",
              "      <td>0.834298</td>\n",
              "      <td>0.854000</td>\n",
              "    </tr>\n",
              "    <tr>\n",
              "      <th>17</th>\n",
              "      <td>0.110180</td>\n",
              "      <td>0.974067</td>\n",
              "      <td>0.785210</td>\n",
              "      <td>0.863333</td>\n",
              "    </tr>\n",
              "    <tr>\n",
              "      <th>18</th>\n",
              "      <td>0.036798</td>\n",
              "      <td>0.991067</td>\n",
              "      <td>0.997125</td>\n",
              "      <td>0.857667</td>\n",
              "    </tr>\n",
              "    <tr>\n",
              "      <th>19</th>\n",
              "      <td>0.095960</td>\n",
              "      <td>0.977000</td>\n",
              "      <td>0.907337</td>\n",
              "      <td>0.864333</td>\n",
              "    </tr>\n",
              "    <tr>\n",
              "      <th>20</th>\n",
              "      <td>0.125572</td>\n",
              "      <td>0.972267</td>\n",
              "      <td>1.066290</td>\n",
              "      <td>0.852667</td>\n",
              "    </tr>\n",
              "    <tr>\n",
              "      <th>21</th>\n",
              "      <td>0.093999</td>\n",
              "      <td>0.978133</td>\n",
              "      <td>1.135413</td>\n",
              "      <td>0.838667</td>\n",
              "    </tr>\n",
              "    <tr>\n",
              "      <th>22</th>\n",
              "      <td>0.087394</td>\n",
              "      <td>0.980067</td>\n",
              "      <td>0.890899</td>\n",
              "      <td>0.864000</td>\n",
              "    </tr>\n",
              "    <tr>\n",
              "      <th>23</th>\n",
              "      <td>0.050422</td>\n",
              "      <td>0.988333</td>\n",
              "      <td>0.902412</td>\n",
              "      <td>0.875000</td>\n",
              "    </tr>\n",
              "    <tr>\n",
              "      <th>24</th>\n",
              "      <td>0.023763</td>\n",
              "      <td>0.994067</td>\n",
              "      <td>1.248784</td>\n",
              "      <td>0.849000</td>\n",
              "    </tr>\n",
              "    <tr>\n",
              "      <th>25</th>\n",
              "      <td>0.109066</td>\n",
              "      <td>0.977333</td>\n",
              "      <td>1.232807</td>\n",
              "      <td>0.856667</td>\n",
              "    </tr>\n",
              "    <tr>\n",
              "      <th>26</th>\n",
              "      <td>0.089388</td>\n",
              "      <td>0.982733</td>\n",
              "      <td>1.039044</td>\n",
              "      <td>0.863000</td>\n",
              "    </tr>\n",
              "    <tr>\n",
              "      <th>27</th>\n",
              "      <td>0.047480</td>\n",
              "      <td>0.988733</td>\n",
              "      <td>1.170134</td>\n",
              "      <td>0.864667</td>\n",
              "    </tr>\n",
              "    <tr>\n",
              "      <th>28</th>\n",
              "      <td>0.135696</td>\n",
              "      <td>0.974333</td>\n",
              "      <td>0.942448</td>\n",
              "      <td>0.859333</td>\n",
              "    </tr>\n",
              "    <tr>\n",
              "      <th>29</th>\n",
              "      <td>0.027964</td>\n",
              "      <td>0.993000</td>\n",
              "      <td>1.110711</td>\n",
              "      <td>0.874000</td>\n",
              "    </tr>\n",
              "    <tr>\n",
              "      <th>30</th>\n",
              "      <td>0.026235</td>\n",
              "      <td>0.994067</td>\n",
              "      <td>1.441458</td>\n",
              "      <td>0.843667</td>\n",
              "    </tr>\n",
              "    <tr>\n",
              "      <th>31</th>\n",
              "      <td>0.133474</td>\n",
              "      <td>0.976333</td>\n",
              "      <td>2.175454</td>\n",
              "      <td>0.819333</td>\n",
              "    </tr>\n",
              "    <tr>\n",
              "      <th>32</th>\n",
              "      <td>0.122975</td>\n",
              "      <td>0.978200</td>\n",
              "      <td>1.429733</td>\n",
              "      <td>0.853000</td>\n",
              "    </tr>\n",
              "    <tr>\n",
              "      <th>33</th>\n",
              "      <td>0.059768</td>\n",
              "      <td>0.988400</td>\n",
              "      <td>1.307951</td>\n",
              "      <td>0.849333</td>\n",
              "    </tr>\n",
              "    <tr>\n",
              "      <th>34</th>\n",
              "      <td>0.053857</td>\n",
              "      <td>0.989400</td>\n",
              "      <td>1.494067</td>\n",
              "      <td>0.836000</td>\n",
              "    </tr>\n",
              "    <tr>\n",
              "      <th>35</th>\n",
              "      <td>0.088537</td>\n",
              "      <td>0.981667</td>\n",
              "      <td>1.374163</td>\n",
              "      <td>0.857333</td>\n",
              "    </tr>\n",
              "    <tr>\n",
              "      <th>36</th>\n",
              "      <td>0.039477</td>\n",
              "      <td>0.992867</td>\n",
              "      <td>1.267776</td>\n",
              "      <td>0.867333</td>\n",
              "    </tr>\n",
              "    <tr>\n",
              "      <th>37</th>\n",
              "      <td>0.086708</td>\n",
              "      <td>0.986067</td>\n",
              "      <td>1.362809</td>\n",
              "      <td>0.859333</td>\n",
              "    </tr>\n",
              "    <tr>\n",
              "      <th>38</th>\n",
              "      <td>0.074884</td>\n",
              "      <td>0.986867</td>\n",
              "      <td>1.637462</td>\n",
              "      <td>0.834333</td>\n",
              "    </tr>\n",
              "    <tr>\n",
              "      <th>39</th>\n",
              "      <td>0.069051</td>\n",
              "      <td>0.988267</td>\n",
              "      <td>1.382882</td>\n",
              "      <td>0.864667</td>\n",
              "    </tr>\n",
              "    <tr>\n",
              "      <th>40</th>\n",
              "      <td>0.025999</td>\n",
              "      <td>0.994067</td>\n",
              "      <td>1.338672</td>\n",
              "      <td>0.869667</td>\n",
              "    </tr>\n",
              "    <tr>\n",
              "      <th>41</th>\n",
              "      <td>0.045082</td>\n",
              "      <td>0.991333</td>\n",
              "      <td>1.546092</td>\n",
              "      <td>0.866667</td>\n",
              "    </tr>\n",
              "    <tr>\n",
              "      <th>42</th>\n",
              "      <td>0.158368</td>\n",
              "      <td>0.977267</td>\n",
              "      <td>1.193883</td>\n",
              "      <td>0.848333</td>\n",
              "    </tr>\n",
              "    <tr>\n",
              "      <th>43</th>\n",
              "      <td>0.023852</td>\n",
              "      <td>0.994800</td>\n",
              "      <td>1.315397</td>\n",
              "      <td>0.871667</td>\n",
              "    </tr>\n",
              "    <tr>\n",
              "      <th>44</th>\n",
              "      <td>0.029655</td>\n",
              "      <td>0.995733</td>\n",
              "      <td>1.730021</td>\n",
              "      <td>0.847000</td>\n",
              "    </tr>\n",
              "    <tr>\n",
              "      <th>45</th>\n",
              "      <td>0.027350</td>\n",
              "      <td>0.994867</td>\n",
              "      <td>1.882543</td>\n",
              "      <td>0.865667</td>\n",
              "    </tr>\n",
              "    <tr>\n",
              "      <th>46</th>\n",
              "      <td>0.171736</td>\n",
              "      <td>0.977200</td>\n",
              "      <td>1.737186</td>\n",
              "      <td>0.843000</td>\n",
              "    </tr>\n",
              "    <tr>\n",
              "      <th>47</th>\n",
              "      <td>0.062666</td>\n",
              "      <td>0.988000</td>\n",
              "      <td>2.057044</td>\n",
              "      <td>0.853000</td>\n",
              "    </tr>\n",
              "    <tr>\n",
              "      <th>48</th>\n",
              "      <td>0.075701</td>\n",
              "      <td>0.990933</td>\n",
              "      <td>1.663239</td>\n",
              "      <td>0.863333</td>\n",
              "    </tr>\n",
              "    <tr>\n",
              "      <th>49</th>\n",
              "      <td>0.056683</td>\n",
              "      <td>0.992267</td>\n",
              "      <td>1.384979</td>\n",
              "      <td>0.853333</td>\n",
              "    </tr>\n",
              "  </tbody>\n",
              "</table>\n",
              "</div>\n",
              "      <button class=\"colab-df-convert\" onclick=\"convertToInteractive('df-1cca8a41-4710-4c25-a8a6-42c2460f1e48')\"\n",
              "              title=\"Convert this dataframe to an interactive table.\"\n",
              "              style=\"display:none;\">\n",
              "        \n",
              "  <svg xmlns=\"http://www.w3.org/2000/svg\" height=\"24px\"viewBox=\"0 0 24 24\"\n",
              "       width=\"24px\">\n",
              "    <path d=\"M0 0h24v24H0V0z\" fill=\"none\"/>\n",
              "    <path d=\"M18.56 5.44l.94 2.06.94-2.06 2.06-.94-2.06-.94-.94-2.06-.94 2.06-2.06.94zm-11 1L8.5 8.5l.94-2.06 2.06-.94-2.06-.94L8.5 2.5l-.94 2.06-2.06.94zm10 10l.94 2.06.94-2.06 2.06-.94-2.06-.94-.94-2.06-.94 2.06-2.06.94z\"/><path d=\"M17.41 7.96l-1.37-1.37c-.4-.4-.92-.59-1.43-.59-.52 0-1.04.2-1.43.59L10.3 9.45l-7.72 7.72c-.78.78-.78 2.05 0 2.83L4 21.41c.39.39.9.59 1.41.59.51 0 1.02-.2 1.41-.59l7.78-7.78 2.81-2.81c.8-.78.8-2.07 0-2.86zM5.41 20L4 18.59l7.72-7.72 1.47 1.35L5.41 20z\"/>\n",
              "  </svg>\n",
              "      </button>\n",
              "      \n",
              "  <style>\n",
              "    .colab-df-container {\n",
              "      display:flex;\n",
              "      flex-wrap:wrap;\n",
              "      gap: 12px;\n",
              "    }\n",
              "\n",
              "    .colab-df-convert {\n",
              "      background-color: #E8F0FE;\n",
              "      border: none;\n",
              "      border-radius: 50%;\n",
              "      cursor: pointer;\n",
              "      display: none;\n",
              "      fill: #1967D2;\n",
              "      height: 32px;\n",
              "      padding: 0 0 0 0;\n",
              "      width: 32px;\n",
              "    }\n",
              "\n",
              "    .colab-df-convert:hover {\n",
              "      background-color: #E2EBFA;\n",
              "      box-shadow: 0px 1px 2px rgba(60, 64, 67, 0.3), 0px 1px 3px 1px rgba(60, 64, 67, 0.15);\n",
              "      fill: #174EA6;\n",
              "    }\n",
              "\n",
              "    [theme=dark] .colab-df-convert {\n",
              "      background-color: #3B4455;\n",
              "      fill: #D2E3FC;\n",
              "    }\n",
              "\n",
              "    [theme=dark] .colab-df-convert:hover {\n",
              "      background-color: #434B5C;\n",
              "      box-shadow: 0px 1px 3px 1px rgba(0, 0, 0, 0.15);\n",
              "      filter: drop-shadow(0px 1px 2px rgba(0, 0, 0, 0.3));\n",
              "      fill: #FFFFFF;\n",
              "    }\n",
              "  </style>\n",
              "\n",
              "      <script>\n",
              "        const buttonEl =\n",
              "          document.querySelector('#df-1cca8a41-4710-4c25-a8a6-42c2460f1e48 button.colab-df-convert');\n",
              "        buttonEl.style.display =\n",
              "          google.colab.kernel.accessAllowed ? 'block' : 'none';\n",
              "\n",
              "        async function convertToInteractive(key) {\n",
              "          const element = document.querySelector('#df-1cca8a41-4710-4c25-a8a6-42c2460f1e48');\n",
              "          const dataTable =\n",
              "            await google.colab.kernel.invokeFunction('convertToInteractive',\n",
              "                                                     [key], {});\n",
              "          if (!dataTable) return;\n",
              "\n",
              "          const docLinkHtml = 'Like what you see? Visit the ' +\n",
              "            '<a target=\"_blank\" href=https://colab.research.google.com/notebooks/data_table.ipynb>data table notebook</a>'\n",
              "            + ' to learn more about interactive tables.';\n",
              "          element.innerHTML = '';\n",
              "          dataTable['output_type'] = 'display_data';\n",
              "          await google.colab.output.renderOutput(dataTable, element);\n",
              "          const docLink = document.createElement('div');\n",
              "          docLink.innerHTML = docLinkHtml;\n",
              "          element.appendChild(docLink);\n",
              "        }\n",
              "      </script>\n",
              "    </div>\n",
              "  </div>\n",
              "  "
            ]
          },
          "metadata": {},
          "execution_count": 14
        }
      ],
      "source": [
        "history_df = pd.DataFrame(history.history)\n",
        "history_df"
      ]
    },
    {
      "cell_type": "code",
      "execution_count": null,
      "metadata": {
        "id": "dapQRYewd_Q0",
        "colab": {
          "base_uri": "https://localhost:8080/",
          "height": 279
        },
        "outputId": "2a597104-a2aa-4c1b-950e-69bf5a2fb451"
      },
      "outputs": [
        {
          "output_type": "display_data",
          "data": {
            "text/plain": [
              "<Figure size 432x288 with 2 Axes>"
            ],
            "image/png": "[encoded data removed]"
          },
          "metadata": {
            "needs_background": "light"
          }
        }
      ],
      "source": [
        "fig, loss_ax = plt.subplots()\n",
        "acc_ax = loss_ax.twinx()\n",
        "\n",
        "loss_ax.plot(history.history['loss'], 'y', label = 'train loss')\n",
        "loss_ax.plot(history.history['val_loss'], 'r', label = 'val loss')\n",
        "\n",
        "acc_ax.plot(history.history['accuracy'], 'b', label = 'train accuracy')\n",
        "acc_ax.plot(history.history['val_accuracy'], 'g', label = 'val accuracy')\n",
        "\n",
        "loss_ax.set_xlabel('epoch')\n",
        "loss_ax.set_ylabel('loss')\n",
        "acc_ax.set_ylabel('accuracy')\n",
        "\n",
        "loss_ax.legend(loc = 'upper left')\n",
        "acc_ax.legend(loc = 'lower left')\n",
        "\n",
        "plt.show()"
      ]
    },
    {
      "cell_type": "code",
      "execution_count": null,
      "metadata": {
        "id": "_OkmHh0KCV7k",
        "colab": {
          "base_uri": "https://localhost:8080/"
        },
        "outputId": "678b345d-68ec-4153-8d27-012a950f4755"
      },
      "outputs": [
        {
          "output_type": "stream",
          "name": "stdout",
          "text": [
            "469/469 [==============================] - 4s 9ms/step - loss: 0.0754 - accuracy: 0.9857\n",
            "[0.07542167603969574, 0.9856666922569275]\n"
          ]
        }
      ],
      "source": [
        "acc = model.evaluate(train_x,train_y)\n",
        "print(acc)"
      ]
    },
    {
      "cell_type": "code",
      "execution_count": null,
      "metadata": {
        "id": "KrUqzoqgC-fe",
        "colab": {
          "base_uri": "https://localhost:8080/"
        },
        "outputId": "47eb4460-228e-4204-994b-7f6520a3705c"
      },
      "outputs": [
        {
          "output_type": "stream",
          "name": "stdout",
          "text": [
            "94/94 [==============================] - 1s 7ms/step\n"
          ]
        },
        {
          "output_type": "execute_result",
          "data": {
            "text/plain": [
              "3000"
            ]
          },
          "metadata": {},
          "execution_count": 17
        }
      ],
      "source": [
        "y_pred=model.predict(test_x)\n",
        "len(y_pred)"
      ]
    },
    {
      "cell_type": "code",
      "execution_count": null,
      "metadata": {
        "id": "NyL6Cl2rO_X2"
      },
      "outputs": [],
      "source": [
        "def acc(_test, _y):\n",
        "    Tp = 0\n",
        "    Negative = 0\n",
        "    cnt = 0\n",
        "    for num in _test:\n",
        "        if np.argmax(num)==_y[cnt]:\n",
        "            Tp+=1\n",
        "        else:\n",
        "            Negative += 1\n",
        "        cnt += 1\n",
        "    print(\"맞춘 갯수 : \", Tp)\n",
        "    print(\"틀린 갯수 : \", Negative)\n",
        "    print(\"정확도 : \", Tp/(Tp+Negative)*100, \"%\")"
      ]
    },
    {
      "cell_type": "code",
      "execution_count": null,
      "metadata": {
        "id": "WY-EFAVrO_Vb",
        "colab": {
          "base_uri": "https://localhost:8080/"
        },
        "outputId": "33aee591-7a68-4b51-f6a7-4b289c702566"
      },
      "outputs": [
        {
          "output_type": "stream",
          "name": "stdout",
          "text": [
            "맞춘 갯수 :  2540\n",
            "틀린 갯수 :  460\n",
            "정확도 :  84.66666666666667 %\n"
          ]
        }
      ],
      "source": [
        "acc(y_pred, test_y)"
      ]
    },
    {
      "cell_type": "code",
      "execution_count": null,
      "metadata": {
        "id": "mG0kzHqXDEC6",
        "colab": {
          "base_uri": "https://localhost:8080/"
        },
        "outputId": "9d15b69d-ad9a-4be0-866e-0c5de3cafda1"
      },
      "outputs": [
        {
          "output_type": "stream",
          "name": "stdout",
          "text": [
            "94/94 [==============================] - 1s 7ms/step\n"
          ]
        },
        {
          "output_type": "execute_result",
          "data": {
            "text/plain": [
              "0.8466666666666667"
            ]
          },
          "metadata": {},
          "execution_count": 20
        }
      ],
      "source": [
        "from sklearn.metrics import accuracy_score\n",
        "\n",
        "y_pred=model.predict(test_x)\n",
        "y_pred=np.argmax(y_pred, axis=-1)\n",
        "\n",
        "accuracy_score(test_y,y_pred)"
      ]
    },
    {
      "cell_type": "code",
      "execution_count": null,
      "metadata": {
        "colab": {
          "base_uri": "https://localhost:8080/",
          "height": 109
        },
        "id": "dwAdqbaYDE_h",
        "outputId": "59b896a3-a129-4d64-9c96-13f2c12b236e"
      },
      "outputs": [
        {
          "output_type": "execute_result",
          "data": {
            "text/plain": [
              "'              precision    recall  f1-score   support\\n\\n           0       0.74      0.93      0.82       200\\n           1       0.93      0.82      0.87       200\\n           2       0.92      0.97      0.94       200\\n           3       0.83      0.83      0.83       200\\n           4       0.78      0.75      0.77       200\\n           5       0.87      0.77      0.82       200\\n           6       0.93      0.95      0.94       200\\n           7       0.91      0.89      0.90       200\\n           8       0.74      0.69      0.71       200\\n           9       0.81      0.91      0.85       200\\n          10       0.94      0.92      0.93       200\\n          11       0.83      0.90      0.86       200\\n          12       0.84      0.71      0.77       200\\n          13       0.88      0.88      0.88       200\\n          14       0.78      0.79      0.78       200\\n\\n    accuracy                           0.85      3000\\n   macro avg       0.85      0.85      0.85      3000\\nweighted avg       0.85      0.85      0.85      3000\\n'"
            ],
            "application/vnd.google.colaboratory.intrinsic+json": {
              "type": "string"
            }
          },
          "metadata": {},
          "execution_count": 21
        }
      ],
      "source": [
        "from sklearn.metrics import confusion_matrix, classification_report\n",
        "classification_report(test_y, y_pred)"
      ]
    },
    {
      "cell_type": "code",
      "source": [
        "              precision    recall  f1-score   support\n",
        "\n",
        "           0       0.74      0.93      0.82       200\n",
        "           1       0.93      0.82      0.87       200\n",
        "           2       0.92      0.97      0.94       200\n",
        "           3       0.83      0.83      0.83       200\n",
        "           4       0.78      0.75      0.77       200\n",
        "           5       0.87      0.77      0.82       200\n",
        "           6       0.93      0.95      0.94       200\n",
        "           7       0.91      0.89      0.90       200\n",
        "           8       0.74      0.69      0.71       200\n",
        "           9       0.81      0.91      0.85       200\n",
        "          10       0.94      0.92      0.93       200\n",
        "          11       0.83      0.90      0.86       200\n",
        "          12       0.84      0.71      0.77       200\n",
        "          13       0.88      0.88      0.88       200\n",
        "          14       0.78      0.79      0.78       200\n",
        "\n",
        "    accuracy                           0.85      3000\n",
        "   macro avg       0.85      0.85      0.85      3000\n",
        "weighted avg       0.85      0.85      0.85      3000\n"
      ],
      "metadata": {
        "id": "qZV8CdciWvEK"
      },
      "execution_count": null,
      "outputs": []
    },
    {
      "cell_type": "code",
      "source": [
        "def plot_roc_curve(fper, tper):\n",
        "    plt.plot(fper, tper, color='red', label='ROC')\n",
        "    plt.plot([0, 1], [0, 1], color='green', linestyle='--')\n",
        "    plt.xlabel('False Positive Rate')\n",
        "    plt.ylabel('True Positive Rate')\n",
        "    plt.title('Receiver Operating Characteristic Curve')\n",
        "    plt.legend()\n",
        "    plt.show()"
      ],
      "metadata": {
        "id": "QAsv0BGSejzL"
      },
      "execution_count": null,
      "outputs": []
    },
    {
      "cell_type": "code",
      "execution_count": null,
      "metadata": {
        "id": "PZBCfQTkyjB6",
        "colab": {
          "base_uri": "https://localhost:8080/",
          "height": 332
        },
        "outputId": "b293c677-3062-438c-db61-e8a05b0d04d1"
      },
      "outputs": [
        {
          "output_type": "stream",
          "name": "stdout",
          "text": [
            "94/94 [==============================] - 1s 7ms/step\n",
            "[ 0  0  1 ...  3 14 14]\n"
          ]
        },
        {
          "output_type": "display_data",
          "data": {
            "text/plain": [
              "<Figure size 432x288 with 1 Axes>"
            ],
            "image/png": "[encoded data removed]"
          },
          "metadata": {
            "needs_background": "light"
          }
        }
      ],
      "source": [
        "from sklearn.metrics import roc_curve\n",
        "\n",
        "\n",
        "y_pred=model.predict(test_x)\n",
        "y_pred=np.argmax(y_pred, axis=-1)\n",
        "print(y_pred)\n",
        "fper, tper, thresholds = roc_curve(test_y, y_pred, pos_label=14)\n",
        "plot_roc_curve(fper, tper)"
      ]
    },
    {
      "cell_type": "code",
      "source": [
        "classes = list(test_x)\n",
        "real_classes = [classes[x] for x in test_y]\n",
        "\n",
        "pred = tf.argmax(model.predict(test_x),axis=1)\n",
        "pred_classes = [classes[x] for x in pred]"
      ],
      "metadata": {
        "id": "qQ0p0Ct0e9_r",
        "colab": {
          "base_uri": "https://localhost:8080/"
        },
        "outputId": "ba948bcd-c9bf-4456-ce93-57a83bdcc9df"
      },
      "execution_count": null,
      "outputs": [
        {
          "output_type": "stream",
          "name": "stdout",
          "text": [
            "94/94 [==============================] - 1s 7ms/step\n"
          ]
        }
      ]
    },
    {
      "cell_type": "code",
      "source": [
        "from sklearn.metrics import confusion_matrix\n",
        "prediction = confusion_matrix(test_y, y_pred)"
      ],
      "metadata": {
        "id": "6VCBnW3TpfKf"
      },
      "execution_count": null,
      "outputs": []
    },
    {
      "cell_type": "code",
      "source": [
        "import seaborn as sns\n",
        "\n",
        "m = pd.DataFrame(prediction, index = [i for i in range(len(prediction[0]))], columns = [i for i in range(len(prediction[0]))])\n",
        "plt.figure(figsize=(15,15))\n",
        "plt.title(\"confusion matrix\")\n",
        "con_matric = sns.heatmap(m,annot=True,fmt='d',cmap=\"YlGn\")\n",
        "con_matric.set_xlabel(\"Real\")\n",
        "con_matric.set_ylabel(\"Predict\")"
      ],
      "metadata": {
        "id": "Ic8X0x2cnXpo",
        "colab": {
          "base_uri": "https://localhost:8080/",
          "height": 911
        },
        "outputId": "3726a9d6-0dd3-43d1-8954-4d8c6050cad6"
      },
      "execution_count": null,
      "outputs": [
        {
          "output_type": "execute_result",
          "data": {
            "text/plain": [
              "Text(114.0, 0.5, 'Predict')"
            ]
          },
          "metadata": {},
          "execution_count": 26
        },
        {
          "output_type": "display_data",
          "data": {
            "text/plain": [
              "<Figure size 1080x1080 with 2 Axes>"
            ],
            "image/png": "[encoded data removed]"
          },
          "metadata": {
            "needs_background": "light"
          }
        }
      ]
    },
    {
      "cell_type": "code",
      "source": [],
      "metadata": {
        "id": "U0bQpQMUwvgb"
      },
      "execution_count": null,
      "outputs": []
    }
  ]
}