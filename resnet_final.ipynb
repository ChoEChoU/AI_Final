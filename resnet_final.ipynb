{
  "nbformat": 4,
  "nbformat_minor": 0,
  "metadata": {
    "colab": {
      "provenance": [],
      "machine_shape": "hm",
      "authorship_tag": "ABX9TyOoq0lg/WCPBcT1DhSFsi9v",
      "include_colab_link": true
    },
    "kernelspec": {
      "name": "python3",
      "display_name": "Python 3"
    },
    "language_info": {
      "name": "python"
    },
    "accelerator": "GPU",
    "gpuClass": "premium"
  },
  "cells": [
    {
      "cell_type": "markdown",
      "metadata": {
        "id": "view-in-github",
        "colab_type": "text"
      },
      "source": [
        "<a href=\"https://colab.research.google.com/github/ChoEChoU/AI_Final/blob/hht/resnet_final.ipynb\" target=\"_parent\"><img src=\"https://colab.research.google.com/assets/colab-badge.svg\" alt=\"Open In Colab\"/></a>"
      ]
    },
    {
      "cell_type": "code",
      "execution_count": null,
      "metadata": {
        "id": "VHEoM4Y2UjXK",
        "colab": {
          "base_uri": "https://localhost:8080/"
        },
        "outputId": "7c65fc4f-f544-4972-f400-0703de15308a"
      },
      "outputs": [
        {
          "output_type": "stream",
          "name": "stdout",
          "text": [
            "Mounted at /content/drive\n"
          ]
        }
      ],
      "source": [
        "from google.colab import drive\n",
        "drive.mount('/content/drive')"
      ]
    },
    {
      "cell_type": "code",
      "execution_count": 2,
      "metadata": {
        "id": "gAxe3n1kUSpF"
      },
      "outputs": [],
      "source": [
        "import os \n",
        "import keras\n",
        "import numpy as np \n",
        "import tensorflow as tf\n",
        "from sklearn.metrics import classification_report\n",
        "from keras.preprocessing.image import ImageDataGenerator\n",
        "import cv2\n",
        "import pandas as pd\n",
        "import plotly.express as px\n",
        "import matplotlib.pyplot as plt\n",
        "from keras.models import Sequential, load_model\n",
        "from keras.layers import GlobalAvgPool2D as GAP, Dense, Dropout\n",
        "from keras.callbacks import EarlyStopping, ModelCheckpoint\n",
        "from tensorflow.keras.applications import ResNet50, ResNet50V2, InceptionV3, Xception, ResNet152, ResNet152V2"
      ]
    },
    {
      "cell_type": "code",
      "source": [
        "batch_size = 32\n",
        "data_generator = {\n",
        "    'train':ImageDataGenerator(rescale=1/255.),\n",
        "    'val':ImageDataGenerator(rescale=1/255.),\n",
        "    'test':ImageDataGenerator(rescale=1/255.),  \n",
        "}"
      ],
      "metadata": {
        "id": "Ot5cDcZz_bUf"
      },
      "execution_count": null,
      "outputs": []
    },
    {
      "cell_type": "code",
      "source": [
        "data_sets = {\n",
        "    'train':data_generator['train'].flow_from_directory(directory='/content/drive/MyDrive/AI project/Vegetable Images/train/',shuffle=True,class_mode='binary' ,batch_size=batch_size),\n",
        "    'val':data_generator['val'].flow_from_directory('/content/drive/MyDrive/AI project/Vegetable Images/validation/',shuffle=False,class_mode='binary',batch_size=batch_size),\n",
        "    'test':data_generator['test'].flow_from_directory('/content/drive/MyDrive/AI project/Vegetable Images/test/',shuffle=False,class_mode='binary',batch_size=batch_size)\n",
        "}"
      ],
      "metadata": {
        "colab": {
          "base_uri": "https://localhost:8080/"
        },
        "id": "2psN5LUc_l7a",
        "outputId": "d77eb918-99fe-403a-eec1-9ced226132b5"
      },
      "execution_count": null,
      "outputs": [
        {
          "output_type": "stream",
          "name": "stdout",
          "text": [
            "Found 15000 images belonging to 15 classes.\n",
            "Found 3000 images belonging to 15 classes.\n",
            "Found 3000 images belonging to 15 classes.\n"
          ]
        }
      ]
    },
    {
      "cell_type": "code",
      "source": [
        "base_model = ResNet50V2(input_shape=(224,224,3), include_top=False)\n",
        "base_model.trainable = False\n",
        "\n",
        "model = Sequential([\n",
        "    base_model,\n",
        "    GAP(),\n",
        "    Dense(256, activation='relu', kernel_initializer='he_normal'),\n",
        "    Dense(15, activation='softmax')\n",
        "])\n",
        "model.summary()"
      ],
      "metadata": {
        "colab": {
          "base_uri": "https://localhost:8080/"
        },
        "id": "-3I4yk4mj9i9",
        "outputId": "2e898d14-562c-4ca0-ba9e-b51d9d0d624e"
      },
      "execution_count": 3,
      "outputs": [
        {
          "output_type": "stream",
          "name": "stdout",
          "text": [
            "Downloading data from https://storage.googleapis.com/tensorflow/keras-applications/resnet/resnet50v2_weights_tf_dim_ordering_tf_kernels_notop.h5\n",
            "94668760/94668760 [==============================] - 1s 0us/step\n",
            "Model: \"sequential\"\n",
            "_________________________________________________________________\n",
            " Layer (type)                Output Shape              Param #   \n",
            "=================================================================\n",
            " resnet50v2 (Functional)     (None, 7, 7, 2048)        23564800  \n",
            "                                                                 \n",
            " global_average_pooling2d (G  (None, 2048)             0         \n",
            " lobalAveragePooling2D)                                          \n",
            "                                                                 \n",
            " dense (Dense)               (None, 256)               524544    \n",
            "                                                                 \n",
            " dense_1 (Dense)             (None, 15)                3855      \n",
            "                                                                 \n",
            "=================================================================\n",
            "Total params: 24,093,199\n",
            "Trainable params: 528,399\n",
            "Non-trainable params: 23,564,800\n",
            "_________________________________________________________________\n"
          ]
        }
      ]
    },
    {
      "cell_type": "code",
      "execution_count": null,
      "metadata": {
        "colab": {
          "base_uri": "https://localhost:8080/"
        },
        "id": "7-KpEv1iW78W",
        "outputId": "cd882703-6f73-43e8-acea-2ac076b5b225"
      },
      "outputs": [
        {
          "output_type": "stream",
          "name": "stdout",
          "text": [
            "Downloading data from https://storage.googleapis.com/tensorflow/keras-applications/resnet/resnet50v2_weights_tf_dim_ordering_tf_kernels_notop.h5\n",
            "94668760/94668760 [==============================] - 0s 0us/step\n",
            "Epoch 1/30\n",
            "469/469 [==============================] - 3411s 7s/step - loss: 0.0723 - accuracy: 0.9793 - val_loss: 0.0550 - val_accuracy: 0.9817\n",
            "Epoch 2/30\n",
            "469/469 [==============================] - 52s 111ms/step - loss: 0.0084 - accuracy: 0.9974 - val_loss: 0.0124 - val_accuracy: 0.9973\n",
            "Epoch 3/30\n",
            "469/469 [==============================] - 52s 110ms/step - loss: 0.0096 - accuracy: 0.9978 - val_loss: 0.0171 - val_accuracy: 0.9953\n",
            "Epoch 4/30\n",
            "469/469 [==============================] - 51s 110ms/step - loss: 9.2417e-04 - accuracy: 0.9999 - val_loss: 0.0112 - val_accuracy: 0.9967\n",
            "Epoch 5/30\n",
            "469/469 [==============================] - 51s 109ms/step - loss: 0.0025 - accuracy: 0.9993 - val_loss: 0.0085 - val_accuracy: 0.9977\n",
            "Epoch 6/30\n",
            "469/469 [==============================] - 51s 110ms/step - loss: 8.0567e-05 - accuracy: 1.0000 - val_loss: 0.0082 - val_accuracy: 0.9983\n",
            "Epoch 7/30\n",
            "469/469 [==============================] - 52s 110ms/step - loss: 4.3010e-05 - accuracy: 1.0000 - val_loss: 0.0090 - val_accuracy: 0.9983\n",
            "Epoch 8/30\n",
            "469/469 [==============================] - 51s 109ms/step - loss: 3.2171e-05 - accuracy: 1.0000 - val_loss: 0.0086 - val_accuracy: 0.9983\n",
            "Epoch 9/30\n",
            "469/469 [==============================] - 51s 108ms/step - loss: 2.4252e-05 - accuracy: 1.0000 - val_loss: 0.0087 - val_accuracy: 0.9983\n"
          ]
        }
      ],
      "source": [
        "cbs = [EarlyStopping(patience=3)]\n",
        "\n",
        "model.compile(loss='sparse_categorical_crossentropy', optimizer='adam', metrics=['accuracy'])\n",
        "\n",
        "history = model.fit(data_sets['train'], validation_data=data_sets['val'], callbacks=cbs, epochs=30)"
      ]
    },
    {
      "cell_type": "code",
      "execution_count": null,
      "metadata": {
        "colab": {
          "base_uri": "https://localhost:8080/",
          "height": 331
        },
        "id": "VlxGpVquYKkK",
        "outputId": "67fffbd1-679e-46d8-80a9-167556aa01b3"
      },
      "outputs": [
        {
          "output_type": "execute_result",
          "data": {
            "text/plain": [
              "       loss  accuracy  val_loss  val_accuracy\n",
              "0  0.072273  0.979267  0.055026      0.981667\n",
              "1  0.008375  0.997400  0.012366      0.997333\n",
              "2  0.009596  0.997800  0.017128      0.995333\n",
              "3  0.000924  0.999867  0.011246      0.996667\n",
              "4  0.002517  0.999333  0.008475      0.997667\n",
              "5  0.000081  1.000000  0.008191      0.998333\n",
              "6  0.000043  1.000000  0.009015      0.998333\n",
              "7  0.000032  1.000000  0.008578      0.998333\n",
              "8  0.000024  1.000000  0.008652      0.998333"
            ],
            "text/html": [
              "\n",
              "  <div id=\"df-da90c484-842d-48dd-b5e6-af8cb81564be\">\n",
              "    <div class=\"colab-df-container\">\n",
              "      <div>\n",
              "<style scoped>\n",
              "    .dataframe tbody tr th:only-of-type {\n",
              "        vertical-align: middle;\n",
              "    }\n",
              "\n",
              "    .dataframe tbody tr th {\n",
              "        vertical-align: top;\n",
              "    }\n",
              "\n",
              "    .dataframe thead th {\n",
              "        text-align: right;\n",
              "    }\n",
              "</style>\n",
              "<table border=\"1\" class=\"dataframe\">\n",
              "  <thead>\n",
              "    <tr style=\"text-align: right;\">\n",
              "      <th></th>\n",
              "      <th>loss</th>\n",
              "      <th>accuracy</th>\n",
              "      <th>val_loss</th>\n",
              "      <th>val_accuracy</th>\n",
              "    </tr>\n",
              "  </thead>\n",
              "  <tbody>\n",
              "    <tr>\n",
              "      <th>0</th>\n",
              "      <td>0.072273</td>\n",
              "      <td>0.979267</td>\n",
              "      <td>0.055026</td>\n",
              "      <td>0.981667</td>\n",
              "    </tr>\n",
              "    <tr>\n",
              "      <th>1</th>\n",
              "      <td>0.008375</td>\n",
              "      <td>0.997400</td>\n",
              "      <td>0.012366</td>\n",
              "      <td>0.997333</td>\n",
              "    </tr>\n",
              "    <tr>\n",
              "      <th>2</th>\n",
              "      <td>0.009596</td>\n",
              "      <td>0.997800</td>\n",
              "      <td>0.017128</td>\n",
              "      <td>0.995333</td>\n",
              "    </tr>\n",
              "    <tr>\n",
              "      <th>3</th>\n",
              "      <td>0.000924</td>\n",
              "      <td>0.999867</td>\n",
              "      <td>0.011246</td>\n",
              "      <td>0.996667</td>\n",
              "    </tr>\n",
              "    <tr>\n",
              "      <th>4</th>\n",
              "      <td>0.002517</td>\n",
              "      <td>0.999333</td>\n",
              "      <td>0.008475</td>\n",
              "      <td>0.997667</td>\n",
              "    </tr>\n",
              "    <tr>\n",
              "      <th>5</th>\n",
              "      <td>0.000081</td>\n",
              "      <td>1.000000</td>\n",
              "      <td>0.008191</td>\n",
              "      <td>0.998333</td>\n",
              "    </tr>\n",
              "    <tr>\n",
              "      <th>6</th>\n",
              "      <td>0.000043</td>\n",
              "      <td>1.000000</td>\n",
              "      <td>0.009015</td>\n",
              "      <td>0.998333</td>\n",
              "    </tr>\n",
              "    <tr>\n",
              "      <th>7</th>\n",
              "      <td>0.000032</td>\n",
              "      <td>1.000000</td>\n",
              "      <td>0.008578</td>\n",
              "      <td>0.998333</td>\n",
              "    </tr>\n",
              "    <tr>\n",
              "      <th>8</th>\n",
              "      <td>0.000024</td>\n",
              "      <td>1.000000</td>\n",
              "      <td>0.008652</td>\n",
              "      <td>0.998333</td>\n",
              "    </tr>\n",
              "  </tbody>\n",
              "</table>\n",
              "</div>\n",
              "      <button class=\"colab-df-convert\" onclick=\"convertToInteractive('df-da90c484-842d-48dd-b5e6-af8cb81564be')\"\n",
              "              title=\"Convert this dataframe to an interactive table.\"\n",
              "              style=\"display:none;\">\n",
              "        \n",
              "  <svg xmlns=\"http://www.w3.org/2000/svg\" height=\"24px\"viewBox=\"0 0 24 24\"\n",
              "       width=\"24px\">\n",
              "    <path d=\"M0 0h24v24H0V0z\" fill=\"none\"/>\n",
              "    <path d=\"M18.56 5.44l.94 2.06.94-2.06 2.06-.94-2.06-.94-.94-2.06-.94 2.06-2.06.94zm-11 1L8.5 8.5l.94-2.06 2.06-.94-2.06-.94L8.5 2.5l-.94 2.06-2.06.94zm10 10l.94 2.06.94-2.06 2.06-.94-2.06-.94-.94-2.06-.94 2.06-2.06.94z\"/><path d=\"M17.41 7.96l-1.37-1.37c-.4-.4-.92-.59-1.43-.59-.52 0-1.04.2-1.43.59L10.3 9.45l-7.72 7.72c-.78.78-.78 2.05 0 2.83L4 21.41c.39.39.9.59 1.41.59.51 0 1.02-.2 1.41-.59l7.78-7.78 2.81-2.81c.8-.78.8-2.07 0-2.86zM5.41 20L4 18.59l7.72-7.72 1.47 1.35L5.41 20z\"/>\n",
              "  </svg>\n",
              "      </button>\n",
              "      \n",
              "  <style>\n",
              "    .colab-df-container {\n",
              "      display:flex;\n",
              "      flex-wrap:wrap;\n",
              "      gap: 12px;\n",
              "    }\n",
              "\n",
              "    .colab-df-convert {\n",
              "      background-color: #E8F0FE;\n",
              "      border: none;\n",
              "      border-radius: 50%;\n",
              "      cursor: pointer;\n",
              "      display: none;\n",
              "      fill: #1967D2;\n",
              "      height: 32px;\n",
              "      padding: 0 0 0 0;\n",
              "      width: 32px;\n",
              "    }\n",
              "\n",
              "    .colab-df-convert:hover {\n",
              "      background-color: #E2EBFA;\n",
              "      box-shadow: 0px 1px 2px rgba(60, 64, 67, 0.3), 0px 1px 3px 1px rgba(60, 64, 67, 0.15);\n",
              "      fill: #174EA6;\n",
              "    }\n",
              "\n",
              "    [theme=dark] .colab-df-convert {\n",
              "      background-color: #3B4455;\n",
              "      fill: #D2E3FC;\n",
              "    }\n",
              "\n",
              "    [theme=dark] .colab-df-convert:hover {\n",
              "      background-color: #434B5C;\n",
              "      box-shadow: 0px 1px 3px 1px rgba(0, 0, 0, 0.15);\n",
              "      filter: drop-shadow(0px 1px 2px rgba(0, 0, 0, 0.3));\n",
              "      fill: #FFFFFF;\n",
              "    }\n",
              "  </style>\n",
              "\n",
              "      <script>\n",
              "        const buttonEl =\n",
              "          document.querySelector('#df-da90c484-842d-48dd-b5e6-af8cb81564be button.colab-df-convert');\n",
              "        buttonEl.style.display =\n",
              "          google.colab.kernel.accessAllowed ? 'block' : 'none';\n",
              "\n",
              "        async function convertToInteractive(key) {\n",
              "          const element = document.querySelector('#df-da90c484-842d-48dd-b5e6-af8cb81564be');\n",
              "          const dataTable =\n",
              "            await google.colab.kernel.invokeFunction('convertToInteractive',\n",
              "                                                     [key], {});\n",
              "          if (!dataTable) return;\n",
              "\n",
              "          const docLinkHtml = 'Like what you see? Visit the ' +\n",
              "            '<a target=\"_blank\" href=https://colab.research.google.com/notebooks/data_table.ipynb>data table notebook</a>'\n",
              "            + ' to learn more about interactive tables.';\n",
              "          element.innerHTML = '';\n",
              "          dataTable['output_type'] = 'display_data';\n",
              "          await google.colab.output.renderOutput(dataTable, element);\n",
              "          const docLink = document.createElement('div');\n",
              "          docLink.innerHTML = docLinkHtml;\n",
              "          element.appendChild(docLink);\n",
              "        }\n",
              "      </script>\n",
              "    </div>\n",
              "  </div>\n",
              "  "
            ]
          },
          "metadata": {},
          "execution_count": 6
        }
      ],
      "source": [
        "history_df = pd.DataFrame(history.history)\n",
        "history_df"
      ]
    },
    {
      "cell_type": "code",
      "execution_count": null,
      "metadata": {
        "colab": {
          "base_uri": "https://localhost:8080/",
          "height": 279
        },
        "id": "dapQRYewd_Q0",
        "outputId": "4fc2111f-3a19-439c-80c7-ec8bd0e1166d"
      },
      "outputs": [
        {
          "output_type": "display_data",
          "data": {
            "text/plain": [
              "<Figure size 432x288 with 2 Axes>"
            ],
            "image/png": "[encoded data removed]"
          },
          "metadata": {
            "needs_background": "light"
          }
        }
      ],
      "source": [
        "fig, loss_ax = plt.subplots()\n",
        "acc_ax = loss_ax.twinx()\n",
        "\n",
        "loss_ax.plot(history.history['loss'], 'y', label = 'train loss')\n",
        "loss_ax.plot(history.history['val_loss'], 'r', label = 'val loss')\n",
        "\n",
        "acc_ax.plot(history.history['accuracy'], 'b', label = 'train accuracy')\n",
        "acc_ax.plot(history.history['val_accuracy'], 'g', label = 'val accuracy')\n",
        "\n",
        "loss_ax.set_xlabel('epoch')\n",
        "loss_ax.set_ylabel('loss')\n",
        "acc_ax.set_ylabel('accuracy')\n",
        "\n",
        "loss_ax.legend(loc = 'upper left')\n",
        "acc_ax.legend(loc = 'lower left')\n",
        "\n",
        "plt.show()"
      ]
    },
    {
      "cell_type": "code",
      "source": [
        "score = model.evaluate(data_sets['test'])"
      ],
      "metadata": {
        "colab": {
          "base_uri": "https://localhost:8080/"
        },
        "id": "rYBRcJyQihCx",
        "outputId": "0e68cd76-194a-44a3-ee53-ad1ba9bc8361"
      },
      "execution_count": null,
      "outputs": [
        {
          "output_type": "stream",
          "name": "stdout",
          "text": [
            "94/94 [==============================] - 579s 6s/step - loss: 0.0066 - accuracy: 0.9987\n"
          ]
        }
      ]
    },
    {
      "cell_type": "code",
      "source": [
        "print('{}:{}'.format(model.metrics_names[1],score[1]*100))\n",
        "print('{}:{}'.format(model.metrics_names[0],score[0]))"
      ],
      "metadata": {
        "colab": {
          "base_uri": "https://localhost:8080/"
        },
        "id": "oHczqwVx-Etj",
        "outputId": "c770f18d-fb91-4aef-80fa-6de2d3e89caa"
      },
      "execution_count": null,
      "outputs": [
        {
          "output_type": "stream",
          "name": "stdout",
          "text": [
            "accuracy:99.86666440963745\n",
            "loss:0.006595928687602282\n"
          ]
        }
      ]
    },
    {
      "cell_type": "code",
      "source": [
        "classes = list(data_sets['test'].class_indices.keys())\n",
        "real_classes = [classes[x] for x in data_sets['test'].labels]\n",
        "\n",
        "pred = tf.argmax(model.predict(data_sets['test']),axis=1)\n",
        "pred_classes = [classes[x] for x in pred]"
      ],
      "metadata": {
        "colab": {
          "base_uri": "https://localhost:8080/"
        },
        "id": "ZwIpiIyc_2nY",
        "outputId": "18744906-c305-4edb-8c3f-3c36417d799e"
      },
      "execution_count": null,
      "outputs": [
        {
          "output_type": "stream",
          "name": "stdout",
          "text": [
            "94/94 [==============================] - 9s 91ms/step\n"
          ]
        }
      ]
    },
    {
      "cell_type": "code",
      "source": [
        "import sklearn.metrics as metrics\n",
        "import seaborn as sns\n",
        "cf_matrix = metrics.confusion_matrix(real_classes,pred_classes)\n",
        "plt.figure(figsize=(15,15))\n",
        "plt.title(\"confusion matrix\")\n",
        "con_matric = sns.heatmap(cf_matrix,annot=True,fmt='d',cmap=\"YlGn\")\n",
        "con_matric.set_xlabel(\"Real\")\n",
        "con_matric.set_ylabel(\"Predict\")"
      ],
      "metadata": {
        "colab": {
          "base_uri": "https://localhost:8080/",
          "height": 911
        },
        "id": "d_kNxSQl-l-3",
        "outputId": "f0de55e9-7814-4809-c13b-108c2dfe903a"
      },
      "execution_count": null,
      "outputs": [
        {
          "output_type": "execute_result",
          "data": {
            "text/plain": [
              "Text(114.0, 0.5, 'Predict')"
            ]
          },
          "metadata": {},
          "execution_count": 12
        },
        {
          "output_type": "display_data",
          "data": {
            "text/plain": [
              "<Figure size 1080x1080 with 2 Axes>"
            ],
            "image/png": "[encoded data removed]"
          },
          "metadata": {
            "needs_background": "light"
          }
        }
      ]
    },
    {
      "cell_type": "code",
      "source": [
        "print(classification_report(real_classes,pred_classes))"
      ],
      "metadata": {
        "colab": {
          "base_uri": "https://localhost:8080/"
        },
        "id": "7w8Ogjhw-N1Y",
        "outputId": "f5abf622-8a84-41c4-cc0b-e97017555bfe"
      },
      "execution_count": null,
      "outputs": [
        {
          "output_type": "stream",
          "name": "stdout",
          "text": [
            "              precision    recall  f1-score   support\n",
            "\n",
            "        Bean       1.00      1.00      1.00       200\n",
            "Bitter_Gourd       1.00      0.99      0.99       200\n",
            "Bottle_Gourd       1.00      1.00      1.00       200\n",
            "     Brinjal       1.00      1.00      1.00       200\n",
            "    Broccoli       1.00      1.00      1.00       200\n",
            "     Cabbage       1.00      0.99      1.00       200\n",
            "    Capsicum       1.00      1.00      1.00       200\n",
            "      Carrot       1.00      1.00      1.00       200\n",
            " Cauliflower       1.00      1.00      1.00       200\n",
            "    Cucumber       0.99      0.99      0.99       200\n",
            "      Papaya       1.00      1.00      1.00       200\n",
            "      Potato       1.00      1.00      1.00       200\n",
            "     Pumpkin       1.00      1.00      1.00       200\n",
            "      Radish       1.00      1.00      1.00       200\n",
            "      Tomato       1.00      1.00      1.00       200\n",
            "\n",
            "    accuracy                           1.00      3000\n",
            "   macro avg       1.00      1.00      1.00      3000\n",
            "weighted avg       1.00      1.00      1.00      3000\n",
            "\n"
          ]
        }
      ]
    }
  ]
}