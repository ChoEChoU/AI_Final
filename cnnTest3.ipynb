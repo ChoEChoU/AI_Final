{
  "nbformat": 4,
  "nbformat_minor": 0,
  "metadata": {
    "colab": {
      "provenance": []
    },
    "kernelspec": {
      "name": "python3",
      "display_name": "Python 3"
    },
    "language_info": {
      "name": "python"
    },
    "accelerator": "GPU",
    "gpuClass": "standard"
  },
  "cells": [
    {
      "cell_type": "markdown",
      "source": [
        "https://www.kaggle.com/code/sarvagnyadeshpanday/vegetable-cnn"
      ],
      "metadata": {
        "id": "UZQXzgB42bj7"
      }
    },
    {
      "cell_type": "code",
      "source": [
        "%cd /content/drive/MyDrive/인공지능 기말/"
      ],
      "metadata": {
        "colab": {
          "base_uri": "https://localhost:8080/"
        },
        "id": "8aB7hS1gzvLq",
        "outputId": "82b31bfc-f896-482d-dbdb-1c0ac7aee403"
      },
      "execution_count": null,
      "outputs": [
        {
          "output_type": "stream",
          "name": "stdout",
          "text": [
            "/content/drive/MyDrive/인공지능 기말\n"
          ]
        }
      ]
    },
    {
      "cell_type": "code",
      "execution_count": null,
      "metadata": {
        "id": "ZC8GIikMlpTQ"
      },
      "outputs": [],
      "source": [
        "import numpy as np\n",
        "import tensorflow as tf\n",
        "import pandas as pd\n",
        "import io\n",
        "import matplotlib.pyplot as plt\n",
        "from matplotlib import image\n",
        "from pathlib import Path\n",
        "import os.path\n",
        "from PIL import Image\n",
        "from keras.utils import np_utils"
      ]
    },
    {
      "cell_type": "code",
      "source": [
        "def load_imgs(img_path):\n",
        "    imgs=[]\n",
        "    label=[]\n",
        "    label1=os.listdir(img_path)\n",
        "    for index in label1:\n",
        "        label2 = os.listdir(img_path+'/' + index)\n",
        "        for index2 in label2:\n",
        "            c=0\n",
        "            img=Image.open(img_path+'/' + index + '/' + index2).convert('RGB')\n",
        "            img=img.resize(size=(64,64))\n",
        "            #img=img.convert('L')\n",
        "            img=np.array(img,dtype=np.float16)/255\n",
        "            imgs.append(np.array(img)) #.flatten())\n",
        "            label.append(index)\n",
        "            del img\n",
        "    return np.array(imgs),label"
      ],
      "metadata": {
        "id": "-Vi4eD3cmzPI"
      },
      "execution_count": null,
      "outputs": []
    },
    {
      "cell_type": "code",
      "source": [
        "X_train, y_train=load_imgs('./Vegetable Images/train')\n",
        "X_test, y_test=load_imgs('./Vegetable Images/test')\n",
        "X_val, y_val=load_imgs('./Vegetable Images/validation')"
      ],
      "metadata": {
        "id": "tIXD3P3AyvvW"
      },
      "execution_count": null,
      "outputs": []
    },
    {
      "cell_type": "code",
      "source": [
        "import os\n",
        "\n",
        "vege_name = os.listdir('./Vegetable Images/train')"
      ],
      "metadata": {
        "id": "zn4tCq5I2twk"
      },
      "execution_count": null,
      "outputs": []
    },
    {
      "cell_type": "code",
      "source": [
        "X_test.shape"
      ],
      "metadata": {
        "colab": {
          "base_uri": "https://localhost:8080/"
        },
        "id": "kTaftnfR3Dtf",
        "outputId": "712b5ad4-1247-4cf1-a317-01754f3e1090"
      },
      "execution_count": null,
      "outputs": [
        {
          "output_type": "execute_result",
          "data": {
            "text/plain": [
              "(3000, 64, 64, 3)"
            ]
          },
          "metadata": {},
          "execution_count": 56
        }
      ]
    },
    {
      "cell_type": "code",
      "source": [
        "vege_name"
      ],
      "metadata": {
        "colab": {
          "base_uri": "https://localhost:8080/"
        },
        "id": "pbYp3acx3G2X",
        "outputId": "c897b4c9-3c06-4e09-994b-dcaef81db989"
      },
      "execution_count": null,
      "outputs": [
        {
          "output_type": "execute_result",
          "data": {
            "text/plain": [
              "['Bean',\n",
              " 'Bitter_Gourd',\n",
              " 'Bottle_Gourd',\n",
              " 'Brinjal',\n",
              " 'Broccoli',\n",
              " 'Cabbage',\n",
              " 'Capsicum',\n",
              " 'Carrot',\n",
              " 'Cauliflower',\n",
              " 'Cucumber',\n",
              " 'Papaya',\n",
              " 'Potato',\n",
              " 'Pumpkin',\n",
              " 'Radish',\n",
              " 'Tomato']"
            ]
          },
          "metadata": {},
          "execution_count": 57
        }
      ]
    },
    {
      "cell_type": "code",
      "source": [
        "vege_cnt = []\n",
        "for i in range(15):\n",
        "    cnt = os.listdir('./Vegetable Images/train/' + vege_name[0])\n",
        "    vege_cnt.append(len(cnt))\n",
        "plt.figure(figsize=(20,7))\n",
        "plt.title(\"Train Vege CNT\")\n",
        "plt.bar(vege_name, vege_cnt)"
      ],
      "metadata": {
        "colab": {
          "base_uri": "https://localhost:8080/",
          "height": 322
        },
        "id": "v81Mtrt32Ubr",
        "outputId": "83e86615-21e8-42f3-b0cb-ed58952caf51"
      },
      "execution_count": null,
      "outputs": [
        {
          "output_type": "execute_result",
          "data": {
            "text/plain": [
              "<BarContainer object of 15 artists>"
            ]
          },
          "metadata": {},
          "execution_count": 78
        },
        {
          "output_type": "display_data",
          "data": {
            "text/plain": [
              "<Figure size 1440x504 with 1 Axes>"
            ],
            "image/png": "[encoded data removed]"
          },
          "metadata": {}
        }
      ]
    },
    {
      "cell_type": "code",
      "source": [
        "vege_cnt = []\n",
        "for i in range(15):\n",
        "    cnt = os.listdir('./Vegetable Images/test/' + vege_name[0])\n",
        "    vege_cnt.append(len(cnt))\n",
        "    plt.figure(figsize=(20,7))\n",
        "plt.title(\"Test Vege CNT\")\n",
        "plt.bar(vege_name, vege_cnt)"
      ],
      "metadata": {
        "colab": {
          "base_uri": "https://localhost:8080/",
          "height": 584
        },
        "id": "s2mlikRd5vrX",
        "outputId": "eaf2fa11-5c3d-4d41-ec59-eb50f5b0abf9"
      },
      "execution_count": null,
      "outputs": [
        {
          "output_type": "execute_result",
          "data": {
            "text/plain": [
              "<BarContainer object of 15 artists>"
            ]
          },
          "metadata": {},
          "execution_count": 75
        },
        {
          "output_type": "display_data",
          "data": {
            "text/plain": [
              "<Figure size 1440x504 with 0 Axes>"
            ]
          },
          "metadata": {}
        },
        {
          "output_type": "display_data",
          "data": {
            "text/plain": [
              "<Figure size 1440x504 with 0 Axes>"
            ]
          },
          "metadata": {}
        },
        {
          "output_type": "display_data",
          "data": {
            "text/plain": [
              "<Figure size 1440x504 with 0 Axes>"
            ]
          },
          "metadata": {}
        },
        {
          "output_type": "display_data",
          "data": {
            "text/plain": [
              "<Figure size 1440x504 with 0 Axes>"
            ]
          },
          "metadata": {}
        },
        {
          "output_type": "display_data",
          "data": {
            "text/plain": [
              "<Figure size 1440x504 with 0 Axes>"
            ]
          },
          "metadata": {}
        },
        {
          "output_type": "display_data",
          "data": {
            "text/plain": [
              "<Figure size 1440x504 with 0 Axes>"
            ]
          },
          "metadata": {}
        },
        {
          "output_type": "display_data",
          "data": {
            "text/plain": [
              "<Figure size 1440x504 with 0 Axes>"
            ]
          },
          "metadata": {}
        },
        {
          "output_type": "display_data",
          "data": {
            "text/plain": [
              "<Figure size 1440x504 with 0 Axes>"
            ]
          },
          "metadata": {}
        },
        {
          "output_type": "display_data",
          "data": {
            "text/plain": [
              "<Figure size 1440x504 with 0 Axes>"
            ]
          },
          "metadata": {}
        },
        {
          "output_type": "display_data",
          "data": {
            "text/plain": [
              "<Figure size 1440x504 with 0 Axes>"
            ]
          },
          "metadata": {}
        },
        {
          "output_type": "display_data",
          "data": {
            "text/plain": [
              "<Figure size 1440x504 with 0 Axes>"
            ]
          },
          "metadata": {}
        },
        {
          "output_type": "display_data",
          "data": {
            "text/plain": [
              "<Figure size 1440x504 with 0 Axes>"
            ]
          },
          "metadata": {}
        },
        {
          "output_type": "display_data",
          "data": {
            "text/plain": [
              "<Figure size 1440x504 with 0 Axes>"
            ]
          },
          "metadata": {}
        },
        {
          "output_type": "display_data",
          "data": {
            "text/plain": [
              "<Figure size 1440x504 with 0 Axes>"
            ]
          },
          "metadata": {}
        },
        {
          "output_type": "display_data",
          "data": {
            "text/plain": [
              "<Figure size 1440x504 with 1 Axes>"
            ],
            "image/png": "[encoded data removed]"
          },
          "metadata": {}
        }
      ]
    },
    {
      "cell_type": "code",
      "source": [
        "vege_cnt = []\n",
        "for i in range(15):\n",
        "    cnt = os.listdir('./Vegetable Images/validation/' + vege_name[0])\n",
        "    vege_cnt.append(len(cnt))\n",
        "    plt.figure(figsize=(20,7))\n",
        "plt.title(\"Validation Vege CNT\")\n",
        "plt.bar(vege_name, vege_cnt)"
      ],
      "metadata": {
        "colab": {
          "base_uri": "https://localhost:8080/",
          "height": 584
        },
        "id": "dZ48asZE6MbA",
        "outputId": "c05364df-495a-4806-9936-44422ba198ee"
      },
      "execution_count": null,
      "outputs": [
        {
          "output_type": "execute_result",
          "data": {
            "text/plain": [
              "<BarContainer object of 15 artists>"
            ]
          },
          "metadata": {},
          "execution_count": 79
        },
        {
          "output_type": "display_data",
          "data": {
            "text/plain": [
              "<Figure size 1440x504 with 0 Axes>"
            ]
          },
          "metadata": {}
        },
        {
          "output_type": "display_data",
          "data": {
            "text/plain": [
              "<Figure size 1440x504 with 0 Axes>"
            ]
          },
          "metadata": {}
        },
        {
          "output_type": "display_data",
          "data": {
            "text/plain": [
              "<Figure size 1440x504 with 0 Axes>"
            ]
          },
          "metadata": {}
        },
        {
          "output_type": "display_data",
          "data": {
            "text/plain": [
              "<Figure size 1440x504 with 0 Axes>"
            ]
          },
          "metadata": {}
        },
        {
          "output_type": "display_data",
          "data": {
            "text/plain": [
              "<Figure size 1440x504 with 0 Axes>"
            ]
          },
          "metadata": {}
        },
        {
          "output_type": "display_data",
          "data": {
            "text/plain": [
              "<Figure size 1440x504 with 0 Axes>"
            ]
          },
          "metadata": {}
        },
        {
          "output_type": "display_data",
          "data": {
            "text/plain": [
              "<Figure size 1440x504 with 0 Axes>"
            ]
          },
          "metadata": {}
        },
        {
          "output_type": "display_data",
          "data": {
            "text/plain": [
              "<Figure size 1440x504 with 0 Axes>"
            ]
          },
          "metadata": {}
        },
        {
          "output_type": "display_data",
          "data": {
            "text/plain": [
              "<Figure size 1440x504 with 0 Axes>"
            ]
          },
          "metadata": {}
        },
        {
          "output_type": "display_data",
          "data": {
            "text/plain": [
              "<Figure size 1440x504 with 0 Axes>"
            ]
          },
          "metadata": {}
        },
        {
          "output_type": "display_data",
          "data": {
            "text/plain": [
              "<Figure size 1440x504 with 0 Axes>"
            ]
          },
          "metadata": {}
        },
        {
          "output_type": "display_data",
          "data": {
            "text/plain": [
              "<Figure size 1440x504 with 0 Axes>"
            ]
          },
          "metadata": {}
        },
        {
          "output_type": "display_data",
          "data": {
            "text/plain": [
              "<Figure size 1440x504 with 0 Axes>"
            ]
          },
          "metadata": {}
        },
        {
          "output_type": "display_data",
          "data": {
            "text/plain": [
              "<Figure size 1440x504 with 0 Axes>"
            ]
          },
          "metadata": {}
        },
        {
          "output_type": "display_data",
          "data": {
            "text/plain": [
              "<Figure size 1440x504 with 1 Axes>"
            ],
            "image/png": "[encoded data removed]"
          },
          "metadata": {}
        }
      ]
    },
    {
      "cell_type": "code",
      "source": [
        "X_train.shape"
      ],
      "metadata": {
        "colab": {
          "base_uri": "https://localhost:8080/"
        },
        "id": "-jaRXGS74aOy",
        "outputId": "6f73770f-d922-48ac-daab-afb37bd7d808"
      },
      "execution_count": null,
      "outputs": [
        {
          "output_type": "execute_result",
          "data": {
            "text/plain": [
              "(15000, 64, 64, 3)"
            ]
          },
          "metadata": {},
          "execution_count": 4
        }
      ]
    },
    {
      "cell_type": "code",
      "source": [
        "#카테고리형 시리즈 만들고 레이블화\n",
        "#훈련\n",
        "X_train=np.array(X_train)\n",
        "y_train=pd.Series(y_train,dtype='category')\n",
        "#테스트\n",
        "X_test=np.array(X_test)\n",
        "y_test=pd.Series(y_test,dtype='category')\n",
        "y_test_pred = pd.Series(y_test,dtype='category')\n",
        "#검증\n",
        "X_val=np.array(X_val)\n",
        "y_val=pd.Series(y_val,dtype='category')\n",
        "#범주화\n",
        "y_train=y_train.cat.codes\n",
        "y_test=y_test.cat.codes\n",
        "y_val=y_val.cat.codes\n",
        "# y_train = np_utils.to_categorical(y_train)\n",
        "# y_test = np_utils.to_categorical(y_test)\n",
        "# y_val = np_utils.to_categorical(y_val)"
      ],
      "metadata": {
        "id": "XecSafZY0Cs7"
      },
      "execution_count": null,
      "outputs": []
    },
    {
      "cell_type": "code",
      "source": [
        "y_test.shape"
      ],
      "metadata": {
        "colab": {
          "base_uri": "https://localhost:8080/"
        },
        "id": "zJil1v1FEFFs",
        "outputId": "1d77e1c1-ef4b-4cb4-f3fc-8d25e14df26a"
      },
      "execution_count": null,
      "outputs": [
        {
          "output_type": "execute_result",
          "data": {
            "text/plain": [
              "(3000,)"
            ]
          },
          "metadata": {},
          "execution_count": 6
        }
      ]
    },
    {
      "cell_type": "code",
      "source": [
        "len(np.unique(y_test))"
      ],
      "metadata": {
        "colab": {
          "base_uri": "https://localhost:8080/"
        },
        "id": "tV5nMpmC2f-x",
        "outputId": "fb0e7e46-7d2a-4ac4-ef86-d2da86b35497"
      },
      "execution_count": null,
      "outputs": [
        {
          "output_type": "execute_result",
          "data": {
            "text/plain": [
              "15"
            ]
          },
          "metadata": {},
          "execution_count": 7
        }
      ]
    },
    {
      "cell_type": "code",
      "source": [
        "model=tf.keras.models.Sequential([\n",
        "    tf.keras.layers.Conv2D(16,(3,3),activation='relu',input_shape=(64,64,3)),\n",
        "    tf.keras.layers.MaxPooling2D(2,2),\n",
        "    tf.keras.layers.Conv2D(32,(3,3),activation='relu'),\n",
        "    tf.keras.layers.MaxPooling2D(2,2),\n",
        "    tf.keras.layers.Conv2D(64,(3,3),activation='relu'),\n",
        "    tf.keras.layers.MaxPooling2D(2,2),\n",
        "    \n",
        "    tf.keras.layers.Flatten(),\n",
        "    tf.keras.layers.Dense(256,activation='relu'),\n",
        "    tf.keras.layers.Dense(512,activation='relu'),\n",
        "    tf.keras.layers.Dense(15,activation='softmax'),\n",
        "])\n",
        "model.summary()"
      ],
      "metadata": {
        "colab": {
          "base_uri": "https://localhost:8080/"
        },
        "id": "0ntEyEKP2hUh",
        "outputId": "1e9740e5-bb0d-43d0-8dea-9c2e085216fc"
      },
      "execution_count": null,
      "outputs": [
        {
          "output_type": "stream",
          "name": "stdout",
          "text": [
            "Model: \"sequential\"\n",
            "_________________________________________________________________\n",
            " Layer (type)                Output Shape              Param #   \n",
            "=================================================================\n",
            " conv2d (Conv2D)             (None, 62, 62, 16)        448       \n",
            "                                                                 \n",
            " max_pooling2d (MaxPooling2D  (None, 31, 31, 16)       0         \n",
            " )                                                               \n",
            "                                                                 \n",
            " conv2d_1 (Conv2D)           (None, 29, 29, 32)        4640      \n",
            "                                                                 \n",
            " max_pooling2d_1 (MaxPooling  (None, 14, 14, 32)       0         \n",
            " 2D)                                                             \n",
            "                                                                 \n",
            " conv2d_2 (Conv2D)           (None, 12, 12, 64)        18496     \n",
            "                                                                 \n",
            " max_pooling2d_2 (MaxPooling  (None, 6, 6, 64)         0         \n",
            " 2D)                                                             \n",
            "                                                                 \n",
            " flatten (Flatten)           (None, 2304)              0         \n",
            "                                                                 \n",
            " dense (Dense)               (None, 256)               590080    \n",
            "                                                                 \n",
            " dense_1 (Dense)             (None, 512)               131584    \n",
            "                                                                 \n",
            " dense_2 (Dense)             (None, 15)                7695      \n",
            "                                                                 \n",
            "=================================================================\n",
            "Total params: 752,943\n",
            "Trainable params: 752,943\n",
            "Non-trainable params: 0\n",
            "_________________________________________________________________\n"
          ]
        }
      ]
    },
    {
      "cell_type": "code",
      "source": [
        "from tensorflow import keras\n",
        "from tensorflow.keras.metrics import Precision, Recall, FalsePositives, FalseNegatives"
      ],
      "metadata": {
        "id": "-QZ8qKCUBS-m"
      },
      "execution_count": null,
      "outputs": []
    },
    {
      "cell_type": "code",
      "source": [
        "#성능 안오르면 멈춤\n",
        "early_stopping = keras.callbacks.EarlyStopping(patience=5) # Set up callbacks\n",
        "model.compile(\n",
        "    loss='sparse_categorical_crossentropy',\n",
        "    optimizer='adam',\n",
        "    metrics=['accuracy']\n",
        ")\n",
        "hist = model.fit(\n",
        "    X_train,y_train,\n",
        "    validation_data=(X_val,y_val),\n",
        "    epochs=10,\n",
        "    callbacks=early_stopping\n",
        ")"
      ],
      "metadata": {
        "colab": {
          "base_uri": "https://localhost:8080/"
        },
        "id": "icY-_w712oca",
        "outputId": "d17e3c41-4bd0-45b2-ee65-8d9eca99fde5"
      },
      "execution_count": null,
      "outputs": [
        {
          "output_type": "stream",
          "name": "stdout",
          "text": [
            "Epoch 1/10\n",
            "469/469 [==============================] - 12s 7ms/step - loss: 1.4541 - accuracy: 0.4993 - val_loss: 0.6846 - val_accuracy: 0.7810\n",
            "Epoch 2/10\n",
            "469/469 [==============================] - 3s 5ms/step - loss: 0.4694 - accuracy: 0.8512 - val_loss: 0.5197 - val_accuracy: 0.8380\n",
            "Epoch 3/10\n",
            "469/469 [==============================] - 2s 5ms/step - loss: 0.2336 - accuracy: 0.9278 - val_loss: 0.1974 - val_accuracy: 0.9397\n",
            "Epoch 4/10\n",
            "469/469 [==============================] - 2s 5ms/step - loss: 0.1345 - accuracy: 0.9575 - val_loss: 0.1658 - val_accuracy: 0.9577\n",
            "Epoch 5/10\n",
            "469/469 [==============================] - 3s 5ms/step - loss: 0.1050 - accuracy: 0.9664 - val_loss: 0.1709 - val_accuracy: 0.9533\n",
            "Epoch 6/10\n",
            "469/469 [==============================] - 2s 5ms/step - loss: 0.0767 - accuracy: 0.9757 - val_loss: 0.1212 - val_accuracy: 0.9637\n",
            "Epoch 7/10\n",
            "469/469 [==============================] - 3s 5ms/step - loss: 0.0662 - accuracy: 0.9799 - val_loss: 0.1134 - val_accuracy: 0.9667\n",
            "Epoch 8/10\n",
            "469/469 [==============================] - 3s 5ms/step - loss: 0.0584 - accuracy: 0.9820 - val_loss: 0.1840 - val_accuracy: 0.9497\n",
            "Epoch 9/10\n",
            "469/469 [==============================] - 2s 5ms/step - loss: 0.0536 - accuracy: 0.9828 - val_loss: 0.1533 - val_accuracy: 0.9607\n",
            "Epoch 10/10\n",
            "469/469 [==============================] - 2s 5ms/step - loss: 0.0398 - accuracy: 0.9879 - val_loss: 0.1336 - val_accuracy: 0.9713\n"
          ]
        }
      ]
    },
    {
      "cell_type": "code",
      "source": [
        "model.evaluate(X_train,y_train)"
      ],
      "metadata": {
        "colab": {
          "base_uri": "https://localhost:8080/"
        },
        "id": "upMLiThV2u1P",
        "outputId": "202ed4eb-d0e1-4b07-f896-e498d47fd142"
      },
      "execution_count": null,
      "outputs": [
        {
          "output_type": "stream",
          "name": "stdout",
          "text": [
            "469/469 [==============================] - 17s 36ms/step - loss: 0.0255 - accuracy: 0.9921\n"
          ]
        },
        {
          "output_type": "execute_result",
          "data": {
            "text/plain": [
              "[0.02548339031636715, 0.9921333193778992]"
            ]
          },
          "metadata": {},
          "execution_count": 11
        }
      ]
    },
    {
      "cell_type": "code",
      "source": [
        "model.evaluate(X_val,y_val)"
      ],
      "metadata": {
        "colab": {
          "base_uri": "https://localhost:8080/"
        },
        "id": "EQbEPjYo26qy",
        "outputId": "1cd9a232-f69d-4b2f-9a3f-eec6bb9a36b1"
      },
      "execution_count": null,
      "outputs": [
        {
          "output_type": "stream",
          "name": "stdout",
          "text": [
            "94/94 [==============================] - 3s 36ms/step - loss: 0.1518 - accuracy: 0.9643\n"
          ]
        },
        {
          "output_type": "execute_result",
          "data": {
            "text/plain": [
              "[0.15183144807815552, 0.9643333554267883]"
            ]
          },
          "metadata": {},
          "execution_count": 12
        }
      ]
    },
    {
      "cell_type": "code",
      "source": [
        "test_loss, test_acc =model.evaluate(X_test,y_test)"
      ],
      "metadata": {
        "colab": {
          "base_uri": "https://localhost:8080/"
        },
        "id": "DPL7tuI1C07N",
        "outputId": "a839a93f-739b-4ee1-9f6d-48f1eed15ee1"
      },
      "execution_count": null,
      "outputs": [
        {
          "output_type": "stream",
          "name": "stdout",
          "text": [
            "94/94 [==============================] - 0s 4ms/step - loss: 0.1287 - accuracy: 0.9740\n"
          ]
        }
      ]
    },
    {
      "cell_type": "code",
      "source": [
        "res = model.predict(X_test)\n",
        "res2 = model.predict(X_train)\n",
        "res3 = model.predict(X_val)\n"
      ],
      "metadata": {
        "colab": {
          "base_uri": "https://localhost:8080/"
        },
        "id": "poDkFDPRC_y_",
        "outputId": "e1ca8af0-1661-4809-9d0f-e8c94eea11f6"
      },
      "execution_count": null,
      "outputs": [
        {
          "output_type": "stream",
          "name": "stdout",
          "text": [
            "94/94 [==============================] - 0s 2ms/step\n",
            "469/469 [==============================] - 1s 2ms/step\n",
            "94/94 [==============================] - 0s 2ms/step\n"
          ]
        }
      ]
    },
    {
      "cell_type": "code",
      "source": [
        "\n",
        "from sklearn.metrics import accuracy_score, precision_score, recall_score, f1_score, classification_report, confusion_matrix, roc_auc_score\n",
        "\n"
      ],
      "metadata": {
        "id": "seTuDF4CEWtz"
      },
      "execution_count": null,
      "outputs": []
    },
    {
      "cell_type": "code",
      "source": [
        "def acc(_test, _y):\n",
        "    Tp = 0\n",
        "    Negative = 0\n",
        "    cnt = 0\n",
        "    for num in _test:\n",
        "        if np.argmax(num)==_y[cnt]:\n",
        "            Tp+=1\n",
        "        else:\n",
        "            Negative += 1\n",
        "        cnt += 1\n",
        "    print(\"맞춘 갯수 : \", Tp)\n",
        "    print(\"틀린 갯수 : \", Negative)\n",
        "    print(\"정확도 : \", Tp/(Tp+Negative), \"%\")"
      ],
      "metadata": {
        "id": "RA5dgn9yOKFz"
      },
      "execution_count": null,
      "outputs": []
    },
    {
      "cell_type": "code",
      "source": [
        "acc(res, y_test)"
      ],
      "metadata": {
        "colab": {
          "base_uri": "https://localhost:8080/"
        },
        "id": "XzP3QA_mP3sF",
        "outputId": "ee1ed397-de74-4755-ce6f-4fad3a692513"
      },
      "execution_count": null,
      "outputs": [
        {
          "output_type": "stream",
          "name": "stdout",
          "text": [
            "맞춘 갯수 :  2852\n",
            "틀린 갯수 :  148\n",
            "정확도 :  0.9506666666666667 %\n"
          ]
        }
      ]
    },
    {
      "cell_type": "code",
      "source": [
        "res[4]"
      ],
      "metadata": {
        "colab": {
          "base_uri": "https://localhost:8080/"
        },
        "id": "fEaCHfFlSr79",
        "outputId": "24bc6423-6b91-4811-b1af-b21d701d068f"
      },
      "execution_count": null,
      "outputs": [
        {
          "output_type": "execute_result",
          "data": {
            "text/plain": [
              "array([9.8704278e-01, 1.7978855e-04, 2.9386561e-05, 3.0836116e-05,\n",
              "       7.7199838e-06, 1.2516144e-06, 1.8664728e-08, 7.4807225e-08,\n",
              "       1.2357995e-02, 2.5528844e-04, 4.4100480e-07, 3.0344728e-07,\n",
              "       8.8128992e-08, 4.4048196e-05, 4.9846029e-05], dtype=float32)"
            ]
          },
          "metadata": {},
          "execution_count": 38
        }
      ]
    },
    {
      "cell_type": "code",
      "source": [
        "list_res = []\n",
        "for i in range(len(res)):\n",
        "    list_res.append(np.argmax(res[i]))"
      ],
      "metadata": {
        "id": "bDnP8m41Qqor"
      },
      "execution_count": null,
      "outputs": []
    },
    {
      "cell_type": "code",
      "source": [
        "def plot_roc_curve(fper, tper):\n",
        "    plt.plot(fper, tper, color='red', label='ROC')\n",
        "    plt.plot([0, 1], [0, 1], color='green', linestyle='--')\n",
        "    plt.xlabel('False Positive Rate')\n",
        "    plt.ylabel('True Positive Rate')\n",
        "    plt.title('Receiver Operating Characteristic Curve')\n",
        "    plt.legend()\n",
        "    plt.show()"
      ],
      "metadata": {
        "id": "d1u9SEnU7-1R"
      },
      "execution_count": null,
      "outputs": []
    },
    {
      "cell_type": "code",
      "source": [
        "from sklearn.metrics import roc_curve\n",
        "\n",
        "\n",
        "y_pred=model.predict(X_test)\n",
        "y_pred=np.argmax(y_pred, axis=-1)\n",
        "print(y_pred)\n",
        "fper, tper, thresholds = roc_curve(y_test, y_pred, pos_label=14)\n",
        "plot_roc_curve(fper, tper)"
      ],
      "metadata": {
        "colab": {
          "base_uri": "https://localhost:8080/",
          "height": 332
        },
        "id": "1ktDgrk47olR",
        "outputId": "5b606104-39c9-478f-dd5c-3ed9e87eead4"
      },
      "execution_count": null,
      "outputs": [
        {
          "output_type": "stream",
          "name": "stdout",
          "text": [
            "94/94 [==============================] - 0s 3ms/step\n",
            "[ 0  0  0 ... 14 14 14]\n"
          ]
        },
        {
          "output_type": "display_data",
          "data": {
            "text/plain": [
              "<Figure size 432x288 with 1 Axes>"
            ],
            "image/png": "[encoded data removed]"
          },
          "metadata": {
            "needs_background": "light"
          }
        }
      ]
    },
    {
      "cell_type": "code",
      "source": [
        "a = confusion_matrix(y_test, list_res)"
      ],
      "metadata": {
        "id": "USAUyMWqNlsS"
      },
      "execution_count": null,
      "outputs": []
    },
    {
      "cell_type": "markdown",
      "source": [
        "'              precision    recall  f1-score   support\\n\\n           0       0.93      0.99      0.96       200\\n           1       0.99      0.96      0.98       200\\n           2       0.99      0.97      0.98       200\\n           3       0.93      0.99      0.96       200\\n           4       1.00      0.47      0.63       200\\n           5       1.00      0.95      0.98       200\\n           6       0.97      0.98      0.98       200\\n           7       0.98      0.98      0.98       200\\n           8       0.98      0.95      0.97       200\\n           9       0.98      0.95      0.97       200\\n          10       0.99      0.98      0.99       200\\n          11       0.89      1.00      0.94       200\\n          12       0.65      0.98      0.78       200\\n          13       0.98      0.99      0.99       200\\n          14       0.98      0.88      0.93       200\\n\\n    accuracy                           0.94      3000\\n   macro avg       0.95      0.94      0.93      3000\\nweighted avg       0.95      0.94      0.93      3000\\n'"
      ],
      "metadata": {
        "id": "LlNlXQVib77P"
      }
    },
    {
      "cell_type": "code",
      "source": [
        "s = '              precision    recall  f1-score   support\\n\\n           0       0.93      0.99      0.96       200\\n           1       0.99      0.96      0.98       200\\n           2       0.99      0.97      0.98       200\\n           3       0.93      0.99      0.96       200\\n           4       1.00      0.47      0.63       200\\n           5       1.00      0.95      0.98       200\\n           6       0.97      0.98      0.98       200\\n           7       0.98      0.98      0.98       200\\n           8       0.98      0.95      0.97       200\\n           9       0.98      0.95      0.97       200\\n          10       0.99      0.98      0.99       200\\n          11       0.89      1.00      0.94       200\\n          12       0.65      0.98      0.78       200\\n          13       0.98      0.99      0.99       200\\n          14       0.98      0.88      0.93       200\\n\\n    accuracy                           0.94      3000\\n   macro avg       0.95      0.94      0.93      3000\\nweighted avg       0.95      0.94      0.93      3000\\n'"
      ],
      "metadata": {
        "id": "T2Zcm4z9b-vR"
      },
      "execution_count": null,
      "outputs": []
    },
    {
      "cell_type": "code",
      "source": [
        "print(s)"
      ],
      "metadata": {
        "colab": {
          "base_uri": "https://localhost:8080/"
        },
        "id": "uzMv_PKScAon",
        "outputId": "9b13b7bf-9614-4850-caac-fbb3615273f2"
      },
      "execution_count": null,
      "outputs": [
        {
          "output_type": "stream",
          "name": "stdout",
          "text": [
            "              precision    recall  f1-score   support\n",
            "\n",
            "           0       0.93      0.99      0.96       200\n",
            "           1       0.99      0.96      0.98       200\n",
            "           2       0.99      0.97      0.98       200\n",
            "           3       0.93      0.99      0.96       200\n",
            "           4       1.00      0.47      0.63       200\n",
            "           5       1.00      0.95      0.98       200\n",
            "           6       0.97      0.98      0.98       200\n",
            "           7       0.98      0.98      0.98       200\n",
            "           8       0.98      0.95      0.97       200\n",
            "           9       0.98      0.95      0.97       200\n",
            "          10       0.99      0.98      0.99       200\n",
            "          11       0.89      1.00      0.94       200\n",
            "          12       0.65      0.98      0.78       200\n",
            "          13       0.98      0.99      0.99       200\n",
            "          14       0.98      0.88      0.93       200\n",
            "\n",
            "    accuracy                           0.94      3000\n",
            "   macro avg       0.95      0.94      0.93      3000\n",
            "weighted avg       0.95      0.94      0.93      3000\n",
            "\n"
          ]
        }
      ]
    },
    {
      "cell_type": "markdown",
      "source": [],
      "metadata": {
        "id": "eUncmWltc8b_"
      }
    },
    {
      "cell_type": "code",
      "source": [
        "a"
      ],
      "metadata": {
        "colab": {
          "base_uri": "https://localhost:8080/"
        },
        "id": "L4Y4XjaUrEO4",
        "outputId": "e8ab820f-686f-4a17-a437-4dbb889d4e41"
      },
      "execution_count": null,
      "outputs": [
        {
          "output_type": "execute_result",
          "data": {
            "text/plain": [
              "array([[197,   1,   0,   0,   1,   0,   0,   0,   0,   0,   0,   0,   1,\n",
              "          0,   0],\n",
              "       [  2, 191,   0,   1,   0,   0,   0,   0,   1,   2,   0,   0,   1,\n",
              "          0,   2],\n",
              "       [  1,   0, 199,   0,   0,   0,   0,   0,   0,   0,   0,   0,   0,\n",
              "          0,   0],\n",
              "       [  0,   0,   1, 197,   1,   1,   0,   0,   0,   0,   0,   0,   0,\n",
              "          0,   0],\n",
              "       [  1,   0,   0,   0, 195,   2,   0,   0,   0,   0,   0,   0,   2,\n",
              "          0,   0],\n",
              "       [  0,   0,   0,   1,   5, 187,   0,   0,   2,   2,   0,   0,   0,\n",
              "          0,   3],\n",
              "       [  0,   0,   0,   0,   0,   0, 197,   1,   0,   0,   0,   0,   1,\n",
              "          0,   1],\n",
              "       [  0,   0,   0,   0,   0,   0,   0, 199,   0,   0,   0,   0,   0,\n",
              "          0,   1],\n",
              "       [  0,   0,   0,   3,   2,   0,   0,   0, 192,   0,   1,   0,   0,\n",
              "          0,   2],\n",
              "       [  0,   0,   2,   1,   0,   0,   0,   0,   0, 196,   1,   0,   0,\n",
              "          0,   0],\n",
              "       [  0,   0,   2,   2,   0,   0,   0,   0,   0,   0, 195,   0,   0,\n",
              "          0,   1],\n",
              "       [  0,   0,   0,   0,   0,   0,   0,   1,   0,   0,   0, 199,   0,\n",
              "          0,   0],\n",
              "       [  0,   0,   0,   0,   1,   1,   1,   0,   0,   0,   0,   2, 191,\n",
              "          0,   4],\n",
              "       [  0,   0,   0,   0,   0,   1,   0,   0,   1,   0,   0,   0,   0,\n",
              "        197,   1],\n",
              "       [  0,   0,   0,   1,   1,   1,   0,   1,   3,   0,   1,   0,   1,\n",
              "          1, 190]])"
            ]
          },
          "metadata": {},
          "execution_count": 36
        }
      ]
    },
    {
      "cell_type": "code",
      "source": [
        "a[0]"
      ],
      "metadata": {
        "colab": {
          "base_uri": "https://localhost:8080/"
        },
        "id": "Sd7YMXoYmt6Q",
        "outputId": "ef1abcfa-2c4f-41fe-88f3-0bd0b4606523"
      },
      "execution_count": null,
      "outputs": [
        {
          "output_type": "execute_result",
          "data": {
            "text/plain": [
              "array([197,   1,   0,   0,   1,   0,   0,   0,   0,   0,   0,   0,   1,\n",
              "         0,   0])"
            ]
          },
          "metadata": {},
          "execution_count": 37
        }
      ]
    },
    {
      "cell_type": "code",
      "source": [
        "import seaborn as sns\n",
        "\n",
        "m = pd.DataFrame(a, index = [i for i in range(len(a[0]))], columns = [i for i in range(len(a[0]))])\n",
        "plt.figure(figsize=(15,15))\n",
        "plt.title(\"confusion matrix\")\n",
        "con_matric = sns.heatmap(m,annot=True,fmt='d',cmap=\"YlGnBu\")\n",
        "con_matric.set_xlabel(\"Predict\")\n",
        "con_matric.set_ylabel(\"Real\")"
      ],
      "metadata": {
        "colab": {
          "base_uri": "https://localhost:8080/",
          "height": 861
        },
        "id": "WbBSVU4WmVEe",
        "outputId": "e49dafcb-b2a7-4681-f9b0-3395a3c04c27"
      },
      "execution_count": null,
      "outputs": [
        {
          "output_type": "execute_result",
          "data": {
            "text/plain": [
              "Text(114.0, 0.5, 'Real')"
            ]
          },
          "metadata": {},
          "execution_count": 67
        },
        {
          "output_type": "display_data",
          "data": {
            "text/plain": [
              "<Figure size 1080x1080 with 2 Axes>"
            ],
            "image/png": "[encoded data removed]"
          },
          "metadata": {}
        }
      ]
    },
    {
      "cell_type": "code",
      "source": [
        "classification_report(y_test, list_res)"
      ],
      "metadata": {
        "colab": {
          "base_uri": "https://localhost:8080/",
          "height": 203
        },
        "id": "FLoWqwVZE1BW",
        "outputId": "081db750-5c99-4bf7-bf1c-d95a1c138b01"
      },
      "execution_count": null,
      "outputs": [
        {
          "output_type": "execute_result",
          "data": {
            "text/plain": [
              "'              precision    recall  f1-score   support\\n\\n           0       0.98      0.98      0.98       200\\n           1       0.99      0.95      0.97       200\\n           2       0.98      0.99      0.99       200\\n           3       0.96      0.98      0.97       200\\n           4       0.95      0.97      0.96       200\\n           5       0.97      0.94      0.95       200\\n           6       0.99      0.98      0.99       200\\n           7       0.99      0.99      0.99       200\\n           8       0.96      0.96      0.96       200\\n           9       0.98      0.98      0.98       200\\n          10       0.98      0.97      0.98       200\\n          11       0.99      0.99      0.99       200\\n          12       0.97      0.95      0.96       200\\n          13       0.99      0.98      0.99       200\\n          14       0.93      0.95      0.94       200\\n\\n    accuracy                           0.97      3000\\n   macro avg       0.97      0.97      0.97      3000\\nweighted avg       0.97      0.97      0.97      3000\\n'"
            ],
            "application/vnd.google.colaboratory.intrinsic+json": {
              "type": "string"
            }
          },
          "metadata": {},
          "execution_count": 24
        }
      ]
    },
    {
      "cell_type": "markdown",
      "source": [
        "              precision    recall  f1-score   support\n",
        "\n",
        "           0       0.95      0.94      0.95       200\n",
        "           1       0.93      0.97      0.95       200\n",
        "           2       0.97      0.97      0.97       200\n",
        "           3       0.97      0.93      0.95       200\n",
        "           4       0.95      0.92      0.94       200\n",
        "           5       0.96      0.92      0.94       200\n",
        "           6       0.93      0.97      0.95       200\n",
        "           7       1.00      1.00      1.00       200\n",
        "           8       0.93      0.94      0.94       200\n",
        "           9       0.98      0.98      0.98       200\n",
        "          10       0.99      0.96      0.97       200\n",
        "          11       0.99      0.98      0.99       200\n",
        "          12       0.92      0.95      0.94       200\n",
        "          13       0.97      0.97      0.97       200\n",
        "          14       0.92      0.95      0.94       200\n",
        "\n",
        "    accuracy                           0.96      3000\n",
        "   macro avg       0.96      0.96      0.96      3000\n",
        "weighted avg       0.96      0.96      0.96      3000"
      ],
      "metadata": {
        "id": "3nFCzFXn4ztW"
      }
    },
    {
      "cell_type": "code",
      "source": [
        "#               precision    recall  f1-score   support\n",
        "\n",
        "#            0       0.98      0.97      0.98       200\n",
        "#            1       0.98      0.97      0.98       200\n",
        "#            2       0.99      1.00      1.00       200\n",
        "#            3       0.98      0.96      0.97       200\n",
        "#            4       0.94      0.94      0.94       200\n",
        "#            5       0.94      0.93      0.93       200\n",
        "#            6       1.00      0.98      0.99       200\n",
        "#            7       0.99      1.00      0.99       200\n",
        "#            8       0.92      0.97      0.94       200\n",
        "#            9       0.96      0.99      0.98       200\n",
        "#           10       0.99      0.99      0.99       200\n",
        "#           11       0.98      0.99      0.99       200\n",
        "#           12       0.98      0.92      0.95       200\n",
        "#           13       0.98      0.99      0.99       200\n",
        "#           14       0.93      0.92      0.92       200\n",
        "\n",
        "#     accuracy                           0.97      3000\n",
        "#    macro avg       0.97      0.97      0.97      3000\n",
        "# weighted avg       0.97      0.97      0.97      3000\n"
      ],
      "metadata": {
        "id": "5CgpR_JCTuq8"
      },
      "execution_count": null,
      "outputs": []
    },
    {
      "cell_type": "code",
      "source": [
        "h = hist.history\n",
        "plt.style.use('ggplot')\n",
        "plt.figure(figsize=(10, 5))\n",
        "plt.plot(h['loss'], c='red', label='Training Loss')\n",
        "plt.plot(h['val_loss'], c='red', linestyle='--', label='Validation Loss')\n",
        "plt.xlabel(\"Number of Epochs\")\n",
        "plt.legend(loc='best')\n",
        "plt.show()"
      ],
      "metadata": {
        "colab": {
          "base_uri": "https://localhost:8080/",
          "height": 337
        },
        "id": "SP3EeHAR3rMC",
        "outputId": "192b543f-7830-4c5e-a087-0b37e46de26f"
      },
      "execution_count": null,
      "outputs": [
        {
          "output_type": "display_data",
          "data": {
            "text/plain": [
              "<Figure size 720x360 with 1 Axes>"
            ],
            "image/png": "[encoded data removed]"
          },
          "metadata": {}
        }
      ]
    },
    {
      "cell_type": "code",
      "source": [
        "plt.figure(figsize=(10, 5))\n",
        "plt.plot(h['accuracy'], c='blue', label='Training Accuracy')\n",
        "plt.plot(h['val_accuracy'], c='blue', linestyle='--', label='Validation Accuracy')\n",
        "plt.xlabel(\"Number of Epochs\")\n",
        "plt.ylabel(\"accuracy\")\n",
        "plt.legend(loc='best')\n",
        "plt.show()"
      ],
      "metadata": {
        "colab": {
          "base_uri": "https://localhost:8080/",
          "height": 337
        },
        "id": "GbSVCrE_59Wp",
        "outputId": "11dc83da-62d8-44ce-a02c-df4bb11ae808"
      },
      "execution_count": null,
      "outputs": [
        {
          "output_type": "display_data",
          "data": {
            "text/plain": [
              "<Figure size 720x360 with 1 Axes>"
            ],
            "image/png": "[encoded data removed]"
          },
          "metadata": {}
        }
      ]
    },
    {
      "cell_type": "code",
      "source": [
        "pip install wandb"
      ],
      "metadata": {
        "colab": {
          "base_uri": "https://localhost:8080/"
        },
        "id": "N0DhA8Kx-5kx",
        "outputId": "20c8401c-017c-4256-aad1-3d25d7dee6ae"
      },
      "execution_count": null,
      "outputs": [
        {
          "output_type": "stream",
          "name": "stdout",
          "text": [
            "Looking in indexes: https://pypi.org/simple, https://us-python.pkg.dev/colab-wheels/public/simple/\n",
            "Collecting wandb\n",
            "  Downloading wandb-0.13.5-py2.py3-none-any.whl (1.9 MB)\n",
            "\u001b[K     |████████████████████████████████| 1.9 MB 7.2 MB/s \n",
            "\u001b[?25hRequirement already satisfied: PyYAML in /usr/local/lib/python3.7/dist-packages (from wandb) (6.0)\n",
            "Collecting sentry-sdk>=1.0.0\n",
            "  Downloading sentry_sdk-1.11.1-py2.py3-none-any.whl (168 kB)\n",
            "\u001b[K     |████████████████████████████████| 168 kB 59.4 MB/s \n",
            "\u001b[?25hCollecting setproctitle\n",
            "  Downloading setproctitle-1.3.2-cp37-cp37m-manylinux_2_5_x86_64.manylinux1_x86_64.manylinux_2_17_x86_64.manylinux2014_x86_64.whl (30 kB)\n",
            "Requirement already satisfied: requests<3,>=2.0.0 in /usr/local/lib/python3.7/dist-packages (from wandb) (2.23.0)\n",
            "Collecting docker-pycreds>=0.4.0\n",
            "  Downloading docker_pycreds-0.4.0-py2.py3-none-any.whl (9.0 kB)\n",
            "Requirement already satisfied: psutil>=5.0.0 in /usr/local/lib/python3.7/dist-packages (from wandb) (5.4.8)\n",
            "Requirement already satisfied: six>=1.13.0 in /usr/local/lib/python3.7/dist-packages (from wandb) (1.15.0)\n",
            "Requirement already satisfied: setuptools in /usr/local/lib/python3.7/dist-packages (from wandb) (57.4.0)\n",
            "Collecting shortuuid>=0.5.0\n",
            "  Downloading shortuuid-1.0.11-py3-none-any.whl (10 kB)\n",
            "Requirement already satisfied: Click!=8.0.0,>=7.0 in /usr/local/lib/python3.7/dist-packages (from wandb) (7.1.2)\n",
            "Collecting pathtools\n",
            "  Downloading pathtools-0.1.2.tar.gz (11 kB)\n",
            "Requirement already satisfied: promise<3,>=2.0 in /usr/local/lib/python3.7/dist-packages (from wandb) (2.3)\n",
            "Requirement already satisfied: protobuf!=4.0.*,!=4.21.0,<5,>=3.12.0 in /usr/local/lib/python3.7/dist-packages (from wandb) (3.19.6)\n",
            "Collecting GitPython>=1.0.0\n",
            "  Downloading GitPython-3.1.29-py3-none-any.whl (182 kB)\n",
            "\u001b[K     |████████████████████████████████| 182 kB 63.8 MB/s \n",
            "\u001b[?25hCollecting gitdb<5,>=4.0.1\n",
            "  Downloading gitdb-4.0.10-py3-none-any.whl (62 kB)\n",
            "\u001b[K     |████████████████████████████████| 62 kB 764 kB/s \n",
            "\u001b[?25hRequirement already satisfied: typing-extensions>=3.7.4.3 in /usr/local/lib/python3.7/dist-packages (from GitPython>=1.0.0->wandb) (4.1.1)\n",
            "Collecting smmap<6,>=3.0.1\n",
            "  Downloading smmap-5.0.0-py3-none-any.whl (24 kB)\n",
            "Requirement already satisfied: certifi>=2017.4.17 in /usr/local/lib/python3.7/dist-packages (from requests<3,>=2.0.0->wandb) (2022.9.24)\n",
            "Requirement already satisfied: idna<3,>=2.5 in /usr/local/lib/python3.7/dist-packages (from requests<3,>=2.0.0->wandb) (2.10)\n",
            "Requirement already satisfied: urllib3!=1.25.0,!=1.25.1,<1.26,>=1.21.1 in /usr/local/lib/python3.7/dist-packages (from requests<3,>=2.0.0->wandb) (1.24.3)\n",
            "Requirement already satisfied: chardet<4,>=3.0.2 in /usr/local/lib/python3.7/dist-packages (from requests<3,>=2.0.0->wandb) (3.0.4)\n",
            "Collecting sentry-sdk>=1.0.0\n",
            "  Downloading sentry_sdk-1.11.0-py2.py3-none-any.whl (168 kB)\n",
            "\u001b[K     |████████████████████████████████| 168 kB 46.5 MB/s \n",
            "\u001b[?25h  Downloading sentry_sdk-1.10.1-py2.py3-none-any.whl (166 kB)\n",
            "\u001b[K     |████████████████████████████████| 166 kB 67.8 MB/s \n",
            "\u001b[?25h  Downloading sentry_sdk-1.10.0-py2.py3-none-any.whl (166 kB)\n",
            "\u001b[K     |████████████████████████████████| 166 kB 62.4 MB/s \n",
            "\u001b[?25h  Downloading sentry_sdk-1.9.10-py2.py3-none-any.whl (162 kB)\n",
            "\u001b[K     |████████████████████████████████| 162 kB 49.0 MB/s \n",
            "\u001b[?25h  Downloading sentry_sdk-1.9.9-py2.py3-none-any.whl (162 kB)\n",
            "\u001b[K     |████████████████████████████████| 162 kB 39.5 MB/s \n",
            "\u001b[?25h  Downloading sentry_sdk-1.9.8-py2.py3-none-any.whl (158 kB)\n",
            "\u001b[K     |████████████████████████████████| 158 kB 63.6 MB/s \n",
            "\u001b[?25h  Downloading sentry_sdk-1.9.7-py2.py3-none-any.whl (157 kB)\n",
            "\u001b[K     |████████████████████████████████| 157 kB 61.0 MB/s \n",
            "\u001b[?25h  Downloading sentry_sdk-1.9.6-py2.py3-none-any.whl (157 kB)\n",
            "\u001b[K     |████████████████████████████████| 157 kB 42.8 MB/s \n",
            "\u001b[?25h  Downloading sentry_sdk-1.9.5-py2.py3-none-any.whl (157 kB)\n",
            "\u001b[K     |████████████████████████████████| 157 kB 62.3 MB/s \n",
            "\u001b[?25h  Downloading sentry_sdk-1.9.4-py2.py3-none-any.whl (157 kB)\n",
            "\u001b[K     |████████████████████████████████| 157 kB 62.8 MB/s \n",
            "\u001b[?25h  Downloading sentry_sdk-1.9.3-py2.py3-none-any.whl (157 kB)\n",
            "\u001b[K     |████████████████████████████████| 157 kB 65.6 MB/s \n",
            "\u001b[?25h  Downloading sentry_sdk-1.9.2-py2.py3-none-any.whl (157 kB)\n",
            "\u001b[K     |████████████████████████████████| 157 kB 62.9 MB/s \n",
            "\u001b[?25h  Downloading sentry_sdk-1.9.1-py2.py3-none-any.whl (157 kB)\n",
            "\u001b[K     |████████████████████████████████| 157 kB 45.9 MB/s \n",
            "\u001b[?25h  Downloading sentry_sdk-1.9.0-py2.py3-none-any.whl (156 kB)\n",
            "\u001b[K     |████████████████████████████████| 156 kB 52.7 MB/s \n",
            "\u001b[?25hBuilding wheels for collected packages: pathtools\n",
            "  Building wheel for pathtools (setup.py) ... \u001b[?25l\u001b[?25hdone\n",
            "  Created wheel for pathtools: filename=pathtools-0.1.2-py3-none-any.whl size=8806 sha256=4314646b212b3dc1fda64e46024895485954f5e4f7241f4490e3a41d19ec60fa\n",
            "  Stored in directory: /root/.cache/pip/wheels/3e/31/09/fa59cef12cdcfecc627b3d24273699f390e71828921b2cbba2\n",
            "Successfully built pathtools\n",
            "Installing collected packages: smmap, gitdb, shortuuid, setproctitle, sentry-sdk, pathtools, GitPython, docker-pycreds, wandb\n",
            "Successfully installed GitPython-3.1.29 docker-pycreds-0.4.0 gitdb-4.0.10 pathtools-0.1.2 sentry-sdk-1.9.0 setproctitle-1.3.2 shortuuid-1.0.11 smmap-5.0.0 wandb-0.13.5\n"
          ]
        }
      ]
    },
    {
      "cell_type": "code",
      "source": [],
      "metadata": {
        "id": "4dfoksUm_HX5"
      },
      "execution_count": null,
      "outputs": []
    },
    {
      "cell_type": "code",
      "source": [
        "import wandb\n",
        "import tensorflow as tf\n",
        "\n",
        "wandb.init(project=\"test-project\", entity=\"aifinal\")\n",
        "\n"
      ],
      "metadata": {
        "colab": {
          "base_uri": "https://localhost:8080/",
          "height": 596
        },
        "id": "Zg45bxFR_UQb",
        "outputId": "3eddd246-de93-4172-cc2c-602422e0e710"
      },
      "execution_count": null,
      "outputs": [
        {
          "output_type": "display_data",
          "data": {
            "text/plain": [
              "<IPython.core.display.HTML object>"
            ],
            "text/html": [
              "Finishing last run (ID:1x4g74u5) before initializing another..."
            ]
          },
          "metadata": {}
        },
        {
          "output_type": "display_data",
          "data": {
            "text/plain": [
              "<IPython.core.display.HTML object>"
            ],
            "text/html": [
              "Waiting for W&B process to finish... <strong style=\"color:green\">(success).</strong>"
            ]
          },
          "metadata": {}
        },
        {
          "output_type": "display_data",
          "data": {
            "text/plain": [
              "<IPython.core.display.HTML object>"
            ],
            "text/html": [
              "Synced <strong style=\"color:#cdcd00\">curious-dragon-3</strong>: <a href=\"https://wandb.ai/aifinal/test-project/runs/1x4g74u5\" target=\"_blank\">https://wandb.ai/aifinal/test-project/runs/1x4g74u5</a><br/>Synced 4 W&B file(s), 0 media file(s), 0 artifact file(s) and 0 other file(s)"
            ]
          },
          "metadata": {}
        },
        {
          "output_type": "display_data",
          "data": {
            "text/plain": [
              "<IPython.core.display.HTML object>"
            ],
            "text/html": [
              "Find logs at: <code>./wandb/run-20221130_100507-1x4g74u5/logs</code>"
            ]
          },
          "metadata": {}
        },
        {
          "output_type": "display_data",
          "data": {
            "text/plain": [
              "<IPython.core.display.HTML object>"
            ],
            "text/html": [
              "Successfully finished last run (ID:1x4g74u5). Initializing new run:<br/>"
            ]
          },
          "metadata": {}
        },
        {
          "output_type": "display_data",
          "data": {
            "text/plain": [
              "<IPython.core.display.HTML object>"
            ],
            "text/html": [
              "Tracking run with wandb version 0.13.5"
            ]
          },
          "metadata": {}
        },
        {
          "output_type": "display_data",
          "data": {
            "text/plain": [
              "<IPython.core.display.HTML object>"
            ],
            "text/html": [
              "Run data is saved locally in <code>/content/drive/MyDrive/인공지능 기말/wandb/run-20221130_100516-1ljfnclt</code>"
            ]
          },
          "metadata": {}
        },
        {
          "output_type": "display_data",
          "data": {
            "text/plain": [
              "<IPython.core.display.HTML object>"
            ],
            "text/html": [
              "Syncing run <strong><a href=\"https://wandb.ai/aifinal/test-project/runs/1ljfnclt\" target=\"_blank\">olive-feather-4</a></strong> to <a href=\"https://wandb.ai/aifinal/test-project\" target=\"_blank\">Weights & Biases</a> (<a href=\"https://wandb.me/run\" target=\"_blank\">docs</a>)<br/>"
            ]
          },
          "metadata": {}
        },
        {
          "output_type": "execute_result",
          "data": {
            "text/html": [
              "<button onClick=\"this.nextSibling.style.display='block';this.style.display='none';\">Display W&B run</button><iframe src=\"https://wandb.ai/aifinal/test-project/runs/1ljfnclt?jupyter=true\" style=\"border:none;width:100%;height:420px;display:none;\"></iframe>"
            ],
            "text/plain": [
              "<wandb.sdk.wandb_run.Run at 0x7f97b84c7e10>"
            ]
          },
          "metadata": {},
          "execution_count": 68
        }
      ]
    },
    {
      "cell_type": "code",
      "source": [
        "##############################################################"
      ],
      "metadata": {
        "id": "JGdFtLDD8nFt"
      },
      "execution_count": null,
      "outputs": []
    },
    {
      "cell_type": "code",
      "source": [
        "%cd /content/drive/MyDrive/인공지능 기말/\n",
        "import numpy as np\n",
        "import tensorflow as tf\n",
        "import pandas as pd\n",
        "import io\n",
        "import matplotlib.pyplot as plt\n",
        "from matplotlib import image\n",
        "from pathlib import Path\n",
        "import os.path\n",
        "from PIL import Image"
      ],
      "metadata": {
        "colab": {
          "base_uri": "https://localhost:8080/"
        },
        "id": "DOdfoBBjPpve",
        "outputId": "60121b3a-46cd-41e8-c8ca-89f645e05a0b"
      },
      "execution_count": null,
      "outputs": [
        {
          "output_type": "stream",
          "name": "stdout",
          "text": [
            "/content/drive/MyDrive/인공지능 기말\n"
          ]
        }
      ]
    },
    {
      "cell_type": "code",
      "source": [
        "def load_imgs(img_path):\n",
        "    imgs=[]\n",
        "    label=[]\n",
        "    label1=os.listdir(img_path)\n",
        "    for index in label1:\n",
        "        label2 = os.listdir(img_path+'/' + index)\n",
        "        for index2 in label2:\n",
        "            c=0\n",
        "            img=Image.open(img_path+'/' + index + '/' + index2).convert('RGB')\n",
        "            img=img.resize(size=(224,224))\n",
        "            #img=img.convert('L')\n",
        "            img=np.array(img,dtype=np.float16)/255\n",
        "            imgs.append(np.array(img)) #.flatten())\n",
        "            label.append(index)\n",
        "            del img\n",
        "    return np.array(imgs),label"
      ],
      "metadata": {
        "id": "4DI3rn15C3B-"
      },
      "execution_count": null,
      "outputs": []
    },
    {
      "cell_type": "code",
      "source": [
        "X_train, y_train=load_imgs('./Vegetable Images/train')\n",
        "X_test, y_test=load_imgs('./Vegetable Images/test')\n",
        "X_val, y_val=load_imgs('./Vegetable Images/validation')"
      ],
      "metadata": {
        "id": "EVyEYmtGDCbt"
      },
      "execution_count": null,
      "outputs": []
    },
    {
      "cell_type": "code",
      "source": [
        "X_train.shape"
      ],
      "metadata": {
        "colab": {
          "base_uri": "https://localhost:8080/"
        },
        "id": "VdniqWeeDDAx",
        "outputId": "5ce58530-5fdb-4caf-c655-446ee9ef1f10"
      },
      "execution_count": null,
      "outputs": [
        {
          "output_type": "execute_result",
          "data": {
            "text/plain": [
              "(15000, 224, 224, 3)"
            ]
          },
          "metadata": {},
          "execution_count": 4
        }
      ]
    },
    {
      "cell_type": "code",
      "source": [
        "#카테고리형 시리즈 만들고 레이블화\n",
        "#훈련\n",
        "X_train=np.array(X_train)\n",
        "y_train=pd.Series(y_train,dtype='category')\n",
        "#테스트\n",
        "X_test=np.array(X_test)\n",
        "y_test=pd.Series(y_test,dtype='category')\n",
        "#검증\n",
        "X_val=np.array(X_val)\n",
        "y_val=pd.Series(y_val,dtype='category')\n",
        "#범주화\n",
        "y_train=y_train.cat.codes\n",
        "y_test=y_test.cat.codes\n",
        "y_val=y_val.cat.codes"
      ],
      "metadata": {
        "id": "g5xFZj9MDH_9"
      },
      "execution_count": null,
      "outputs": []
    },
    {
      "cell_type": "markdown",
      "source": [
        "https://wjunsea.tistory.com/94\n",
        "\n",
        "https://buomsoo-kim.github.io/keras/2018/05/05/Easy-deep-learning-with-Keras-11.md/\n",
        "\n",
        "\n",
        "batch normalization은 학습 과정에서 각 배치 단위 별로 데이터가 다양한 분포를 가지더라도 각 배치별로 평균과 분산을 이용해 정규화하는 것을 뜻"
      ],
      "metadata": {
        "id": "DzO_iIw2GCay"
      }
    },
    {
      "cell_type": "code",
      "source": [
        "# model=tf.keras.models.Sequential([\n",
        "#     tf.keras.layers.Conv2D(32,(3,3),activation='relu',input_shape=(100,100,3)),\n",
        "#     tf.keras.layers.MaxPooling2D(2,2),\n",
        "#     tf.keras.layers.Conv2D(64,(3,3),activation='relu'),\n",
        "#     tf.keras.layers.MaxPooling2D(2,2),\n",
        "#     tf.keras.layers.Conv2D(128,(3,3),activation='relu'),\n",
        "#     tf.keras.layers.MaxPooling2D(2,2),\n",
        "    \n",
        "#     tf.keras.layers.Flatten(),\n",
        "#     tf.keras.layers.Dense(256,activation='relu'),\n",
        "#     tf.keras.layers.Dense(512,activation='relu'),\n",
        "#     tf.keras.layers.Dense(15,activation='softmax'),\n",
        "# ])\n",
        "# model.summary()\n",
        "from tensorflow.keras.models import Sequential\n",
        "from tensorflow.keras.layers import Activation,Dense, Conv2D, MaxPooling2D, BatchNormalization,MaxPool2D,Flatten,Dropout\n",
        "from tensorflow.keras.optimizers import Adam\n",
        "#논문의 있는 VGGNET 구조\n",
        "model = Sequential()\n",
        "# model.add(layers.experimental.preprocessing.Resizing(224, 224, interpolation=\"bilinear\", input_shape=x_train.shape[1:]))\n",
        "model.add(Conv2D(64, 3, strides= 1, padding='same', input_shape=X_train.shape[1:]))\n",
        "model.add(BatchNormalization())\n",
        "model.add(Activation('relu'))\n",
        "model.add(Conv2D(64, 3, strides= 1, padding='same'))\n",
        "model.add(BatchNormalization())\n",
        "model.add(Activation(activation='relu'))\n",
        "model.add(MaxPool2D((2,2), strides=2))\n",
        "\n",
        "model.add(Conv2D(128, 3, strides=1, padding='same'))\n",
        "model.add(BatchNormalization())\n",
        "model.add(Activation('relu'))\n",
        "model.add(Conv2D(128, 3, strides=1, padding='same'))\n",
        "model.add(BatchNormalization())\n",
        "model.add(Activation(activation='relu'))\n",
        "model.add(MaxPool2D((2, 2), strides=2))\n",
        "\n",
        "model.add(Conv2D(256, 3, strides=1, padding='same'))\n",
        "model.add(BatchNormalization())\n",
        "model.add(Activation(activation='relu'))\n",
        "model.add(Conv2D(256, 3, strides=1, padding='same'))\n",
        "model.add(BatchNormalization())\n",
        "model.add(Activation(activation='relu'))\n",
        "model.add(Conv2D(256, 3, strides=1, padding='same'))\n",
        "model.add(BatchNormalization())\n",
        "model.add(Activation(activation='relu'))\n",
        "model.add(MaxPool2D((2, 2), strides=2))\n",
        "\n",
        "model.add(Conv2D(512, 3, strides=1, padding='same'))\n",
        "model.add(BatchNormalization())\n",
        "model.add(Activation(activation='relu'))\n",
        "model.add(Conv2D(512, 3, strides=1, padding='same'))\n",
        "model.add(BatchNormalization())\n",
        "model.add(Activation(activation='relu'))\n",
        "model.add(Conv2D(512, 3, strides=1, padding='same'))\n",
        "model.add(BatchNormalization())\n",
        "model.add(Activation(activation='relu'))\n",
        "model.add(MaxPool2D((2, 2), strides=2))\n",
        "model.add(MaxPool2D((2, 2), strides=2))\n",
        "\n",
        "model.add(Flatten())\n",
        "model.add(Dense(4096, activation='relu'))\n",
        "model.add(Dropout(0.5))\n",
        "model.add(Dense(4096, activation='relu'))\n",
        "model.add(Dropout(0.5))\n",
        "model.add(Dense(15, activation='softmax'))\n",
        "model.summary()\n"
      ],
      "metadata": {
        "colab": {
          "base_uri": "https://localhost:8080/"
        },
        "id": "paApYSR-DKVd",
        "outputId": "9fa2ebb7-30eb-4fb8-c480-de28105fd940"
      },
      "execution_count": null,
      "outputs": [
        {
          "output_type": "stream",
          "name": "stdout",
          "text": [
            "Model: \"sequential\"\n",
            "_________________________________________________________________\n",
            " Layer (type)                Output Shape              Param #   \n",
            "=================================================================\n",
            " conv2d (Conv2D)             (None, 224, 224, 64)      1792      \n",
            "                                                                 \n",
            " batch_normalization (BatchN  (None, 224, 224, 64)     256       \n",
            " ormalization)                                                   \n",
            "                                                                 \n",
            " activation (Activation)     (None, 224, 224, 64)      0         \n",
            "                                                                 \n",
            " conv2d_1 (Conv2D)           (None, 224, 224, 64)      36928     \n",
            "                                                                 \n",
            " batch_normalization_1 (Batc  (None, 224, 224, 64)     256       \n",
            " hNormalization)                                                 \n",
            "                                                                 \n",
            " activation_1 (Activation)   (None, 224, 224, 64)      0         \n",
            "                                                                 \n",
            " max_pooling2d (MaxPooling2D  (None, 112, 112, 64)     0         \n",
            " )                                                               \n",
            "                                                                 \n",
            " conv2d_2 (Conv2D)           (None, 112, 112, 128)     73856     \n",
            "                                                                 \n",
            " batch_normalization_2 (Batc  (None, 112, 112, 128)    512       \n",
            " hNormalization)                                                 \n",
            "                                                                 \n",
            " activation_2 (Activation)   (None, 112, 112, 128)     0         \n",
            "                                                                 \n",
            " conv2d_3 (Conv2D)           (None, 112, 112, 128)     147584    \n",
            "                                                                 \n",
            " batch_normalization_3 (Batc  (None, 112, 112, 128)    512       \n",
            " hNormalization)                                                 \n",
            "                                                                 \n",
            " activation_3 (Activation)   (None, 112, 112, 128)     0         \n",
            "                                                                 \n",
            " max_pooling2d_1 (MaxPooling  (None, 56, 56, 128)      0         \n",
            " 2D)                                                             \n",
            "                                                                 \n",
            " conv2d_4 (Conv2D)           (None, 56, 56, 256)       295168    \n",
            "                                                                 \n",
            " batch_normalization_4 (Batc  (None, 56, 56, 256)      1024      \n",
            " hNormalization)                                                 \n",
            "                                                                 \n",
            " activation_4 (Activation)   (None, 56, 56, 256)       0         \n",
            "                                                                 \n",
            " conv2d_5 (Conv2D)           (None, 56, 56, 256)       590080    \n",
            "                                                                 \n",
            " batch_normalization_5 (Batc  (None, 56, 56, 256)      1024      \n",
            " hNormalization)                                                 \n",
            "                                                                 \n",
            " activation_5 (Activation)   (None, 56, 56, 256)       0         \n",
            "                                                                 \n",
            " conv2d_6 (Conv2D)           (None, 56, 56, 256)       590080    \n",
            "                                                                 \n",
            " batch_normalization_6 (Batc  (None, 56, 56, 256)      1024      \n",
            " hNormalization)                                                 \n",
            "                                                                 \n",
            " activation_6 (Activation)   (None, 56, 56, 256)       0         \n",
            "                                                                 \n",
            " max_pooling2d_2 (MaxPooling  (None, 28, 28, 256)      0         \n",
            " 2D)                                                             \n",
            "                                                                 \n",
            " conv2d_7 (Conv2D)           (None, 28, 28, 512)       1180160   \n",
            "                                                                 \n",
            " batch_normalization_7 (Batc  (None, 28, 28, 512)      2048      \n",
            " hNormalization)                                                 \n",
            "                                                                 \n",
            " activation_7 (Activation)   (None, 28, 28, 512)       0         \n",
            "                                                                 \n",
            " conv2d_8 (Conv2D)           (None, 28, 28, 512)       2359808   \n",
            "                                                                 \n",
            " batch_normalization_8 (Batc  (None, 28, 28, 512)      2048      \n",
            " hNormalization)                                                 \n",
            "                                                                 \n",
            " activation_8 (Activation)   (None, 28, 28, 512)       0         \n",
            "                                                                 \n",
            " conv2d_9 (Conv2D)           (None, 28, 28, 512)       2359808   \n",
            "                                                                 \n",
            " batch_normalization_9 (Batc  (None, 28, 28, 512)      2048      \n",
            " hNormalization)                                                 \n",
            "                                                                 \n",
            " activation_9 (Activation)   (None, 28, 28, 512)       0         \n",
            "                                                                 \n",
            " max_pooling2d_3 (MaxPooling  (None, 14, 14, 512)      0         \n",
            " 2D)                                                             \n",
            "                                                                 \n",
            " max_pooling2d_4 (MaxPooling  (None, 7, 7, 512)        0         \n",
            " 2D)                                                             \n",
            "                                                                 \n",
            " flatten (Flatten)           (None, 25088)             0         \n",
            "                                                                 \n",
            " dense (Dense)               (None, 4096)              102764544 \n",
            "                                                                 \n",
            " dropout (Dropout)           (None, 4096)              0         \n",
            "                                                                 \n",
            " dense_1 (Dense)             (None, 4096)              16781312  \n",
            "                                                                 \n",
            " dropout_1 (Dropout)         (None, 4096)              0         \n",
            "                                                                 \n",
            " dense_2 (Dense)             (None, 15)                61455     \n",
            "                                                                 \n",
            "=================================================================\n",
            "Total params: 127,253,327\n",
            "Trainable params: 127,247,951\n",
            "Non-trainable params: 5,376\n",
            "_________________________________________________________________\n"
          ]
        }
      ]
    },
    {
      "cell_type": "code",
      "source": [
        "from tensorflow import keras\n",
        "\n",
        "#성능 안오르면 멈춤\n",
        "model.compile(\n",
        "    loss='sparse_categorical_crossentropy',\n",
        "    optimizer='adam',\n",
        "    metrics=['accuracy']\n",
        ")\n",
        "hist = model.fit(\n",
        "    X_train,y_train,\n",
        "    validation_data=(X_val,y_val),\n",
        "    epochs=5\n",
        ")"
      ],
      "metadata": {
        "id": "VEFg0V_iDNUW"
      },
      "execution_count": null,
      "outputs": []
    },
    {
      "cell_type": "code",
      "source": [
        "model.evaluate(X_test,y_test)"
      ],
      "metadata": {
        "colab": {
          "base_uri": "https://localhost:8080/"
        },
        "id": "C4Bl61-JDP5H",
        "outputId": "e81036a6-7c05-4842-80cb-e52fc9870089"
      },
      "execution_count": null,
      "outputs": [
        {
          "output_type": "stream",
          "name": "stdout",
          "text": [
            "94/94 [==============================] - 1s 7ms/step - loss: 0.2408 - accuracy: 0.9567\n"
          ]
        },
        {
          "output_type": "execute_result",
          "data": {
            "text/plain": [
              "[0.240836039185524, 0.9566666483879089]"
            ]
          },
          "metadata": {},
          "execution_count": 10
        }
      ]
    }
  ]
}