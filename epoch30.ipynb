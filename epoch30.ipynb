{
  "nbformat": 4,
  "nbformat_minor": 0,
  "metadata": {
    "colab": {
      "provenance": [],
      "authorship_tag": "ABX9TyP4nipm4Xl9fUVc1VyyEe8o",
      "include_colab_link": true
    },
    "kernelspec": {
      "name": "python3",
      "display_name": "Python 3"
    },
    "language_info": {
      "name": "python"
    },
    "accelerator": "GPU",
    "gpuClass": "standard"
  },
  "cells": [
    {
      "cell_type": "markdown",
      "metadata": {
        "id": "view-in-github",
        "colab_type": "text"
      },
      "source": [
        "<a href=\"https://colab.research.google.com/github/ChoEChoU/AI_Final/blob/hht/epoch30.ipynb\" target=\"_parent\"><img src=\"https://colab.research.google.com/assets/colab-badge.svg\" alt=\"Open In Colab\"/></a>"
      ]
    },
    {
      "cell_type": "code",
      "execution_count": null,
      "metadata": {
        "id": "wxXZNMu69M4P",
        "colab": {
          "base_uri": "https://localhost:8080/"
        },
        "outputId": "de1f84e2-d2e4-4bdf-f564-d2bfee6eaeb3"
      },
      "outputs": [
        {
          "output_type": "stream",
          "name": "stdout",
          "text": [
            "Mounted at /content/drive\n"
          ]
        }
      ],
      "source": [
        "from google.colab import drive\n",
        "drive.mount('/content/drive')"
      ]
    },
    {
      "cell_type": "code",
      "execution_count": null,
      "metadata": {
        "id": "-5JK1-cG9N_k"
      },
      "outputs": [],
      "source": [
        "from PIL import Image\n",
        "from tensorflow.keras.layers import Conv2D, MaxPooling2D, Flatten, Dense,Reshape,Activation\n",
        "from tensorflow.keras.models import Sequential\n",
        "import matplotlib.pyplot as plt\n",
        "from matplotlib import image\n",
        "from PIL import Image\n",
        "from keras.layers import Dropout\n",
        "import os\n",
        "import numpy as np \n",
        "import pandas as pd\n",
        "import cv2"
      ]
    },
    {
      "cell_type": "code",
      "execution_count": null,
      "metadata": {
        "colab": {
          "base_uri": "https://localhost:8080/"
        },
        "id": "jF9ry9ez9OWd",
        "outputId": "b440cef5-5468-4b85-cc5a-7c7c511ba900"
      },
      "outputs": [
        {
          "output_type": "stream",
          "name": "stdout",
          "text": [
            "['Bean', 'Bitter_Gourd', 'Bottle_Gourd', 'Brinjal', 'Broccoli', 'Cabbage', 'Capsicum', 'Carrot', 'Cauliflower', 'Cucumber', 'Papaya', 'Potato', 'Pumpkin', 'Radish', 'Tomato']\n"
          ]
        }
      ],
      "source": [
        "impath = \"/content/drive/MyDrive/AI project/Vegetable Images/train/\"\n",
        "class_list=os.listdir(impath) \n",
        "print(class_list)"
      ]
    },
    {
      "cell_type": "code",
      "execution_count": null,
      "metadata": {
        "id": "2ArQe2bf8mG9"
      },
      "outputs": [],
      "source": [
        "def load_imgs(path):\n",
        "  imgs=[]\n",
        "  label=[]\n",
        "  for class_name in class_list:\n",
        "      img_list = os.listdir(path + class_name)\n",
        "      for img_name in img_list:\n",
        "          temp_img = cv2.imread(path + class_name +\"/\" + img_name, cv2.COLOR_BGR2RGB)\n",
        "          if temp_img is None:\n",
        "              print(\"이미지 인식 못함\")\n",
        "          else:\n",
        "              resize_img = cv2.resize(temp_img, (128, 128))\n",
        "              imgs.append(np.array(resize_img))\n",
        "              label.append(class_name)\n",
        "  return np.array(imgs),label"
      ]
    },
    {
      "cell_type": "code",
      "execution_count": null,
      "metadata": {
        "id": "h4IR-xyA9PcW",
        "colab": {
          "base_uri": "https://localhost:8080/"
        },
        "outputId": "e005a9e7-88e6-4908-dae3-ceabdf5f6208"
      },
      "outputs": [
        {
          "output_type": "stream",
          "name": "stdout",
          "text": [
            "(15000, 128, 128, 3)\n"
          ]
        }
      ],
      "source": [
        "train_x,train_y=load_imgs('/content/drive/MyDrive/AI project/Vegetable Images/train/')\n",
        "train_y=pd.Series(train_y)\n",
        "train_x\n",
        "print(train_x.shape)"
      ]
    },
    {
      "cell_type": "code",
      "execution_count": null,
      "metadata": {
        "id": "MKwHmRIqUoo1",
        "colab": {
          "base_uri": "https://localhost:8080/"
        },
        "outputId": "8b37a74b-a462-40a5-aca4-78776348ac6d"
      },
      "outputs": [
        {
          "output_type": "stream",
          "name": "stdout",
          "text": [
            "(3000, 128, 128, 3)\n"
          ]
        }
      ],
      "source": [
        "valid_x,valid_y=load_imgs('/content/drive/MyDrive/AI project/Vegetable Images/validation/')\n",
        "valid_y=pd.Series(valid_y)\n",
        "valid_x\n",
        "print(valid_x.shape)"
      ]
    },
    {
      "cell_type": "code",
      "execution_count": null,
      "metadata": {
        "colab": {
          "base_uri": "https://localhost:8080/"
        },
        "id": "upLrPIDj506Q",
        "outputId": "3f82d714-0f96-428c-d012-17163964ab08"
      },
      "outputs": [
        {
          "output_type": "stream",
          "name": "stdout",
          "text": [
            "(3000, 128, 128, 3)\n"
          ]
        }
      ],
      "source": [
        "test_x,test_y=load_imgs('/content/drive/MyDrive/AI project/Vegetable Images/test/')\n",
        "test_y=pd.Series(test_y)\n",
        "test_x\n",
        "print(test_x.shape)"
      ]
    },
    {
      "cell_type": "code",
      "execution_count": null,
      "metadata": {
        "id": "eSwcFp22U2T7"
      },
      "outputs": [],
      "source": [
        "name_list = [\"Bean\", \"Bitter_Gourd\", \"Bottle_Gourd\", \"Brinjal\", \"Broccoli\",\"Cabbage\",\"Capsicum\",\"Carrot\",\"Cauliflower\",\"Cucumber\",\"Papaya\",\"Potato\",\"Pumpkin\",\"Radish\",\"Tomato\"]\n",
        "index = 0\n",
        "for i in name_list:\n",
        "  test_y=test_y.replace(i,index)\n",
        "  valid_y=valid_y.replace(i,index)\n",
        "  train_y=train_y.replace(i,index)\n",
        "  index += 1  "
      ]
    },
    {
      "cell_type": "code",
      "execution_count": null,
      "metadata": {
        "id": "rAZCjbmNAYUD"
      },
      "outputs": [],
      "source": [
        "from tensorflow.keras.layers import Conv2D,MaxPooling2D,Flatten,Dense,Dropout,BatchNormalization\n",
        "from tensorflow.keras.models import Sequential \n",
        "import tensorflow as tf"
      ]
    },
    {
      "cell_type": "code",
      "execution_count": null,
      "metadata": {
        "id": "gUx9FxkSD7Np",
        "colab": {
          "base_uri": "https://localhost:8080/"
        },
        "outputId": "0d8a1909-3c13-44f3-8698-d2224ebe3322"
      },
      "outputs": [
        {
          "output_type": "stream",
          "name": "stdout",
          "text": [
            "Model: \"sequential\"\n",
            "_________________________________________________________________\n",
            " Layer (type)                Output Shape              Param #   \n",
            "=================================================================\n",
            " conv2d (Conv2D)             (None, 126, 126, 32)      896       \n",
            "                                                                 \n",
            " max_pooling2d (MaxPooling2D  (None, 63, 63, 32)       0         \n",
            " )                                                               \n",
            "                                                                 \n",
            " conv2d_1 (Conv2D)           (None, 61, 61, 64)        18496     \n",
            "                                                                 \n",
            " max_pooling2d_1 (MaxPooling  (None, 30, 30, 64)       0         \n",
            " 2D)                                                             \n",
            "                                                                 \n",
            " conv2d_2 (Conv2D)           (None, 28, 28, 128)       73856     \n",
            "                                                                 \n",
            " max_pooling2d_2 (MaxPooling  (None, 14, 14, 128)      0         \n",
            " 2D)                                                             \n",
            "                                                                 \n",
            " flatten (Flatten)           (None, 25088)             0         \n",
            "                                                                 \n",
            " dense (Dense)               (None, 256)               6422784   \n",
            "                                                                 \n",
            " dense_1 (Dense)             (None, 512)               131584    \n",
            "                                                                 \n",
            " dense_2 (Dense)             (None, 15)                7695      \n",
            "                                                                 \n",
            "=================================================================\n",
            "Total params: 6,655,311\n",
            "Trainable params: 6,655,311\n",
            "Non-trainable params: 0\n",
            "_________________________________________________________________\n",
            "Epoch 1/30\n",
            "469/469 [==============================] - 18s 21ms/step - loss: 2.9815 - accuracy: 0.4240 - val_loss: 1.3066 - val_accuracy: 0.5970\n",
            "Epoch 2/30\n",
            "469/469 [==============================] - 10s 21ms/step - loss: 0.7604 - accuracy: 0.7633 - val_loss: 0.8459 - val_accuracy: 0.7790\n",
            "Epoch 3/30\n",
            "469/469 [==============================] - 10s 21ms/step - loss: 0.3913 - accuracy: 0.8782 - val_loss: 0.6285 - val_accuracy: 0.8303\n",
            "Epoch 4/30\n",
            "469/469 [==============================] - 9s 20ms/step - loss: 0.2600 - accuracy: 0.9205 - val_loss: 0.5520 - val_accuracy: 0.8580\n",
            "Epoch 5/30\n",
            "469/469 [==============================] - 9s 20ms/step - loss: 0.2060 - accuracy: 0.9389 - val_loss: 0.5962 - val_accuracy: 0.8543\n",
            "Epoch 6/30\n",
            "469/469 [==============================] - 10s 21ms/step - loss: 0.1317 - accuracy: 0.9594 - val_loss: 0.6426 - val_accuracy: 0.8717\n",
            "Epoch 7/30\n",
            "469/469 [==============================] - 10s 21ms/step - loss: 0.1002 - accuracy: 0.9702 - val_loss: 1.0125 - val_accuracy: 0.8223\n",
            "Epoch 8/30\n",
            "469/469 [==============================] - 10s 20ms/step - loss: 0.1256 - accuracy: 0.9633 - val_loss: 0.7980 - val_accuracy: 0.8497\n",
            "Epoch 9/30\n",
            "469/469 [==============================] - 9s 20ms/step - loss: 0.2151 - accuracy: 0.9439 - val_loss: 0.7441 - val_accuracy: 0.8540\n",
            "Epoch 10/30\n",
            "469/469 [==============================] - 10s 21ms/step - loss: 0.1004 - accuracy: 0.9734 - val_loss: 0.7056 - val_accuracy: 0.8560\n",
            "Epoch 11/30\n",
            "469/469 [==============================] - 9s 20ms/step - loss: 0.0867 - accuracy: 0.9768 - val_loss: 0.9106 - val_accuracy: 0.8387\n",
            "Epoch 12/30\n",
            "469/469 [==============================] - 10s 21ms/step - loss: 0.0945 - accuracy: 0.9737 - val_loss: 0.7969 - val_accuracy: 0.8663\n",
            "Epoch 13/30\n",
            "469/469 [==============================] - 9s 20ms/step - loss: 0.0912 - accuracy: 0.9771 - val_loss: 0.7932 - val_accuracy: 0.8570\n",
            "Epoch 14/30\n",
            "469/469 [==============================] - 10s 21ms/step - loss: 0.0938 - accuracy: 0.9763 - val_loss: 0.8130 - val_accuracy: 0.8517\n",
            "Epoch 15/30\n",
            "469/469 [==============================] - 9s 20ms/step - loss: 0.1132 - accuracy: 0.9719 - val_loss: 1.0508 - val_accuracy: 0.8213\n",
            "Epoch 16/30\n",
            "469/469 [==============================] - 9s 20ms/step - loss: 0.0728 - accuracy: 0.9793 - val_loss: 1.0564 - val_accuracy: 0.8367\n",
            "Epoch 17/30\n",
            "469/469 [==============================] - 9s 20ms/step - loss: 0.0825 - accuracy: 0.9788 - val_loss: 0.8253 - val_accuracy: 0.8587\n",
            "Epoch 18/30\n",
            "469/469 [==============================] - 10s 21ms/step - loss: 0.0458 - accuracy: 0.9880 - val_loss: 0.9357 - val_accuracy: 0.8493\n",
            "Epoch 19/30\n",
            "469/469 [==============================] - 9s 20ms/step - loss: 0.0925 - accuracy: 0.9779 - val_loss: 1.0232 - val_accuracy: 0.8537\n",
            "Epoch 20/30\n",
            "469/469 [==============================] - 10s 21ms/step - loss: 0.0659 - accuracy: 0.9839 - val_loss: 1.0227 - val_accuracy: 0.8527\n",
            "Epoch 21/30\n",
            "469/469 [==============================] - 10s 21ms/step - loss: 0.0713 - accuracy: 0.9825 - val_loss: 0.9906 - val_accuracy: 0.8613\n",
            "Epoch 22/30\n",
            "469/469 [==============================] - 9s 20ms/step - loss: 0.0703 - accuracy: 0.9843 - val_loss: 1.1239 - val_accuracy: 0.8423\n",
            "Epoch 23/30\n",
            "469/469 [==============================] - 10s 21ms/step - loss: 0.0708 - accuracy: 0.9835 - val_loss: 1.0470 - val_accuracy: 0.8643\n",
            "Epoch 24/30\n",
            "469/469 [==============================] - 9s 20ms/step - loss: 0.0725 - accuracy: 0.9852 - val_loss: 1.5228 - val_accuracy: 0.8223\n",
            "Epoch 25/30\n",
            "469/469 [==============================] - 10s 21ms/step - loss: 0.0640 - accuracy: 0.9853 - val_loss: 1.0965 - val_accuracy: 0.8567\n",
            "Epoch 26/30\n",
            "469/469 [==============================] - 9s 20ms/step - loss: 0.0891 - accuracy: 0.9811 - val_loss: 1.0269 - val_accuracy: 0.8730\n",
            "Epoch 27/30\n",
            "469/469 [==============================] - 10s 21ms/step - loss: 0.0541 - accuracy: 0.9875 - val_loss: 1.2010 - val_accuracy: 0.8563\n",
            "Epoch 28/30\n",
            "469/469 [==============================] - 10s 21ms/step - loss: 0.0669 - accuracy: 0.9861 - val_loss: 1.3172 - val_accuracy: 0.8513\n",
            "Epoch 29/30\n",
            "469/469 [==============================] - 10s 21ms/step - loss: 0.0728 - accuracy: 0.9851 - val_loss: 1.2185 - val_accuracy: 0.8503\n",
            "Epoch 30/30\n",
            "469/469 [==============================] - 10s 21ms/step - loss: 0.0841 - accuracy: 0.9849 - val_loss: 0.9498 - val_accuracy: 0.8663\n"
          ]
        }
      ],
      "source": [
        "model=tf.keras.models.Sequential([\n",
        "    tf.keras.layers.Conv2D(32,(3,3),activation='relu',input_shape=train_x.shape[1:]),\n",
        "    tf.keras.layers.MaxPooling2D(2,2),\n",
        "    tf.keras.layers.Conv2D(64,(3,3),activation='relu'),\n",
        "    tf.keras.layers.MaxPooling2D(2,2),\n",
        "    tf.keras.layers.Conv2D(128,(3,3),activation='relu'),\n",
        "    tf.keras.layers.MaxPooling2D(2,2),\n",
        "    \n",
        "    tf.keras.layers.Flatten(),\n",
        "    tf.keras.layers.Dense(256,activation='relu'),\n",
        "    tf.keras.layers.Dense(512,activation='relu'),\n",
        "    tf.keras.layers.Dense(15,activation='softmax'),\n",
        "])\n",
        "model.summary()\n",
        "model.compile(optimizer=\"adam\",loss=\"sparse_categorical_crossentropy\",metrics=[\"accuracy\"])\n",
        "history = model.fit(train_x,train_y,epochs=30,  validation_data=(valid_x, valid_y))"
      ]
    },
    {
      "cell_type": "code",
      "execution_count": null,
      "metadata": {
        "id": "VlxGpVquYKkK",
        "colab": {
          "base_uri": "https://localhost:8080/",
          "height": 990
        },
        "outputId": "0ba9ce02-ead0-4f8a-9c8b-8d13e3e24fb6"
      },
      "outputs": [
        {
          "output_type": "execute_result",
          "data": {
            "text/plain": [
              "        loss  accuracy  val_loss  val_accuracy\n",
              "0   2.981509  0.424000  1.306589      0.597000\n",
              "1   0.760351  0.763267  0.845948      0.779000\n",
              "2   0.391284  0.878200  0.628510      0.830333\n",
              "3   0.260013  0.920467  0.552035      0.858000\n",
              "4   0.205979  0.938867  0.596152      0.854333\n",
              "5   0.131710  0.959400  0.642577      0.871667\n",
              "6   0.100216  0.970200  1.012523      0.822333\n",
              "7   0.125634  0.963267  0.797989      0.849667\n",
              "8   0.215098  0.943933  0.744140      0.854000\n",
              "9   0.100444  0.973400  0.705611      0.856000\n",
              "10  0.086716  0.976800  0.910596      0.838667\n",
              "11  0.094473  0.973733  0.796879      0.866333\n",
              "12  0.091163  0.977067  0.793224      0.857000\n",
              "13  0.093828  0.976333  0.813047      0.851667\n",
              "14  0.113155  0.971867  1.050808      0.821333\n",
              "15  0.072809  0.979333  1.056445      0.836667\n",
              "16  0.082478  0.978800  0.825257      0.858667\n",
              "17  0.045755  0.988000  0.935688      0.849333\n",
              "18  0.092539  0.977867  1.023213      0.853667\n",
              "19  0.065906  0.983867  1.022662      0.852667\n",
              "20  0.071312  0.982467  0.990575      0.861333\n",
              "21  0.070313  0.984267  1.123909      0.842333\n",
              "22  0.070799  0.983533  1.047017      0.864333\n",
              "23  0.072534  0.985200  1.522823      0.822333\n",
              "24  0.064042  0.985267  1.096452      0.856667\n",
              "25  0.089077  0.981067  1.026949      0.873000\n",
              "26  0.054114  0.987533  1.201004      0.856333\n",
              "27  0.066933  0.986067  1.317250      0.851333\n",
              "28  0.072775  0.985067  1.218527      0.850333\n",
              "29  0.084150  0.984933  0.949802      0.866333"
            ],
            "text/html": [
              "\n",
              "  <div id=\"df-67912f03-8f2b-4055-b573-84334ea6112b\">\n",
              "    <div class=\"colab-df-container\">\n",
              "      <div>\n",
              "<style scoped>\n",
              "    .dataframe tbody tr th:only-of-type {\n",
              "        vertical-align: middle;\n",
              "    }\n",
              "\n",
              "    .dataframe tbody tr th {\n",
              "        vertical-align: top;\n",
              "    }\n",
              "\n",
              "    .dataframe thead th {\n",
              "        text-align: right;\n",
              "    }\n",
              "</style>\n",
              "<table border=\"1\" class=\"dataframe\">\n",
              "  <thead>\n",
              "    <tr style=\"text-align: right;\">\n",
              "      <th></th>\n",
              "      <th>loss</th>\n",
              "      <th>accuracy</th>\n",
              "      <th>val_loss</th>\n",
              "      <th>val_accuracy</th>\n",
              "    </tr>\n",
              "  </thead>\n",
              "  <tbody>\n",
              "    <tr>\n",
              "      <th>0</th>\n",
              "      <td>2.981509</td>\n",
              "      <td>0.424000</td>\n",
              "      <td>1.306589</td>\n",
              "      <td>0.597000</td>\n",
              "    </tr>\n",
              "    <tr>\n",
              "      <th>1</th>\n",
              "      <td>0.760351</td>\n",
              "      <td>0.763267</td>\n",
              "      <td>0.845948</td>\n",
              "      <td>0.779000</td>\n",
              "    </tr>\n",
              "    <tr>\n",
              "      <th>2</th>\n",
              "      <td>0.391284</td>\n",
              "      <td>0.878200</td>\n",
              "      <td>0.628510</td>\n",
              "      <td>0.830333</td>\n",
              "    </tr>\n",
              "    <tr>\n",
              "      <th>3</th>\n",
              "      <td>0.260013</td>\n",
              "      <td>0.920467</td>\n",
              "      <td>0.552035</td>\n",
              "      <td>0.858000</td>\n",
              "    </tr>\n",
              "    <tr>\n",
              "      <th>4</th>\n",
              "      <td>0.205979</td>\n",
              "      <td>0.938867</td>\n",
              "      <td>0.596152</td>\n",
              "      <td>0.854333</td>\n",
              "    </tr>\n",
              "    <tr>\n",
              "      <th>5</th>\n",
              "      <td>0.131710</td>\n",
              "      <td>0.959400</td>\n",
              "      <td>0.642577</td>\n",
              "      <td>0.871667</td>\n",
              "    </tr>\n",
              "    <tr>\n",
              "      <th>6</th>\n",
              "      <td>0.100216</td>\n",
              "      <td>0.970200</td>\n",
              "      <td>1.012523</td>\n",
              "      <td>0.822333</td>\n",
              "    </tr>\n",
              "    <tr>\n",
              "      <th>7</th>\n",
              "      <td>0.125634</td>\n",
              "      <td>0.963267</td>\n",
              "      <td>0.797989</td>\n",
              "      <td>0.849667</td>\n",
              "    </tr>\n",
              "    <tr>\n",
              "      <th>8</th>\n",
              "      <td>0.215098</td>\n",
              "      <td>0.943933</td>\n",
              "      <td>0.744140</td>\n",
              "      <td>0.854000</td>\n",
              "    </tr>\n",
              "    <tr>\n",
              "      <th>9</th>\n",
              "      <td>0.100444</td>\n",
              "      <td>0.973400</td>\n",
              "      <td>0.705611</td>\n",
              "      <td>0.856000</td>\n",
              "    </tr>\n",
              "    <tr>\n",
              "      <th>10</th>\n",
              "      <td>0.086716</td>\n",
              "      <td>0.976800</td>\n",
              "      <td>0.910596</td>\n",
              "      <td>0.838667</td>\n",
              "    </tr>\n",
              "    <tr>\n",
              "      <th>11</th>\n",
              "      <td>0.094473</td>\n",
              "      <td>0.973733</td>\n",
              "      <td>0.796879</td>\n",
              "      <td>0.866333</td>\n",
              "    </tr>\n",
              "    <tr>\n",
              "      <th>12</th>\n",
              "      <td>0.091163</td>\n",
              "      <td>0.977067</td>\n",
              "      <td>0.793224</td>\n",
              "      <td>0.857000</td>\n",
              "    </tr>\n",
              "    <tr>\n",
              "      <th>13</th>\n",
              "      <td>0.093828</td>\n",
              "      <td>0.976333</td>\n",
              "      <td>0.813047</td>\n",
              "      <td>0.851667</td>\n",
              "    </tr>\n",
              "    <tr>\n",
              "      <th>14</th>\n",
              "      <td>0.113155</td>\n",
              "      <td>0.971867</td>\n",
              "      <td>1.050808</td>\n",
              "      <td>0.821333</td>\n",
              "    </tr>\n",
              "    <tr>\n",
              "      <th>15</th>\n",
              "      <td>0.072809</td>\n",
              "      <td>0.979333</td>\n",
              "      <td>1.056445</td>\n",
              "      <td>0.836667</td>\n",
              "    </tr>\n",
              "    <tr>\n",
              "      <th>16</th>\n",
              "      <td>0.082478</td>\n",
              "      <td>0.978800</td>\n",
              "      <td>0.825257</td>\n",
              "      <td>0.858667</td>\n",
              "    </tr>\n",
              "    <tr>\n",
              "      <th>17</th>\n",
              "      <td>0.045755</td>\n",
              "      <td>0.988000</td>\n",
              "      <td>0.935688</td>\n",
              "      <td>0.849333</td>\n",
              "    </tr>\n",
              "    <tr>\n",
              "      <th>18</th>\n",
              "      <td>0.092539</td>\n",
              "      <td>0.977867</td>\n",
              "      <td>1.023213</td>\n",
              "      <td>0.853667</td>\n",
              "    </tr>\n",
              "    <tr>\n",
              "      <th>19</th>\n",
              "      <td>0.065906</td>\n",
              "      <td>0.983867</td>\n",
              "      <td>1.022662</td>\n",
              "      <td>0.852667</td>\n",
              "    </tr>\n",
              "    <tr>\n",
              "      <th>20</th>\n",
              "      <td>0.071312</td>\n",
              "      <td>0.982467</td>\n",
              "      <td>0.990575</td>\n",
              "      <td>0.861333</td>\n",
              "    </tr>\n",
              "    <tr>\n",
              "      <th>21</th>\n",
              "      <td>0.070313</td>\n",
              "      <td>0.984267</td>\n",
              "      <td>1.123909</td>\n",
              "      <td>0.842333</td>\n",
              "    </tr>\n",
              "    <tr>\n",
              "      <th>22</th>\n",
              "      <td>0.070799</td>\n",
              "      <td>0.983533</td>\n",
              "      <td>1.047017</td>\n",
              "      <td>0.864333</td>\n",
              "    </tr>\n",
              "    <tr>\n",
              "      <th>23</th>\n",
              "      <td>0.072534</td>\n",
              "      <td>0.985200</td>\n",
              "      <td>1.522823</td>\n",
              "      <td>0.822333</td>\n",
              "    </tr>\n",
              "    <tr>\n",
              "      <th>24</th>\n",
              "      <td>0.064042</td>\n",
              "      <td>0.985267</td>\n",
              "      <td>1.096452</td>\n",
              "      <td>0.856667</td>\n",
              "    </tr>\n",
              "    <tr>\n",
              "      <th>25</th>\n",
              "      <td>0.089077</td>\n",
              "      <td>0.981067</td>\n",
              "      <td>1.026949</td>\n",
              "      <td>0.873000</td>\n",
              "    </tr>\n",
              "    <tr>\n",
              "      <th>26</th>\n",
              "      <td>0.054114</td>\n",
              "      <td>0.987533</td>\n",
              "      <td>1.201004</td>\n",
              "      <td>0.856333</td>\n",
              "    </tr>\n",
              "    <tr>\n",
              "      <th>27</th>\n",
              "      <td>0.066933</td>\n",
              "      <td>0.986067</td>\n",
              "      <td>1.317250</td>\n",
              "      <td>0.851333</td>\n",
              "    </tr>\n",
              "    <tr>\n",
              "      <th>28</th>\n",
              "      <td>0.072775</td>\n",
              "      <td>0.985067</td>\n",
              "      <td>1.218527</td>\n",
              "      <td>0.850333</td>\n",
              "    </tr>\n",
              "    <tr>\n",
              "      <th>29</th>\n",
              "      <td>0.084150</td>\n",
              "      <td>0.984933</td>\n",
              "      <td>0.949802</td>\n",
              "      <td>0.866333</td>\n",
              "    </tr>\n",
              "  </tbody>\n",
              "</table>\n",
              "</div>\n",
              "      <button class=\"colab-df-convert\" onclick=\"convertToInteractive('df-67912f03-8f2b-4055-b573-84334ea6112b')\"\n",
              "              title=\"Convert this dataframe to an interactive table.\"\n",
              "              style=\"display:none;\">\n",
              "        \n",
              "  <svg xmlns=\"http://www.w3.org/2000/svg\" height=\"24px\"viewBox=\"0 0 24 24\"\n",
              "       width=\"24px\">\n",
              "    <path d=\"M0 0h24v24H0V0z\" fill=\"none\"/>\n",
              "    <path d=\"M18.56 5.44l.94 2.06.94-2.06 2.06-.94-2.06-.94-.94-2.06-.94 2.06-2.06.94zm-11 1L8.5 8.5l.94-2.06 2.06-.94-2.06-.94L8.5 2.5l-.94 2.06-2.06.94zm10 10l.94 2.06.94-2.06 2.06-.94-2.06-.94-.94-2.06-.94 2.06-2.06.94z\"/><path d=\"M17.41 7.96l-1.37-1.37c-.4-.4-.92-.59-1.43-.59-.52 0-1.04.2-1.43.59L10.3 9.45l-7.72 7.72c-.78.78-.78 2.05 0 2.83L4 21.41c.39.39.9.59 1.41.59.51 0 1.02-.2 1.41-.59l7.78-7.78 2.81-2.81c.8-.78.8-2.07 0-2.86zM5.41 20L4 18.59l7.72-7.72 1.47 1.35L5.41 20z\"/>\n",
              "  </svg>\n",
              "      </button>\n",
              "      \n",
              "  <style>\n",
              "    .colab-df-container {\n",
              "      display:flex;\n",
              "      flex-wrap:wrap;\n",
              "      gap: 12px;\n",
              "    }\n",
              "\n",
              "    .colab-df-convert {\n",
              "      background-color: #E8F0FE;\n",
              "      border: none;\n",
              "      border-radius: 50%;\n",
              "      cursor: pointer;\n",
              "      display: none;\n",
              "      fill: #1967D2;\n",
              "      height: 32px;\n",
              "      padding: 0 0 0 0;\n",
              "      width: 32px;\n",
              "    }\n",
              "\n",
              "    .colab-df-convert:hover {\n",
              "      background-color: #E2EBFA;\n",
              "      box-shadow: 0px 1px 2px rgba(60, 64, 67, 0.3), 0px 1px 3px 1px rgba(60, 64, 67, 0.15);\n",
              "      fill: #174EA6;\n",
              "    }\n",
              "\n",
              "    [theme=dark] .colab-df-convert {\n",
              "      background-color: #3B4455;\n",
              "      fill: #D2E3FC;\n",
              "    }\n",
              "\n",
              "    [theme=dark] .colab-df-convert:hover {\n",
              "      background-color: #434B5C;\n",
              "      box-shadow: 0px 1px 3px 1px rgba(0, 0, 0, 0.15);\n",
              "      filter: drop-shadow(0px 1px 2px rgba(0, 0, 0, 0.3));\n",
              "      fill: #FFFFFF;\n",
              "    }\n",
              "  </style>\n",
              "\n",
              "      <script>\n",
              "        const buttonEl =\n",
              "          document.querySelector('#df-67912f03-8f2b-4055-b573-84334ea6112b button.colab-df-convert');\n",
              "        buttonEl.style.display =\n",
              "          google.colab.kernel.accessAllowed ? 'block' : 'none';\n",
              "\n",
              "        async function convertToInteractive(key) {\n",
              "          const element = document.querySelector('#df-67912f03-8f2b-4055-b573-84334ea6112b');\n",
              "          const dataTable =\n",
              "            await google.colab.kernel.invokeFunction('convertToInteractive',\n",
              "                                                     [key], {});\n",
              "          if (!dataTable) return;\n",
              "\n",
              "          const docLinkHtml = 'Like what you see? Visit the ' +\n",
              "            '<a target=\"_blank\" href=https://colab.research.google.com/notebooks/data_table.ipynb>data table notebook</a>'\n",
              "            + ' to learn more about interactive tables.';\n",
              "          element.innerHTML = '';\n",
              "          dataTable['output_type'] = 'display_data';\n",
              "          await google.colab.output.renderOutput(dataTable, element);\n",
              "          const docLink = document.createElement('div');\n",
              "          docLink.innerHTML = docLinkHtml;\n",
              "          element.appendChild(docLink);\n",
              "        }\n",
              "      </script>\n",
              "    </div>\n",
              "  </div>\n",
              "  "
            ]
          },
          "metadata": {},
          "execution_count": 12
        }
      ],
      "source": [
        "history_df = pd.DataFrame(history.history)\n",
        "history_df"
      ]
    },
    {
      "cell_type": "code",
      "execution_count": null,
      "metadata": {
        "id": "dapQRYewd_Q0",
        "colab": {
          "base_uri": "https://localhost:8080/",
          "height": 279
        },
        "outputId": "580da8a3-138f-41e7-ef5b-7a2aa4b5e485"
      },
      "outputs": [
        {
          "output_type": "display_data",
          "data": {
            "text/plain": [
              "<Figure size 432x288 with 2 Axes>"
            ],
            "image/png": "[encoded data removed]"
          },
          "metadata": {
            "needs_background": "light"
          }
        }
      ],
      "source": [
        "fig, loss_ax = plt.subplots()\n",
        "acc_ax = loss_ax.twinx()\n",
        "\n",
        "loss_ax.plot(history.history['loss'], 'y', label = 'train loss')\n",
        "loss_ax.plot(history.history['val_loss'], 'r', label = 'val loss')\n",
        "\n",
        "acc_ax.plot(history.history['accuracy'], 'b', label = 'train accuracy')\n",
        "acc_ax.plot(history.history['val_accuracy'], 'g', label = 'val accuracy')\n",
        "\n",
        "loss_ax.set_xlabel('epoch')\n",
        "loss_ax.set_ylabel('loss')\n",
        "acc_ax.set_ylabel('accuracy')\n",
        "\n",
        "loss_ax.legend(loc = 'upper left')\n",
        "acc_ax.legend(loc = 'lower left')\n",
        "\n",
        "plt.show()"
      ]
    },
    {
      "cell_type": "code",
      "execution_count": null,
      "metadata": {
        "id": "_OkmHh0KCV7k",
        "colab": {
          "base_uri": "https://localhost:8080/"
        },
        "outputId": "e30c1460-518d-4821-98b0-2be78456f496"
      },
      "outputs": [
        {
          "output_type": "stream",
          "name": "stdout",
          "text": [
            "469/469 [==============================] - 4s 8ms/step - loss: 0.0159 - accuracy: 0.9958\n",
            "[0.015947233885526657, 0.9958000183105469]\n"
          ]
        }
      ],
      "source": [
        "acc = model.evaluate(train_x,train_y)\n",
        "print(acc)"
      ]
    },
    {
      "cell_type": "code",
      "execution_count": null,
      "metadata": {
        "id": "KrUqzoqgC-fe",
        "colab": {
          "base_uri": "https://localhost:8080/"
        },
        "outputId": "1204ec2e-dcca-4064-8b5c-c7dd1a472127"
      },
      "outputs": [
        {
          "output_type": "stream",
          "name": "stdout",
          "text": [
            "94/94 [==============================] - 1s 7ms/step\n"
          ]
        },
        {
          "output_type": "execute_result",
          "data": {
            "text/plain": [
              "3000"
            ]
          },
          "metadata": {},
          "execution_count": 15
        }
      ],
      "source": [
        "y_pred=model.predict(test_x)\n",
        "len(y_pred)"
      ]
    },
    {
      "cell_type": "code",
      "execution_count": null,
      "metadata": {
        "id": "NyL6Cl2rO_X2"
      },
      "outputs": [],
      "source": [
        "def acc(_test, _y):\n",
        "    Tp = 0\n",
        "    Negative = 0\n",
        "    cnt = 0\n",
        "    for num in _test:\n",
        "        if np.argmax(num)==_y[cnt]:\n",
        "            Tp+=1\n",
        "        else:\n",
        "            Negative += 1\n",
        "        cnt += 1\n",
        "    print(\"맞춘 갯수 : \", Tp)\n",
        "    print(\"틀린 갯수 : \", Negative)\n",
        "    print(\"정확도 : \", Tp/(Tp+Negative)*100, \"%\")"
      ]
    },
    {
      "cell_type": "code",
      "execution_count": null,
      "metadata": {
        "id": "WY-EFAVrO_Vb",
        "colab": {
          "base_uri": "https://localhost:8080/"
        },
        "outputId": "6b82de1e-11ae-436f-d5df-351e574b211b"
      },
      "outputs": [
        {
          "output_type": "stream",
          "name": "stdout",
          "text": [
            "맞춘 갯수 :  2596\n",
            "틀린 갯수 :  404\n",
            "정확도 :  86.53333333333333 %\n"
          ]
        }
      ],
      "source": [
        "acc(y_pred, test_y)"
      ]
    },
    {
      "cell_type": "code",
      "execution_count": null,
      "metadata": {
        "id": "mG0kzHqXDEC6",
        "colab": {
          "base_uri": "https://localhost:8080/"
        },
        "outputId": "9a8af716-0ed5-4b6c-849b-7f3cbae29705"
      },
      "outputs": [
        {
          "output_type": "stream",
          "name": "stdout",
          "text": [
            "94/94 [==============================] - 1s 7ms/step\n"
          ]
        },
        {
          "output_type": "execute_result",
          "data": {
            "text/plain": [
              "0.8653333333333333"
            ]
          },
          "metadata": {},
          "execution_count": 18
        }
      ],
      "source": [
        "from sklearn.metrics import accuracy_score\n",
        "\n",
        "y_pred=model.predict(test_x)\n",
        "y_pred=np.argmax(y_pred, axis=-1)\n",
        "\n",
        "accuracy_score(test_y,y_pred)"
      ]
    },
    {
      "cell_type": "code",
      "execution_count": null,
      "metadata": {
        "colab": {
          "base_uri": "https://localhost:8080/",
          "height": 127
        },
        "id": "dwAdqbaYDE_h",
        "outputId": "a053ae56-c857-495a-f26f-cc563850323a"
      },
      "outputs": [
        {
          "output_type": "execute_result",
          "data": {
            "text/plain": [
              "'              precision    recall  f1-score   support\\n\\n           0       0.82      0.91      0.86       200\\n           1       0.89      0.85      0.87       200\\n           2       0.96      0.96      0.96       200\\n           3       0.88      0.84      0.86       200\\n           4       0.83      0.81      0.82       200\\n           5       0.77      0.80      0.78       200\\n           6       0.95      0.92      0.93       200\\n           7       0.96      0.91      0.93       200\\n           8       0.81      0.78      0.79       200\\n           9       0.93      0.91      0.92       200\\n          10       0.94      0.92      0.93       200\\n          11       0.94      0.88      0.90       200\\n          12       0.79      0.78      0.78       200\\n          13       0.90      0.92      0.91       200\\n          14       0.68      0.82      0.75       200\\n\\n    accuracy                           0.87      3000\\n   macro avg       0.87      0.87      0.87      3000\\nweighted avg       0.87      0.87      0.87      3000\\n'"
            ],
            "application/vnd.google.colaboratory.intrinsic+json": {
              "type": "string"
            }
          },
          "metadata": {},
          "execution_count": 19
        }
      ],
      "source": [
        "from sklearn.metrics import confusion_matrix, classification_report\n",
        "\n",
        "# confusion_matrix(test_y, y_pred)\n",
        "classification_report(test_y, y_pred)"
      ]
    },
    {
      "cell_type": "code",
      "source": [
        "              precision    recall  f1-score   support\n",
        "\n",
        "           0       0.82      0.91      0.86       200\n",
        "           1       0.89      0.85      0.87       200\n",
        "           2       0.96      0.96      0.96       200\n",
        "           3       0.88      0.84      0.86       200\n",
        "           4       0.83      0.81      0.82       200\n",
        "           5       0.77      0.80      0.78       200\n",
        "           6       0.95      0.92      0.93       200\n",
        "           7       0.96      0.91      0.93       200\n",
        "           8       0.81      0.78      0.79       200\n",
        "           9       0.93      0.91      0.92       200\n",
        "          10       0.94      0.92      0.93       200\n",
        "          11       0.94      0.88      0.90       200\n",
        "          12       0.79      0.78      0.78       200\n",
        "          13       0.90      0.92      0.91       200\n",
        "          14       0.68      0.82      0.75       200\n",
        "\n",
        "    accuracy                           0.87      3000\n",
        "   macro avg       0.87      0.87      0.87      3000\n",
        "weighted avg       0.87      0.87      0.87      3000\n"
      ],
      "metadata": {
        "id": "I-aRRHgnWPnq"
      },
      "execution_count": null,
      "outputs": []
    },
    {
      "cell_type": "code",
      "source": [
        "def plot_roc_curve(fper, tper):\n",
        "    plt.plot(fper, tper, color='red', label='ROC')\n",
        "    plt.plot([0, 1], [0, 1], color='green', linestyle='--')\n",
        "    plt.xlabel('False Positive Rate')\n",
        "    plt.ylabel('True Positive Rate')\n",
        "    plt.title('Receiver Operating Characteristic Curve')\n",
        "    plt.legend()\n",
        "    plt.show()"
      ],
      "metadata": {
        "id": "QAsv0BGSejzL"
      },
      "execution_count": null,
      "outputs": []
    },
    {
      "cell_type": "code",
      "execution_count": null,
      "metadata": {
        "id": "PZBCfQTkyjB6",
        "colab": {
          "base_uri": "https://localhost:8080/",
          "height": 331
        },
        "outputId": "7b2efb61-1556-4f27-d6c9-dc93421daa28"
      },
      "outputs": [
        {
          "output_type": "stream",
          "name": "stdout",
          "text": [
            "94/94 [==============================] - 1s 7ms/step\n",
            "[ 0  0  1 ... 14 14 14]\n"
          ]
        },
        {
          "output_type": "display_data",
          "data": {
            "text/plain": [
              "<Figure size 432x288 with 1 Axes>"
            ],
            "image/png": "[encoded data removed]"
          },
          "metadata": {
            "needs_background": "light"
          }
        }
      ],
      "source": [
        "from sklearn.metrics import roc_curve\n",
        "\n",
        "\n",
        "y_pred=model.predict(test_x)\n",
        "y_pred=np.argmax(y_pred, axis=-1)\n",
        "print(y_pred)\n",
        "# prob = model.predict_proba(test_x)\n",
        "# prob = model.predict(test_x, verbose=0) \n",
        "# prob = prob[:, 1]\n",
        "fper, tper, thresholds = roc_curve(test_y, y_pred, pos_label=14)\n",
        "plot_roc_curve(fper, tper)"
      ]
    },
    {
      "cell_type": "code",
      "source": [
        "classes = list(test_x)\n",
        "real_classes = [classes[x] for x in test_y]\n",
        "\n",
        "pred = tf.argmax(model.predict(test_x),axis=1)\n",
        "pred_classes = [classes[x] for x in pred]"
      ],
      "metadata": {
        "id": "qQ0p0Ct0e9_r",
        "colab": {
          "base_uri": "https://localhost:8080/"
        },
        "outputId": "70ae8c33-d6dd-41ce-e21c-605f95cf6fe9"
      },
      "execution_count": null,
      "outputs": [
        {
          "output_type": "stream",
          "name": "stdout",
          "text": [
            "94/94 [==============================] - 1s 7ms/step\n"
          ]
        }
      ]
    },
    {
      "cell_type": "code",
      "source": [
        "from sklearn.metrics import confusion_matrix\n",
        "prediction = confusion_matrix(test_y, y_pred)"
      ],
      "metadata": {
        "id": "6VCBnW3TpfKf"
      },
      "execution_count": null,
      "outputs": []
    },
    {
      "cell_type": "code",
      "source": [
        "import seaborn as sns\n",
        "\n",
        "m = pd.DataFrame(prediction, index = [i for i in range(len(prediction[0]))], columns = [i for i in range(len(prediction[0]))])\n",
        "plt.figure(figsize=(15,15))\n",
        "plt.title(\"confusion matrix\")\n",
        "con_matric = sns.heatmap(m,annot=True,fmt='d',cmap=\"YlGn\")\n",
        "con_matric.set_xlabel(\"Real\")\n",
        "con_matric.set_ylabel(\"Predict\")"
      ],
      "metadata": {
        "id": "Ic8X0x2cnXpo",
        "colab": {
          "base_uri": "https://localhost:8080/",
          "height": 911
        },
        "outputId": "c3298142-2e22-47e5-afbd-da9bf80e0ec2"
      },
      "execution_count": null,
      "outputs": [
        {
          "output_type": "execute_result",
          "data": {
            "text/plain": [
              "Text(114.0, 0.5, 'Predict')"
            ]
          },
          "metadata": {},
          "execution_count": 24
        },
        {
          "output_type": "display_data",
          "data": {
            "text/plain": [
              "<Figure size 1080x1080 with 2 Axes>"
            ],
            "image/png": "[encoded data removed]"
          },
          "metadata": {
            "needs_background": "light"
          }
        }
      ]
    }
  ]
}